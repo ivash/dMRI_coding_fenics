{
 "cells": [
  {
   "cell_type": "code",
   "execution_count": 1,
   "metadata": {},
   "outputs": [],
   "source": [
    "import dipy"
   ]
  },
  {
   "cell_type": "code",
   "execution_count": 2,
   "metadata": {},
   "outputs": [],
   "source": [
    "from dipy.io.image import load_nifti, save_nifti\n",
    "from dipy.io.gradients import read_bvals_bvecs"
   ]
  },
  {
   "cell_type": "code",
   "execution_count": 3,
   "metadata": {},
   "outputs": [],
   "source": [
    "from fenics import *\n",
    "from mshr import *\n",
    "#from math import pi, sin, cos, sqrt\n",
    "import math\n",
    "import matplotlib.pyplot as plt\n",
    "import numpy as np\n",
    "import nibabel as nib\n",
    "import os\n",
    "import subprocess"
   ]
  },
  {
   "cell_type": "code",
   "execution_count": 4,
   "metadata": {
    "scrolled": true
   },
   "outputs": [],
   "source": [
    "fname = 'dMRI_data/motion_correction_test/registrated/correct.nii.gz' \n",
    "#fname = 'dMRI_data/ms-ras_data.nii.gz' \n",
    "data, affine = load_nifti(fname)\n",
    "dims = data.shape\n",
    "data_float = data.astype(np.float32)"
   ]
  },
  {
   "cell_type": "code",
   "execution_count": 5,
   "metadata": {},
   "outputs": [],
   "source": [
    "bval_fname = 'dMRI_data/ms-ras.bval' \n",
    "reg_bvec_fname = 'dMRI_data/motion_correction_test/registrated/reornt_ms-ras.bvec' \n",
    "\n",
    "bvals, reg_bvecs = read_bvals_bvecs(bval_fname, reg_bvec_fname)\n",
    "#print('b vectors: ', reg_bvecs)"
   ]
  },
  {
   "cell_type": "code",
   "execution_count": 6,
   "metadata": {},
   "outputs": [],
   "source": [
    "parameters['allow_extrapolation'] = True"
   ]
  },
  {
   "cell_type": "code",
   "execution_count": 7,
   "metadata": {},
   "outputs": [],
   "source": [
    "#Input volume number\n",
    "k = 15\n",
    "\n",
    "#B vector\n",
    "b = 700\n",
    "b2000_indcs = np.where(bvals==b)\n",
    "b0_inds = np.where(bvals==0)\n",
    "b0_ind = b0_inds[0][0]"
   ]
  },
  {
   "cell_type": "code",
   "execution_count": 8,
   "metadata": {},
   "outputs": [
    {
     "name": "stdout",
     "output_type": "stream",
     "text": [
      "b sub vectors:  [[-0.18574343  0.4923446   0.85035082]\n",
      " [-0.6849867   0.51917214 -0.51112974]\n",
      " [ 0.63181124  0.74418271 -0.21681058]\n",
      " [ 0.44714647  0.15045323  0.88171648]\n",
      " [-0.20241895  0.93260312  0.29879403]\n",
      " [-0.16174908 -0.20302294  0.96572189]\n",
      " [ 0.8332131   0.19388779 -0.5178447 ]\n",
      " [ 0.40741781  0.72227316  0.55886704]\n",
      " [-0.03663999  0.74495526 -0.6661074 ]\n",
      " [-0.98474824  0.16439807 -0.0569561 ]\n",
      " [-0.71949191  0.49922795  0.4828074 ]\n",
      " [ 0.7458839   0.51431935  0.42324118]\n",
      " [-0.66738858  0.72807149 -0.15653884]\n",
      " [-0.38186049  0.14063608  0.91345714]\n",
      " [ 0.62032477  0.53973253 -0.56910961]]\n",
      "sorted b sub vector indeces  [ 0.  2.  3.  4.  7.  8. 10. 13. 15. 16. 18. 20. 23. 25. 28. 31.]\n"
     ]
    }
   ],
   "source": [
    "#To select well distruted (farthes pointing vectors in 3D)\n",
    "def calc_distances(p0, points):\n",
    "    return np.minimum(((p0 - points)**2).sum(axis=1), ((-p0 - points)**2).sum(axis=1))\n",
    "    #return ((p0 - points)**2).sum(axis=1) \n",
    "def farthestPts(pts, K):\n",
    "    farthest_pts = np.zeros((K, 3))\n",
    "    pts_inds = np.zeros(K)\n",
    "    #farthest_pts[0] = pts[np.random.randint(len(pts))]\n",
    "    farthest_pts[0] = pts[1]\n",
    "    pts_inds[0] = 1\n",
    "    distances = calc_distances(farthest_pts[0], pts)\n",
    "    for i in range(1, K):\n",
    "        farthest_pts[i] = pts[np.argmax(distances)]\n",
    "        pts_inds[i] = np.argmax(distances)\n",
    "        distances = np.minimum(distances, calc_distances(farthest_pts[i], pts))\n",
    "    return farthest_pts, pts_inds\n",
    "sub_bvecs, sub_indcs = farthestPts(reg_bvecs[bvals==b], k)\n",
    "print('b sub vectors: ', sub_bvecs)\n",
    "#print('b sub vector indecs ', sub_indcs)\n",
    "\n",
    "#def calc_distances(p0, points):\n",
    "#    return np.minimum(((p0 - points)**2).sum(axis=1), ((-p0 - points)**2).sum(axis=1))\n",
    "#def closestPts(pts, K):\n",
    "#    closest_pts = np.zeros((K, 3))\n",
    "#    pts_inds = np.zeros(K)\n",
    "#    #closest_pts[0] = pts[np.random.randint(len(pts))]\n",
    "#    closest_pts[0] = pts[1]\n",
    "#    pts_inds[0] = 1\n",
    "#    distances = calc_distances(closest_pts[0], pts)\n",
    "#    distances[int(pts_inds[0])] = 1000.0\n",
    "#    for i in range(1, K):\n",
    "#        closest_pts[i] = pts[np.argmin(distances)]\n",
    "#        pts_inds[i] = np.argmin(distances)\n",
    "#        #distances = np.minimum(distances, calc_distances(closest_pts[i], pts))\n",
    "#        distances[int(pts_inds[i])] = 1000.0\n",
    "#    return closest_pts, pts_inds\n",
    "#sub_bvecs, sub_indcs = closestPts(bvecs[bvals==b], k)\n",
    "#print('b sub vectors: ', sub_bvecs)\n",
    "\n",
    "#Choose true indeces\n",
    "true_sub_indcs = np.zeros(len(sub_indcs))\n",
    "for i in range(len(sub_indcs)):\n",
    "    true_sub_indcs[i] = b2000_indcs[0][int(sub_indcs[i])]\n",
    "true_sub_indcs = np.append(true_sub_indcs, b0_ind)\n",
    "sorted_true_sub_indcs = np.sort(true_sub_indcs)\n",
    "#print('b sub vectors: ', sub_bvecs)\n",
    "print('sorted b sub vector indeces ', sorted_true_sub_indcs)"
   ]
  },
  {
   "cell_type": "code",
   "execution_count": 9,
   "metadata": {},
   "outputs": [
    {
     "name": "stdout",
     "output_type": "stream",
     "text": [
      "[  0. 700. 700. 700. 700. 700. 700. 700. 700. 700. 700. 700. 700. 700.\n",
      " 700. 700.]\n",
      "(104, 104, 72, 16)\n"
     ]
    }
   ],
   "source": [
    "# Selecting one b0 and k+7 b700 voxels\n",
    "sorted_true_sub_indcs = sorted_true_sub_indcs.astype(int)\n",
    "sub_bvals = bvals[sorted_true_sub_indcs]\n",
    "print(sub_bvals)\n",
    "\n",
    "sub_data = data_float[:, :, :, sorted_true_sub_indcs]\n",
    "print(sub_data.shape)"
   ]
  },
  {
   "cell_type": "code",
   "execution_count": 10,
   "metadata": {},
   "outputs": [
    {
     "name": "stdout",
     "output_type": "stream",
     "text": [
      "b sub vector indecs  [ 0.  2.  3.  4.  7.  8. 10. 11. 13. 15. 16. 18. 20. 23. 25. 28. 31.]\n",
      "Predicted volume:  11\n"
     ]
    }
   ],
   "source": [
    "#Volume Index to predict\n",
    "#nextIter_sub_bvecs, nextIter_sub_indcs = closestPts(reg_bvecs[bvals==b], k+1)\n",
    "nextIter_sub_bvecs, nextIter_sub_indcs = farthestPts(reg_bvecs[bvals==b], k+1)\n",
    "nextIter_true_sub_indcs = np.zeros(len(nextIter_sub_indcs))\n",
    "for i in range(len(nextIter_sub_indcs)):\n",
    "    nextIter_true_sub_indcs[i] = b2000_indcs[0][int(nextIter_sub_indcs[i])]\n",
    "nextIter_true_sub_indcs = np.append(nextIter_true_sub_indcs, b0_ind)\n",
    "sorted_nextIter_true_sub_indcs = np.sort(nextIter_true_sub_indcs)\n",
    "print('b sub vector indecs ', sorted_nextIter_true_sub_indcs)\n",
    "nextIter_sub_indcs = sorted_nextIter_true_sub_indcs.astype(int)\n",
    "    \n",
    "inter_sub_indcs = [i for i in sorted_nextIter_true_sub_indcs if i not in sorted_true_sub_indcs]\n",
    "if len(inter_sub_indcs) != 0: \n",
    "    left_indcs = inter_sub_indcs[0]\n",
    "else:\n",
    "    left_indcs = np.arange(data.shape[3])\n",
    "    left_indcs = np.delete(left_indcs, sorted_true_sub_indcs)\n",
    "    print(left_indcs)\n",
    "    left_indcs = left_indcs[0]\n",
    "left_indcs = left_indcs.astype(int)\n",
    "print(\"Predicted volume: \", left_indcs)"
   ]
  },
  {
   "cell_type": "code",
   "execution_count": 11,
   "metadata": {},
   "outputs": [
    {
     "name": "stdout",
     "output_type": "stream",
     "text": [
      "[  0. 700. 700. 700. 700. 700. 700. 700. 700. 700. 700. 700. 700. 700.\n",
      " 700. 700.]\n",
      "float32\n",
      "(104, 104, 72, 15)\n",
      "2\n",
      "3\n",
      "4\n",
      "7\n",
      "8\n",
      "10\n",
      "13\n",
      "15\n",
      "16\n",
      "18\n",
      "20\n",
      "23\n",
      "25\n",
      "28\n",
      "31\n"
     ]
    }
   ],
   "source": [
    "# Selecting one b0 and k+7 b700 voxels\n",
    "sorted_true_sub_indcs = sorted_true_sub_indcs.astype(int)\n",
    "sub_bvals = bvals[sorted_true_sub_indcs]\n",
    "print(sub_bvals)\n",
    "\n",
    "#Creating Residual array\n",
    "sub_data = np.arange(data_float.shape[0]*data_float.shape[1]*data_float.shape[2]*(sub_bvals.shape[0]-1), dtype='float32')\n",
    "sub_data = np.reshape(sub_data, (data_float.shape[0],data_float.shape[1],data_float.shape[2],(sub_bvals.shape[0]-1)))\n",
    "print(sub_data.dtype)\n",
    "print(sub_data.shape)\n",
    "\n",
    "it = 0\n",
    "for ind in sorted_true_sub_indcs:\n",
    "    if bvals[int(ind)]!=0:\n",
    "        print(int(ind))\n",
    "        fname = 'dMRI_data/motion_correction_test/registrated/registered/reg_volume' + str(int(ind)) + '_in_predicting' + str(left_indcs) + '.nii.gz' \n",
    "        vol, vol_affine = load_nifti(fname)\n",
    "        vol_float = vol.astype(np.float32)\n",
    "        sub_data[...,it] = vol_float.copy()\n",
    "        it = it+1"
   ]
  },
  {
   "cell_type": "code",
   "execution_count": 12,
   "metadata": {},
   "outputs": [
    {
     "data": {
      "text/plain": [
       "<mpl_toolkits.mplot3d.art3d.Poly3DCollection at 0x7f24e1a57eb8>"
      ]
     },
     "execution_count": 12,
     "metadata": {},
     "output_type": "execute_result"
    },
    {
     "data": {
      "image/png": "[encoded data removed]",
      "text/plain": [
       "<Figure size 432x288 with 1 Axes>"
      ]
     },
     "metadata": {
      "needs_background": "light"
     },
     "output_type": "display_data"
    }
   ],
   "source": [
    "# Mesh and function space\n",
    "#sphere = Sphere(Point(0.0, 0.0, 0.0), 1.0)\n",
    "#vmesh = generate_mesh(sphere, 5)\n",
    "#mesh = BoundaryMesh(vmesh, \"exterior\")\n",
    "#plot(mesh)\n",
    "\n",
    "#mesh = Mesh('LH/mesh.xml')\n",
    "mesh = Mesh('LH/mesh_on_sphere_myself__reg_b700_700_del_fib0_1.xml')\n",
    "plot(mesh)"
   ]
  },
  {
   "cell_type": "code",
   "execution_count": 13,
   "metadata": {},
   "outputs": [
    {
     "name": "stdout",
     "output_type": "stream",
     "text": [
      "0\n",
      "2\n",
      "3\n",
      "4\n",
      "7\n",
      "8\n",
      "10\n",
      "11\n",
      "13\n",
      "15\n",
      "16\n",
      "18\n",
      "20\n",
      "23\n",
      "25\n",
      "28\n",
      "31\n"
     ]
    }
   ],
   "source": [
    "for ind in nextIter_sub_indcs:\n",
    "    print(ind)"
   ]
  },
  {
   "cell_type": "code",
   "execution_count": 14,
   "metadata": {},
   "outputs": [
    {
     "name": "stdout",
     "output_type": "stream",
     "text": [
      "0\n",
      "2\n",
      "3\n",
      "4\n",
      "7\n",
      "8\n",
      "10\n",
      "13\n",
      "15\n",
      "16\n",
      "18\n",
      "20\n",
      "23\n",
      "25\n",
      "28\n",
      "31\n"
     ]
    }
   ],
   "source": [
    "for ind in sorted_true_sub_indcs:\n",
    "    print(ind)"
   ]
  },
  {
   "cell_type": "code",
   "execution_count": 15,
   "metadata": {},
   "outputs": [
    {
     "data": {
      "text/plain": [
       "11"
      ]
     },
     "execution_count": 15,
     "metadata": {},
     "output_type": "execute_result"
    }
   ],
   "source": [
    "left_indcs"
   ]
  },
  {
   "cell_type": "code",
   "execution_count": 16,
   "metadata": {},
   "outputs": [],
   "source": [
    "## Optimization options for the form compiler\n",
    "#parameters[\"form_compiler\"][\"cpp_optimize\"] = True\n",
    "#parameters[\"form_compiler\"][\"optimize\"] = True"
   ]
  },
  {
   "cell_type": "code",
   "execution_count": 17,
   "metadata": {},
   "outputs": [],
   "source": [
    "## Make mesh ghosted for evaluation of DG terms\n",
    "#parameters[\"ghost_mode\"] = \"shared_facet\""
   ]
  },
  {
   "cell_type": "code",
   "execution_count": 40,
   "metadata": {},
   "outputs": [
    {
     "name": "stdout",
     "output_type": "stream",
     "text": [
      "0.0\n",
      "0.0\n",
      "0.0\n",
      "0.0\n",
      "0.0\n",
      "0.0\n",
      "0.0\n",
      "0.0\n",
      "0.0\n",
      "0.0\n",
      "0.0\n",
      "0.0\n",
      "0.0\n",
      "0.0\n",
      "0.0\n",
      "0.0\n"
     ]
    }
   ],
   "source": [
    "bvec_volPredict = reg_bvecs[left_indcs]\n",
    "lh_coefs = np.zeros(len(sorted_true_sub_indcs))\n",
    "\n",
    "for l in range(len(sorted_true_sub_indcs)):\n",
    "    if sorted_true_sub_indcs[l] != 0:\n",
    "        Element_BDM = FiniteElement(\"BDM\", mesh.ufl_cell(), 1)\n",
    "        Element_DG = FiniteElement(\"DG\", mesh.ufl_cell(), 0)\n",
    "        # Define the mixed element\n",
    "        W_elem = MixedElement([Element_BDM, Element_DG])\n",
    "        # Define the mixed function space\n",
    "        W = FunctionSpace(mesh, W_elem)\n",
    "        \n",
    "        \n",
    "        # get coordinates of DOFs\n",
    "        dof_coords = W.tabulate_dof_coordinates()\n",
    "        \n",
    "        bcs = []\n",
    "        for ind in sorted_true_sub_indcs:\n",
    "            if ind!=0:\n",
    "                if ind==sorted_true_sub_indcs[l]:\n",
    "                    # find nearest DOF:\n",
    "                    dof = np.argmin(np.linalg.norm(dof_coords - reg_bvecs[ind], axis=1))\n",
    "                    #print('dof {}, x = {}'.format(dof, dof_coords[dof]))\n",
    "                    dof_sym = np.argmin(np.linalg.norm(dof_coords + reg_bvecs[ind], axis=1))\n",
    "                    #print('dof {}, x = {}'.format(dof_sym, dof_coords[dof_sym])) \n",
    "\n",
    "                    # now define a DirichletBC at that point\n",
    "                    bcs.extend([DirichletBC(W.sub(1), Constant(1.0),\n",
    "                                     'near(x[0], {x}) && near(x[1], {y}) && near(x[2], {z})'.format(x=dof_coords[dof][0], y=dof_coords[dof][1], z=dof_coords[dof][2]),\n",
    "                                     'pointwise'),\n",
    "                                DirichletBC(W.sub(1), Constant(1.0),\n",
    "                                     'near(x[0], {x}) && near(x[1], {y}) && near(x[2], {z})'.format(x=dof_coords[dof_sym][0], y=dof_coords[dof_sym][1], z=dof_coords[dof_sym][2]),\n",
    "                                     'pointwise')])\n",
    "                else:\n",
    "                    # find nearest DOF:\n",
    "                    dof = np.argmin(np.linalg.norm(dof_coords - reg_bvecs[ind], axis=1))\n",
    "                    #print('dof {}, x = {}'.format(dof, dof_coords[dof]))\n",
    "                    dof_sym = np.argmin(np.linalg.norm(dof_coords + reg_bvecs[ind], axis=1))\n",
    "                    #print('dof {}, x = {}'.format(dof_sym, dof_coords[dof_sym])) \n",
    "\n",
    "                    # now define a DirichletBC at that point\n",
    "                    bcs.extend([DirichletBC(W.sub(1), Constant(0.0),\n",
    "                                     'near(x[0], {x}) && near(x[1], {y}) && near(x[2], {z})'.format(x=dof_coords[dof][0], y=dof_coords[dof][1], z=dof_coords[dof][2]),\n",
    "                                     'pointwise'),\n",
    "                                DirichletBC(W.sub(1), Constant(0.0),\n",
    "                                     'near(x[0], {x}) && near(x[1], {y}) && near(x[2], {z})'.format(x=dof_coords[dof_sym][0], y=dof_coords[dof_sym][1], z=dof_coords[dof_sym][2]),\n",
    "                                     'pointwise')])\n",
    "                    \n",
    "        # Define trial and test functions\n",
    "        #u = TrialFunction(V)\n",
    "        #v = TestFunction(V)\n",
    "        # Define trial and test functions\n",
    "        (sigma, u) = TrialFunctions(W)\n",
    "        (tau, v) = TestFunctions(W)\n",
    "\n",
    "        # Define source function\n",
    "        f = Constant(0.0)\n",
    "\n",
    "        # Define variational form\n",
    "        a = (dot(sigma, tau) + div(tau)*u + div(sigma)*v)*dx\n",
    "        L = - f*v*dx\n",
    "       \n",
    "        # Compute solution\n",
    "        w = Function(W)\n",
    "        solve(a == L, w, bcs)\n",
    "        (sigma, u) = w.split()\n",
    "        \n",
    "        lh_coefs[l] = u(bvec_volPredict)\n",
    "        print(lh_coefs[l])\n",
    "    else:\n",
    "        lh_coefs[l] = 0\n",
    "        print(lh_coefs[l])"
   ]
  },
  {
   "cell_type": "code",
   "execution_count": 19,
   "metadata": {},
   "outputs": [
    {
     "data": {
      "text/plain": [
       "array([ 0.        ,  0.05081537,  0.03543987,  0.36501141,  0.51185619,\n",
       "        0.08157203, -0.05027305, -0.17725609, -0.05650711,  0.10584154,\n",
       "        0.00595795, -0.15884553, -0.1879158 , -0.24620125,  0.02072951,\n",
       "       -0.00753496])"
      ]
     },
     "execution_count": 19,
     "metadata": {},
     "output_type": "execute_result"
    }
   ],
   "source": [
    "lh_coefs"
   ]
  },
  {
   "cell_type": "code",
   "execution_count": 20,
   "metadata": {},
   "outputs": [
    {
     "data": {
      "text/plain": [
       "array([25, 23, 13, 20, 15, 10, 31,  0, 18, 28,  3,  2,  8, 16,  4,  7])"
      ]
     },
     "execution_count": 20,
     "metadata": {},
     "output_type": "execute_result"
    }
   ],
   "source": [
    "sorted_true_sub_indcs[np.argsort(lh_coefs)]"
   ]
  },
  {
   "cell_type": "code",
   "execution_count": 21,
   "metadata": {},
   "outputs": [
    {
     "data": {
      "text/plain": [
       "7"
      ]
     },
     "execution_count": 21,
     "metadata": {},
     "output_type": "execute_result"
    }
   ],
   "source": [
    "len(lh_coefs[lh_coefs>0.01])"
   ]
  },
  {
   "cell_type": "code",
   "execution_count": 22,
   "metadata": {},
   "outputs": [
    {
     "data": {
      "text/plain": [
       "6"
      ]
     },
     "execution_count": 22,
     "metadata": {},
     "output_type": "execute_result"
    }
   ],
   "source": [
    "len(lh_coefs[lh_coefs<-0.01])"
   ]
  },
  {
   "cell_type": "code",
   "execution_count": 23,
   "metadata": {},
   "outputs": [
    {
     "data": {
      "text/plain": [
       "15"
      ]
     },
     "execution_count": 23,
     "metadata": {},
     "output_type": "execute_result"
    }
   ],
   "source": [
    "len(lh_coefs[lh_coefs!=0])"
   ]
  },
  {
   "cell_type": "code",
   "execution_count": 24,
   "metadata": {},
   "outputs": [
    {
     "data": {
      "text/plain": [
       "16"
      ]
     },
     "execution_count": 24,
     "metadata": {},
     "output_type": "execute_result"
    }
   ],
   "source": [
    "len(lh_coefs)"
   ]
  },
  {
   "cell_type": "code",
   "execution_count": 25,
   "metadata": {},
   "outputs": [
    {
     "data": {
      "text/plain": [
       "0.29269009959756864"
      ]
     },
     "execution_count": 25,
     "metadata": {},
     "output_type": "execute_result"
    }
   ],
   "source": [
    "np.sum(lh_coefs)"
   ]
  },
  {
   "cell_type": "code",
   "execution_count": 26,
   "metadata": {},
   "outputs": [],
   "source": [
    "# Save solution to file in VTK format\n",
    "vtkfile = File('multi_shell/solution.pvd')\n",
    "vtkfile << u"
   ]
  },
  {
   "cell_type": "code",
   "execution_count": 35,
   "metadata": {},
   "outputs": [
    {
     "name": "stdout",
     "output_type": "stream",
     "text": [
      "0 0 0 0.0\n",
      "0 1 2 0.050815374510645425\n",
      "1 2 3 0.03543987254834544\n",
      "2 3 4 0.3650114118447391\n",
      "3 4 7 0.5118561869644759\n",
      "4 5 8 0.08157202862315738\n",
      "5 6 10 -0.0502730500066357\n",
      "6 7 13 -0.1772560923152441\n",
      "7 8 15 -0.056507105343330574\n",
      "8 9 16 0.10584153928216482\n",
      "9 10 18 0.005957954643016309\n",
      "10 11 20 -0.15884553442387062\n",
      "11 12 23 -0.18791579748802448\n",
      "12 13 25 -0.24620124535509327\n",
      "13 14 28 0.020729512231707038\n",
      "14 15 31 -0.007534956118484062\n"
     ]
    }
   ],
   "source": [
    "inpaintedImg_3D = np.zeros((dims[0], dims[1], dims[2]))\n",
    "\n",
    "it = 0\n",
    "for i in range(len(sorted_true_sub_indcs)):\n",
    "    print(it, i, sorted_true_sub_indcs[i], lh_coefs[i])\n",
    "    if sorted_true_sub_indcs[i]!=0:\n",
    "        #inpaintedImg_3D = inpaintedImg_3D + abs(lh_coefs[i])*sub_data[...,it]\n",
    "        inpaintedImg_3D = inpaintedImg_3D + lh_coefs[i]*sub_data[...,it]\n",
    "        it = it+1\n",
    "inpaintedImg_3D = inpaintedImg_3D/np.sum(lh_coefs)\n",
    "#inpaintedImg_3D = inpaintedImg_3D/np.sum(abs(lh_coefs))"
   ]
  },
  {
   "cell_type": "code",
   "execution_count": 28,
   "metadata": {},
   "outputs": [
    {
     "data": {
      "text/plain": [
       "410.96202425855955"
      ]
     },
     "execution_count": 28,
     "metadata": {},
     "output_type": "execute_result"
    }
   ],
   "source": [
    "max(inpaintedImg_3D.flatten())"
   ]
  },
  {
   "cell_type": "code",
   "execution_count": 29,
   "metadata": {},
   "outputs": [
    {
     "data": {
      "text/plain": [
       "array([ 0.30594536,  0.9476918 , -0.09098167])"
      ]
     },
     "execution_count": 29,
     "metadata": {},
     "output_type": "execute_result"
    }
   ],
   "source": [
    "bvec_volPredict"
   ]
  },
  {
   "cell_type": "code",
   "execution_count": 30,
   "metadata": {},
   "outputs": [],
   "source": [
    "nameStr = \"multi_shell/multi_fast_qspace_BH_volume_image_on_sphere_\" + str(left_indcs) + \"_dely_P2.nii.gz\"\n",
    "ni_img = nib.Nifti1Image(inpaintedImg_3D, affine=affine)\n",
    "nib.save(ni_img, nameStr)"
   ]
  },
  {
   "cell_type": "code",
   "execution_count": null,
   "metadata": {},
   "outputs": [],
   "source": []
  },
  {
   "cell_type": "code",
   "execution_count": 31,
   "metadata": {},
   "outputs": [],
   "source": [
    "#array_u = nodal_values_u = w.vector()\n",
    "#vertex_values_u = w.compute_vertex_values()"
   ]
  },
  {
   "cell_type": "code",
   "execution_count": 32,
   "metadata": {},
   "outputs": [],
   "source": [
    "#for i in range(len(array_u)):\n",
    "#    print(array_u[i])"
   ]
  },
  {
   "cell_type": "code",
   "execution_count": 33,
   "metadata": {},
   "outputs": [],
   "source": [
    "#min(array_u)"
   ]
  },
  {
   "cell_type": "code",
   "execution_count": null,
   "metadata": {},
   "outputs": [],
   "source": []
  },
  {
   "cell_type": "code",
   "execution_count": 34,
   "metadata": {},
   "outputs": [],
   "source": [
    "#error_L2 = errornorm(u_D, w, 'L2')\n",
    "#vertex_values_u_D = u_D.compute_vertex_values(mesh)\n",
    "#vertex_values_u = w.compute_vertex_values(mesh)\n",
    "#error_max = np.max(np.abs(vertex_values_u_D - vertex_values_u))\n",
    "#print(error_max)\n",
    "#print(error_L2)"
   ]
  }
 ],
 "metadata": {
  "kernelspec": {
   "display_name": "Python 3",
   "language": "python",
   "name": "python3"
  },
  "language_info": {
   "codemirror_mode": {
    "name": "ipython",
    "version": 3
   },
   "file_extension": ".py",
   "mimetype": "text/x-python",
   "name": "python",
   "nbconvert_exporter": "python",
   "pygments_lexer": "ipython3",
   "version": "3.6.7"
  }
 },
 "nbformat": 4,
 "nbformat_minor": 2
}
