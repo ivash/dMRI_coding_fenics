{
 "cells": [
  {
   "cell_type": "code",
   "execution_count": 1,
   "metadata": {},
   "outputs": [],
   "source": [
    "import dipy"
   ]
  },
  {
   "cell_type": "code",
   "execution_count": 2,
   "metadata": {},
   "outputs": [],
   "source": [
    "from dipy.io.image import load_nifti, save_nifti\n",
    "from dipy.io.gradients import read_bvals_bvecs"
   ]
  },
  {
   "cell_type": "code",
   "execution_count": 3,
   "metadata": {},
   "outputs": [],
   "source": [
    "from fenics import *\n",
    "from mshr import *\n",
    "#from math import pi, sin, cos, sqrt\n",
    "import math\n",
    "import matplotlib.pyplot as plt\n",
    "import numpy as np\n",
    "import nibabel as nib\n",
    "import os\n",
    "import subprocess"
   ]
  },
  {
   "cell_type": "code",
   "execution_count": 4,
   "metadata": {
    "scrolled": true
   },
   "outputs": [
    {
     "name": "stdout",
     "output_type": "stream",
     "text": [
      "data.shape (104, 104, 72, 99)\n",
      "b values:  [   0.  700.  700.  700.  700.  700.  700.  700.  700.  700.  700.  700.\n",
      "  700.  700.  700.  700.  700.  700.  700.  700.  700.    0.  700.  700.\n",
      "  700.  700.  700.  700.  700.  700.  700.  700. 2000. 2000. 2000. 2000.\n",
      " 2000. 2000. 2000. 2000. 2000. 2000.    0. 2000. 2000. 2000. 2000. 2000.\n",
      " 2000. 2000. 2000. 2000. 2000. 2000. 2000. 2000. 2000. 2000. 2000. 2000.\n",
      " 2000. 2000. 2000.    0. 2000. 2000. 2000. 2000. 2000. 2000. 2000. 2000.\n",
      " 2000. 2000. 2000. 2000. 2000. 2000. 2000. 2000. 2000. 2000. 2000. 2000.\n",
      "    0. 2000. 2000. 2000. 2000. 2000. 2000. 2000. 2000. 2000. 2000. 2000.\n",
      " 2000. 2000. 2000.]\n",
      "b vectors:  [[ 0.0000000e+00 -0.0000000e+00  0.0000000e+00]\n",
      " [ 2.2293058e-01  4.9968055e-01  8.3703119e-01]\n",
      " [-1.7871778e-01  4.9333411e-01  8.5128242e-01]\n",
      " [-3.7542525e-01  1.4225766e-01  9.1587037e-01]\n",
      " [ 4.1157657e-01  7.2193778e-01  5.5624700e-01]\n",
      " [ 1.9853516e-01  9.3616748e-01  2.9012811e-01]\n",
      " [ 8.4751403e-01  5.2907634e-01  4.2405690e-02]\n",
      " [ 7.3912424e-01  5.1868695e-01  4.2972025e-01]\n",
      " [ 4.3850514e-01  1.5385152e-01  8.8546205e-01]\n",
      " [ 7.5664991e-01  1.7243032e-01  6.3067305e-01]\n",
      " [ 6.2896943e-01  7.4815804e-01 -2.1132247e-01]\n",
      " [ 3.0347744e-01  9.4898587e-01 -8.5599300e-02]\n",
      " [ 2.8489485e-01  5.4959691e-01 -7.8535217e-01]\n",
      " [ 6.2077832e-01  5.4730117e-01 -5.6133366e-01]\n",
      " [ 9.7062433e-01  1.9699152e-01 -1.3814011e-01]\n",
      " [ 8.3273727e-01  2.0222756e-01 -5.1541471e-01]\n",
      " [-3.4396690e-02  7.5075191e-01 -6.5968806e-01]\n",
      " [-2.5728410e-02  9.4997877e-01 -3.1125325e-01]\n",
      " [-6.8088585e-01  5.2564430e-01 -5.0999278e-01]\n",
      " [-3.6761704e-01  5.3581387e-01 -7.6010603e-01]\n",
      " [-1.5568012e-01 -2.0317107e-01  9.6668768e-01]\n",
      " [ 0.0000000e+00 -0.0000000e+00  0.0000000e+00]\n",
      " [-2.4489762e-01  1.9681381e-01 -9.4936270e-01]\n",
      " [-6.6621846e-01  7.2867197e-01 -1.5871401e-01]\n",
      " [-3.3905616e-01  9.3877596e-01 -6.1159150e-02]\n",
      " [-1.9951271e-01  9.3264794e-01  3.0060336e-01]\n",
      " [-3.8958105e-01  7.1641558e-01  5.7877034e-01]\n",
      " [-7.0739847e-01  1.5345097e-01  6.8995672e-01]\n",
      " [-7.1661639e-01  5.0075305e-01  4.8549715e-01]\n",
      " [-8.5508788e-01  5.0734621e-01  1.0688600e-01]\n",
      " [-8.7868327e-01  1.8046372e-01 -4.4198251e-01]\n",
      " [-9.8415816e-01  1.6845730e-01 -5.5269030e-02]\n",
      " [-9.9998999e-01 -3.9998800e-03  1.9999400e-03]\n",
      " [-4.9948000e-04  9.9898493e-01  4.5043090e-02]\n",
      " [ 2.4944310e-02  6.1445940e-01  7.8855395e-01]\n",
      " [-5.9039032e-01 -7.7985275e-01  2.0801200e-01]\n",
      " [ 2.3735723e-01 -5.6915110e-01  7.8722847e-01]\n",
      " [ 8.9393294e-01 -2.8159970e-01  3.4869114e-01]\n",
      " [-7.9665613e-01  1.0245212e-01  5.9568673e-01]\n",
      " [-2.3356465e-01  9.1487938e-01  3.2930726e-01]\n",
      " [-9.3607759e-01  1.2621707e-01  3.2837197e-01]\n",
      " [-5.0643009e-01 -8.3423322e-01 -2.1813659e-01]\n",
      " [ 0.0000000e+00 -0.0000000e+00  0.0000000e+00]\n",
      " [-3.4706694e-01 -8.2521343e-01 -4.4560948e-01]\n",
      " [-4.5817986e-01 -5.9716052e-01 -6.5838480e-01]\n",
      " [ 4.8816177e-01 -4.2692393e-01  7.6120567e-01]\n",
      " [ 6.2027001e-01  6.5688628e-01  4.2867881e-01]\n",
      " [ 5.7621109e-01 -7.1084380e-02 -8.1420386e-01]\n",
      " [ 8.2531255e-01 -5.3441709e-01  1.8236656e-01]\n",
      " [-8.9597398e-01 -2.5028220e-02 -4.4340074e-01]\n",
      " [-2.9121652e-01 -5.0804460e-01 -8.1060714e-01]\n",
      " [-1.1785752e-01 -9.5041883e-01 -2.8777412e-01]\n",
      " [ 7.9899460e-01  4.2643178e-01 -4.2398548e-01]\n",
      " [-5.1170260e-01  8.3323461e-01  2.0947689e-01]\n",
      " [ 7.8701800e-01  1.8293804e-01 -5.8918279e-01]\n",
      " [-9.5000267e-01 -2.4275914e-01  1.9637455e-01]\n",
      " [-2.3124145e-01  7.5768822e-01  6.1027521e-01]\n",
      " [ 1.8150640e-02 -1.4376774e-01 -9.8944497e-01]\n",
      " [-2.1815184e-01 -9.6529853e-01  1.4355603e-01]\n",
      " [-7.7437425e-01 -6.1457777e-01  1.5046185e-01]\n",
      " [ 1.6403137e-01  2.8720394e-01  9.4372010e-01]\n",
      " [ 1.2325888e-01  7.6308644e-01 -6.3443404e-01]\n",
      " [-8.9079481e-01  3.9080378e-01  2.3185565e-01]\n",
      " [ 0.0000000e+00 -0.0000000e+00  0.0000000e+00]\n",
      " [ 5.1867563e-01  2.5647014e-01 -8.1559700e-01]\n",
      " [ 4.1972056e-01  1.3890146e-01  8.9696217e-01]\n",
      " [ 2.7031744e-01 -1.8058614e-01 -9.4568342e-01]\n",
      " [ 3.7372714e-01 -1.4994749e-01  9.1533804e-01]\n",
      " [ 9.6573383e-01 -2.5948238e-01 -5.2187600e-03]\n",
      " [ 9.6443313e-01  2.1101427e-01  1.5919080e-01]\n",
      " [-4.4222176e-01 -8.9561254e-01  4.8147070e-02]\n",
      " [ 7.6881015e-01  6.3443005e-01  8.0182670e-02]\n",
      " [-6.9784802e-01  3.6849079e-01  6.1418474e-01]\n",
      " [ 7.1813208e-01 -1.0619420e-02  6.9582558e-01]\n",
      " [-7.0462537e-01  5.3593230e-01 -4.6505862e-01]\n",
      " [ 1.7117150e-01 -7.5080270e-01  6.3796228e-01]\n",
      " [ 7.5508285e-01  3.9112961e-01  5.2618176e-01]\n",
      " [ 1.0850769e-01  8.1606823e-01  5.6767851e-01]\n",
      " [-5.6061244e-01 -6.2922853e-01  5.3831679e-01]\n",
      " [ 1.2497177e-01 -3.7524998e-01  9.1846037e-01]\n",
      " [ 5.7014918e-01 -7.9521382e-01  2.0631234e-01]\n",
      " [-8.3841747e-01 -4.6896529e-01 -2.7771845e-01]\n",
      " [-3.3342126e-01 -5.9105629e-01  7.3449486e-01]\n",
      " [ 1.5181039e-01  4.2679733e-01 -8.9151424e-01]\n",
      " [ 0.0000000e+00 -0.0000000e+00  0.0000000e+00]\n",
      " [ 7.2697550e-01 -6.8590748e-01 -3.2209960e-02]\n",
      " [-4.5601672e-01  6.9743240e-01 -5.5284446e-01]\n",
      " [-4.9492225e-01  6.7110866e-01  5.5196494e-01]\n",
      " [ 1.5335634e-01 -4.8859259e-01 -8.5892904e-01]\n",
      " [-4.5016909e-01  4.0186495e-01  7.9740351e-01]\n",
      " [-3.6573517e-01 -8.2799923e-01  4.2503539e-01]\n",
      " [ 7.3229760e-01 -2.6231322e-01  6.2843603e-01]\n",
      " [-2.7761558e-01  8.9411885e-01 -3.5139894e-01]\n",
      " [-2.4582910e-02  1.1101565e-01 -9.9351466e-01]\n",
      " [-8.2809200e-03 -9.1833574e-01  3.9571550e-01]\n",
      " [-5.8993262e-01 -2.9020479e-01 -7.5349891e-01]\n",
      " [ 2.5109273e-01  1.8545359e-01 -9.5003116e-01]\n",
      " [-7.1787667e-01  5.8964658e-01  3.7009448e-01]\n",
      " [-2.8169212e-01  9.5859379e-01 -4.1804050e-02]]\n"
     ]
    }
   ],
   "source": [
    "fname = 'dMRI_data/ms-ras_data.nii.gz' \n",
    "bval_fname = 'dMRI_data/ms-ras.bval' \n",
    "bvec_fname = 'dMRI_data/ms-ras.bvec'\n",
    "\n",
    "data, affine = load_nifti(fname)\n",
    "bvals, bvecs = read_bvals_bvecs(bval_fname, bvec_fname)\n",
    "dims = data.shape\n",
    "print('data.shape (%d, %d, %d, %d)' % dims)\n",
    "\n",
    "data_float = data.astype(np.float32)\n",
    "\n",
    "dataMaxVal = int(max(data.flatten()))\n",
    "dataMinVal = int(min(data.flatten()))\n",
    "\n",
    "print('b values: ', bvals)\n",
    "print('b vectors: ', bvecs)"
   ]
  },
  {
   "cell_type": "code",
   "execution_count": 5,
   "metadata": {},
   "outputs": [],
   "source": [
    "parameters['allow_extrapolation'] = True"
   ]
  },
  {
   "cell_type": "code",
   "execution_count": 6,
   "metadata": {},
   "outputs": [],
   "source": [
    "#Input volume number\n",
    "k = 16\n",
    "\n",
    "#B vector\n",
    "b = 2000\n",
    "b2000_indcs = np.where(bvals==b)\n",
    "b0_inds = np.where(bvals==0)\n",
    "b0_ind = b0_inds[0][0]"
   ]
  },
  {
   "cell_type": "code",
   "execution_count": 7,
   "metadata": {},
   "outputs": [
    {
     "name": "stdout",
     "output_type": "stream",
     "text": [
      "b sub vectors:  [[-4.9948000e-04  9.9898493e-01  4.5043090e-02]\n",
      " [-9.9998999e-01 -3.9998800e-03  1.9999400e-03]\n",
      " [-2.4582910e-02  1.1101565e-01 -9.9351466e-01]\n",
      " [-5.6061244e-01 -6.2922853e-01  5.3831679e-01]\n",
      " [-4.5817986e-01 -5.9716052e-01 -6.5838480e-01]\n",
      " [-4.5601672e-01  6.9743240e-01 -5.5284446e-01]\n",
      " [-4.9492225e-01  6.7110866e-01  5.5196494e-01]\n",
      " [ 7.1813208e-01 -1.0619420e-02  6.9582558e-01]\n",
      " [ 5.7621109e-01 -7.1084380e-02 -8.1420386e-01]\n",
      " [ 7.6881015e-01  6.3443005e-01  8.0182670e-02]\n",
      " [ 7.2697550e-01 -6.8590748e-01 -3.2209960e-02]\n",
      " [ 1.5335634e-01 -4.8859259e-01 -8.5892904e-01]\n",
      " [ 1.2325888e-01  7.6308644e-01 -6.3443404e-01]\n",
      " [ 8.9393294e-01 -2.8159970e-01  3.4869114e-01]\n",
      " [-4.4222176e-01 -8.9561254e-01  4.8147070e-02]\n",
      " [ 1.0850769e-01  8.1606823e-01  5.6767851e-01]]\n",
      "sorted b sub vector indeces  [ 0. 32. 33. 37. 44. 47. 61. 70. 71. 73. 77. 78. 85. 86. 87. 88. 93.]\n"
     ]
    }
   ],
   "source": [
    "#To select well distruted (farthes pointing vectors in 3D)\n",
    "def calc_distances(p0, points):\n",
    "    return np.minimum(((p0 - points)**2).sum(axis=1), ((-p0 - points)**2).sum(axis=1))\n",
    "    #return ((p0 - points)**2).sum(axis=1)\n",
    "    \n",
    "def farthestPts(pts, K):\n",
    "    farthest_pts = np.zeros((K, 3))\n",
    "    pts_inds = np.zeros(K)\n",
    "    #farthest_pts[0] = pts[np.random.randint(len(pts))]\n",
    "    farthest_pts[0] = pts[1]\n",
    "    pts_inds[0] = 1\n",
    "    distances = calc_distances(farthest_pts[0], pts)\n",
    "    for i in range(1, K):\n",
    "        farthest_pts[i] = pts[np.argmax(distances)]\n",
    "        pts_inds[i] = np.argmax(distances)\n",
    "        distances = np.minimum(distances, calc_distances(farthest_pts[i], pts))\n",
    "    return farthest_pts, pts_inds\n",
    "sub_bvecs, sub_indcs = farthestPts(bvecs[bvals==b], k)\n",
    "print('b sub vectors: ', sub_bvecs)\n",
    "#print('b sub vector indecs ', sub_indcs)\n",
    "\n",
    "#Choose true indeces\n",
    "true_sub_indcs = np.zeros(len(sub_indcs))\n",
    "for i in range(len(sub_indcs)):\n",
    "    true_sub_indcs[i] = b2000_indcs[0][int(sub_indcs[i])]\n",
    "true_sub_indcs = np.append(true_sub_indcs, b0_ind)\n",
    "sorted_true_sub_indcs = np.sort(true_sub_indcs)\n",
    "#print('b sub vectors: ', sub_bvecs)\n",
    "print('sorted b sub vector indeces ', sorted_true_sub_indcs)"
   ]
  },
  {
   "cell_type": "code",
   "execution_count": 8,
   "metadata": {},
   "outputs": [
    {
     "name": "stdout",
     "output_type": "stream",
     "text": [
      "[   0. 2000. 2000. 2000. 2000. 2000. 2000. 2000. 2000. 2000. 2000. 2000.\n",
      " 2000. 2000. 2000. 2000. 2000.]\n",
      "(104, 104, 72, 17)\n"
     ]
    }
   ],
   "source": [
    "# Selecting one b0 and k+7 b700 voxels\n",
    "sorted_true_sub_indcs = sorted_true_sub_indcs.astype(int)\n",
    "sub_bvals = bvals[sorted_true_sub_indcs]\n",
    "print(sub_bvals)\n",
    "\n",
    "sub_data = data_float[:, :, :, sorted_true_sub_indcs]\n",
    "print(sub_data.shape)"
   ]
  },
  {
   "cell_type": "code",
   "execution_count": 9,
   "metadata": {},
   "outputs": [],
   "source": [
    "##Registration\n",
    "#b0_ind = np.where(sub_bvals==0)[0]\n",
    "#regis_sub_data = subprocess.run([\"eddy_correct\", \"cosine_weighted_averaging/sub_vols.nii.gz\", \"cosine_weighted_averaging/registered_data/sub_data_lowb-corrected.nii.gz\", str(b0_ind[0])])\n",
    "#print(\"The exit code was: %d\" % regis_sub_data.returncode)"
   ]
  },
  {
   "cell_type": "code",
   "execution_count": 10,
   "metadata": {},
   "outputs": [],
   "source": [
    "#Load registrated data\n",
    "#nameStr = 'LH_all_voxels/multi_shell_registerered_data/kFrame_correct10.nii.gz'     \n",
    "#sub_regis_data, sub_regis_affine = load_nifti(nameStr)\n",
    "#dims_sub = sub_regis_data.shape\n",
    "#print('data.shape (%d, %d, %d, %d)' % sub_regis_data.shape)\n",
    "#print('Type: ', sub_regis_data.dtype)"
   ]
  },
  {
   "cell_type": "code",
   "execution_count": 11,
   "metadata": {},
   "outputs": [
    {
     "name": "stdout",
     "output_type": "stream",
     "text": [
      "b sub vector indecs  [ 0. 32. 33. 37. 44. 47. 54. 61. 70. 71. 73. 77. 78. 85. 86. 87. 88. 93.]\n",
      "Predicted volume:  54\n"
     ]
    }
   ],
   "source": [
    "#Volume Index to predict\n",
    "nextIter_sub_bvecs, nextIter_sub_indcs = farthestPts(bvecs[bvals==b], k+1)\n",
    "nextIter_true_sub_indcs = np.zeros(len(nextIter_sub_indcs))\n",
    "for i in range(len(nextIter_sub_indcs)):\n",
    "    nextIter_true_sub_indcs[i] = b2000_indcs[0][int(nextIter_sub_indcs[i])]\n",
    "nextIter_true_sub_indcs = np.append(nextIter_true_sub_indcs, b0_ind)\n",
    "sorted_nextIter_true_sub_indcs = np.sort(nextIter_true_sub_indcs)\n",
    "print('b sub vector indecs ', sorted_nextIter_true_sub_indcs)\n",
    "nextIter_sub_indcs = sorted_nextIter_true_sub_indcs.astype(int)\n",
    "    \n",
    "inter_sub_indcs = [i for i in sorted_nextIter_true_sub_indcs if i not in sorted_true_sub_indcs]\n",
    "if len(inter_sub_indcs) != 0: \n",
    "    left_indcs = inter_sub_indcs[0]\n",
    "else:\n",
    "    left_indcs = np.arange(data.shape[3])\n",
    "    left_indcs = np.delete(left_indcs, sorted_true_sub_indcs)\n",
    "    print(left_indcs)\n",
    "    left_indcs = left_indcs[0]\n",
    "left_indcs = left_indcs.astype(int)\n",
    "print(\"Predicted volume: \", left_indcs)"
   ]
  },
  {
   "cell_type": "code",
   "execution_count": 12,
   "metadata": {},
   "outputs": [],
   "source": [
    "def project_point_onto_affine_subspace(p, V):\n",
    "    \"\"\"Projects a point onto an affine subspace\n",
    "\n",
    "    p.shape = (N,)   OR (num_pts, N) for vectorization over many points / affine subspaces\n",
    "    V.shape = (k, N) OR (num_pts, k, N) for vectorization\n",
    "\n",
    "    N = dimension of ambient space\n",
    "    k-1 = dimension of affine subspace\n",
    "\n",
    "    For a single point / affine subspace:\n",
    "        - p is the point in R^N to be projected onto the affine subspace\n",
    "        - The affine subspace is the set of all affine combinations\n",
    "        of rows, V[i,:], of the matrix V\n",
    "\n",
    "    Vectorization:\n",
    "    For many points / affine subspaces, each point is\n",
    "    projected onto its corresponding affine subspace\n",
    "        p[i,:] is the ith point\n",
    "        V[i,:,:] is the matrix defining the ith affine subspace\n",
    "\n",
    "    Example usage:\n",
    "        import numpy as np\n",
    "        spatial_dim = 3\n",
    "        p1 = np.random.randn(spatial_dim)\n",
    "        V1 = np.array([[2., 0., 0.],\n",
    "                      [2., 1., 0.],\n",
    "                      [2., 0., 1.]])\n",
    "        p2 = np.random.randn(spatial_dim)\n",
    "        V2 = np.array([[0., 3., 0.],\n",
    "                       [1., 3., 0.],\n",
    "                       [0., 3., 1.]])\n",
    "        p = np.stack([p1, p2])\n",
    "        V = np.stack([V1, V2])\n",
    "        projected_p, affine_coordinates = project_point_onto_affine_subspace(p, V)\n",
    "        projected_p1 = projected_p[0,:]\n",
    "        projected_p2 = projected_p[1,:]\n",
    "        print('p1=', p1)\n",
    "        print('projected_p1=', projected_p1)\n",
    "        print('p2=', p2)\n",
    "        print('projected_p2=', projected_p2)\n",
    "    \"\"\"\n",
    "    if len(p.shape) == 1:\n",
    "        PP = p.reshape((1, p.shape[0]))\n",
    "        VV = V.reshape((1, V.shape[0], V.shape[1]))\n",
    "    else:\n",
    "        PP = p\n",
    "        VV = V\n",
    "    num_pts, k, N = VV.shape\n",
    "\n",
    "    if k == 1:\n",
    "        affine_coordinates = np.ones((num_pts, 1))\n",
    "    else:\n",
    "        VV0 = VV[:, 0, :].reshape((num_pts, 1, N))\n",
    "        dVV = VV[:, 1: :].reshape((num_pts, k-1, N)) - VV0\n",
    "        dPP = PP.reshape((num_pts, 1, N)) - VV0\n",
    "\n",
    "        if k == 2:\n",
    "            PHI = np.sum(dVV * dVV, axis=-1).reshape((num_pts))\n",
    "            RHS = np.sum(dVV * dPP, axis=-1).reshape((num_pts))\n",
    "            cc_rest = (RHS / PHI).reshape((num_pts, 1))\n",
    "        else:\n",
    "            PHI = np.einsum('xiz,xjz->xij', dVV, dVV) # shape = (num_pts, k-1, k-1)\n",
    "            iPHI = np.linalg.inv(PHI) # shape = (num_pts, k-1, k-1)\n",
    "\n",
    "            RHS = np.sum(dVV * dPP, axis=-1)  # shape = (num_pts, k-1)\n",
    "            cc_rest = np.einsum('pij,pj->pi', iPHI, RHS)  # shape = (num_pts, k-1)\n",
    "\n",
    "        cc_first = (1. - np.sum(cc_rest, axis=1)).reshape((num_pts, 1))\n",
    "        affine_coordinates = np.concatenate([cc_first, cc_rest], axis=1) # shape = (num_pts, k)\n",
    "\n",
    "    PP_projected = np.einsum('pi,pij->pj', affine_coordinates, VV) # shape = (num_pts, N)\n",
    "\n",
    "    if len(p.shape) == 1:\n",
    "        PP_projected = PP_projected.reshape(-1)\n",
    "        affine_coordinates = affine_coordinates.reshape(-1)\n",
    "    return PP_projected, affine_coordinates\n",
    "\n",
    "def powerset(s):\n",
    "    # NOT MY CODE. FROM USER \"hughdbrown\" ON STACKOVERFLOW HERE:\n",
    "    # https://stackoverflow.com/a/1482320/484944\n",
    "    x = len(s)\n",
    "    masks = [1 << i for i in range(x)]\n",
    "    for i in range(1 << x):\n",
    "        yield [ss for mask, ss in zip(masks, s) if i & mask]\n",
    "\n",
    "def closest_point_on_simplex(p, V):\n",
    "    \"\"\"Projects a point onto a simplex (triangle, tetrahedron, etc)\n",
    "\n",
    "    p.shape = (N,)   OR (num_pts, N) for vectorization over many points/simplices\n",
    "    V.shape = (k, N) OR (num_pts, k, N) for vectorization\n",
    "\n",
    "    N = dimension of ambient space\n",
    "    k-1 = dimension of simplex\n",
    "\n",
    "    For a single point/simplex:\n",
    "        - p is the point in R^N to be projected onto the simplex\n",
    "        - The simplex is the set of all convex combinations\n",
    "        of rows, V[i,:], of the matrix V\n",
    "\n",
    "    Vectorization:\n",
    "    For many points/simplices, each point is\n",
    "    projected onto its corresponding simplex\n",
    "        p[i,:] is the ith point\n",
    "        V[i,:,:] is the matrix defining the ith simplex\n",
    "\n",
    "    Example usage:\n",
    "        import numpy as np\n",
    "        import matplotlib.pyplot as plt\n",
    "        p1 = np.array([1.1, 0.4])\n",
    "        V1 = np.array([[0., 0.],\n",
    "                       [0., 1.],\n",
    "                       [1., 0.]])\n",
    "        p2 = np.array([-0.3, 1.1])\n",
    "        V2 = np.array([[-1.0, 0.],\n",
    "                       [0.,   0.],\n",
    "                       [-0.5, 0.5]])\n",
    "        p = np.stack([p1, p2])\n",
    "        V = np.stack([V1, V2])\n",
    "        projected_p = closest_point_on_simplex(p, V)\n",
    "        projected_p1 = projected_p[0,:]\n",
    "        projected_p2 = projected_p[1,:]\n",
    "        plt.figure()\n",
    "        t1 = plt.Polygon(V1)\n",
    "        plt.gca().add_patch(t1)\n",
    "        plt.plot([p1[0], projected_p1[0]],\n",
    "                 [p1[1], projected_p1[1]], 'r')\n",
    "        t2 = plt.Polygon(V2)\n",
    "        plt.gca().add_patch(t2)\n",
    "        plt.plot([p2[0], projected_p2[0]],\n",
    "                 [p2[1], projected_p2[1]], 'r')\n",
    "        plt.gca().set_aspect('equal')\n",
    "        plt.show()\n",
    "    \"\"\"\n",
    "    if len(p.shape) == 1:\n",
    "        PP = p.reshape((1, p.shape[0]))\n",
    "        VV = V.reshape((1, V.shape[0], V.shape[1]))\n",
    "    else:\n",
    "        PP = p\n",
    "        VV = V\n",
    "    num_pts, k, N = VV.shape\n",
    "\n",
    "    subsets = list(powerset(list(range(k)))) # e.g., [[], [0], [1], [2], [0,1], [0,2], [1,2], [0,1,2]]\n",
    "    QQ = list()\n",
    "    CC = list()\n",
    "    for s in subsets:\n",
    "        if s:\n",
    "            simplicial_facet = VV[:,s,:]\n",
    "            Q, C = project_point_onto_affine_subspace(PP, simplicial_facet)\n",
    "            QQ.append(Q)\n",
    "            CC.append(C)\n",
    "\n",
    "    distances = np.stack([np.linalg.norm(Q - PP, axis=-1) for Q in QQ]) # shape=(num_facets, num_pts)\n",
    "\n",
    "    good_inds = np.stack([(np.all(0. <= C, axis=1) & np.all(C <= 1., axis=1)) for C in CC]) # shape=(num_facets, num_pts)\n",
    "    bad_inds = np.logical_not(good_inds)\n",
    "    distances[bad_inds] = np.inf\n",
    "    closest_inds = np.expand_dims(np.argmin(distances[:, :, None], axis=0), axis=0)\n",
    "\n",
    "    QQ_stack = np.stack(QQ) # shape=(num_facets, num_pts, N)\n",
    "    PP_projected = np.take_along_axis(QQ_stack, closest_inds, axis=0)[0,:,:]\n",
    "\n",
    "    if len(p.shape) == 1:\n",
    "        PP_projected = PP_projected.reshape(-1)\n",
    "    return PP_projected\n",
    "\n",
    "def closest_point_in_mesh(p, mesh):\n",
    "    \"\"\"Finds the nearest point in a mesh to a given point\n",
    "    p is the point or points (numpy array)\n",
    "    mesh is the fenics/dolfin mesh\n",
    "\n",
    "    p.shape = (N,) OR (num_pts, N) for vectorization over many points\n",
    "    N = dimension of ambient space\n",
    "\n",
    "    Example usage:\n",
    "        import numpy as np\n",
    "        import dolfin as dl\n",
    "        import matplotlib.pyplot as plt\n",
    "        mesh = dl.UnitSquareMesh(13,9)\n",
    "        num_pts = 20\n",
    "        p = np.random.randn(num_pts, 2) + np.array([0.5, 0.5])\n",
    "        closest_p = closest_point_in_mesh(p, mesh)\n",
    "        plt.figure()\n",
    "        dl.plot(mesh)\n",
    "        for ii in range(num_pts):\n",
    "            plt.plot([p[ii,0], closest_p[ii,0]], [p[ii,1], closest_p[ii,1]], 'b')\n",
    "            plt.plot(p[ii,0], p[ii,1], '*k')\n",
    "            plt.plot(closest_p[ii,0], closest_p[ii,1], '.r')\n",
    "        plt.show()\n",
    "    \"\"\"\n",
    "    if len(p.shape) == 1:\n",
    "        PP = p[None,:]\n",
    "    else:\n",
    "        PP = p\n",
    "    num_pts, N = PP.shape\n",
    "    tdim = mesh.topology().dim()\n",
    "    k = tdim + 1\n",
    "\n",
    "    VV = np.zeros((num_pts, k, N))\n",
    "    bbt = mesh.bounding_box_tree()\n",
    "    for ii in range(num_pts):\n",
    "        pi = PP[ii,:]\n",
    "        closest_entity, closest_distance = bbt.compute_closest_entity(Point(pi))\n",
    "        closest_cell = mesh.cells()[closest_entity]\n",
    "        vertices_of_closest_cell = mesh.coordinates()[closest_cell, :]\n",
    "        VV[ii, :, :] = vertices_of_closest_cell\n",
    "\n",
    "    closest_PP = closest_point_on_simplex(PP, VV)\n",
    "\n",
    "    if len(p.shape) == 1:\n",
    "        closest_PP = closest_PP.reshape(-1)\n",
    "    return closest_PP"
   ]
  },
  {
   "cell_type": "code",
   "execution_count": null,
   "metadata": {},
   "outputs": [],
   "source": []
  },
  {
   "cell_type": "code",
   "execution_count": 13,
   "metadata": {},
   "outputs": [],
   "source": [
    "#center = Point(0.0, 0.0, 0.0)\n",
    "#sphere = Sphere(center,1.0)\n",
    "#mesh = generate_mesh(sphere,5) # 20 specify the resolution of the mesh\n",
    "#plot(mesh)"
   ]
  },
  {
   "cell_type": "code",
   "execution_count": 14,
   "metadata": {},
   "outputs": [
    {
     "data": {
      "text/plain": [
       "<mpl_toolkits.mplot3d.art3d.Poly3DCollection at 0x7f3d941ac828>"
      ]
     },
     "execution_count": 14,
     "metadata": {},
     "output_type": "execute_result"
    },
    {
     "data": {
      "image/png": "[encoded data removed]",
      "text/plain": [
       "<Figure size 432x288 with 1 Axes>"
      ]
     },
     "metadata": {
      "needs_background": "light"
     },
     "output_type": "display_data"
    }
   ],
   "source": [
    "# Mesh and function space\n",
    "#sphere = Sphere(Point(0.0, 0.0, 0.0), 1.0)\n",
    "#vmesh = generate_mesh(sphere, 5)\n",
    "#mesh = BoundaryMesh(vmesh, \"exterior\")\n",
    "#plot(mesh)\n",
    "\n",
    "#mesh = Mesh('LH/mesh.xml')\n",
    "mesh = Mesh('LH/mesh_on_sphere_myself.xml')\n",
    "plot(mesh)"
   ]
  },
  {
   "cell_type": "code",
   "execution_count": 15,
   "metadata": {},
   "outputs": [
    {
     "name": "stdout",
     "output_type": "stream",
     "text": [
      "0\n",
      "32\n",
      "33\n",
      "37\n",
      "44\n",
      "47\n",
      "54\n",
      "61\n",
      "70\n",
      "71\n",
      "73\n",
      "77\n",
      "78\n",
      "85\n",
      "86\n",
      "87\n",
      "88\n",
      "93\n"
     ]
    }
   ],
   "source": [
    "for ind in nextIter_sub_indcs:\n",
    "    print(ind)"
   ]
  },
  {
   "cell_type": "code",
   "execution_count": 16,
   "metadata": {},
   "outputs": [
    {
     "name": "stdout",
     "output_type": "stream",
     "text": [
      "0\n",
      "32\n",
      "33\n",
      "37\n",
      "44\n",
      "47\n",
      "61\n",
      "70\n",
      "71\n",
      "73\n",
      "77\n",
      "78\n",
      "85\n",
      "86\n",
      "87\n",
      "88\n",
      "93\n"
     ]
    }
   ],
   "source": [
    "for ind in sorted_true_sub_indcs:\n",
    "    print(ind)"
   ]
  },
  {
   "cell_type": "code",
   "execution_count": 17,
   "metadata": {},
   "outputs": [
    {
     "data": {
      "text/plain": [
       "54"
      ]
     },
     "execution_count": 17,
     "metadata": {},
     "output_type": "execute_result"
    }
   ],
   "source": [
    "left_indcs"
   ]
  },
  {
   "cell_type": "code",
   "execution_count": 18,
   "metadata": {},
   "outputs": [
    {
     "name": "stdout",
     "output_type": "stream",
     "text": [
      "IIIIIIIIIIII:  0\n",
      "IIIIIIIIIIII:  1\n",
      "IIIIIIIIIIII:  2\n",
      "IIIIIIIIIIII:  3\n",
      "IIIIIIIIIIII:  4\n",
      "IIIIIIIIIIII:  5\n",
      "IIIIIIIIIIII:  6\n",
      "IIIIIIIIIIII:  7\n",
      "IIIIIIIIIIII:  8\n",
      "IIIIIIIIIIII:  9\n",
      "IIIIIIIIIIII:  10\n",
      "IIIIIIIIIIII:  11\n",
      "IIIIIIIIIIII:  12\n",
      "IIIIIIIIIIII:  13\n",
      "IIIIIIIIIIII:  14\n",
      "IIIIIIIIIIII:  15\n",
      "IIIIIIIIIIII:  16\n",
      "IIIIIIIIIIII:  17\n",
      "IIIIIIIIIIII:  18\n",
      "IIIIIIIIIIII:  19\n",
      "IIIIIIIIIIII:  20\n",
      "IIIIIIIIIIII:  21\n",
      "IIIIIIIIIIII:  22\n",
      "IIIIIIIIIIII:  23\n",
      "IIIIIIIIIIII:  24\n",
      "IIIIIIIIIIII:  25\n",
      "IIIIIIIIIIII:  26\n",
      "IIIIIIIIIIII:  27\n",
      "IIIIIIIIIIII:  28\n",
      "IIIIIIIIIIII:  29\n",
      "IIIIIIIIIIII:  30\n",
      "IIIIIIIIIIII:  31\n",
      "IIIIIIIIIIII:  32\n",
      "IIIIIIIIIIII:  33\n",
      "IIIIIIIIIIII:  34\n",
      "IIIIIIIIIIII:  35\n",
      "IIIIIIIIIIII:  36\n",
      "IIIIIIIIIIII:  37\n",
      "IIIIIIIIIIII:  38\n",
      "IIIIIIIIIIII:  39\n",
      "IIIIIIIIIIII:  40\n",
      "IIIIIIIIIIII:  41\n",
      "IIIIIIIIIIII:  42\n",
      "IIIIIIIIIIII:  43\n",
      "IIIIIIIIIIII:  44\n",
      "IIIIIIIIIIII:  45\n",
      "IIIIIIIIIIII:  46\n",
      "IIIIIIIIIIII:  47\n",
      "IIIIIIIIIIII:  48\n",
      "IIIIIIIIIIII:  49\n",
      "IIIIIIIIIIII:  50\n",
      "IIIIIIIIIIII:  51\n",
      "IIIIIIIIIIII:  52\n",
      "IIIIIIIIIIII:  53\n",
      "IIIIIIIIIIII:  54\n",
      "IIIIIIIIIIII:  55\n",
      "IIIIIIIIIIII:  56\n",
      "IIIIIIIIIIII:  57\n",
      "IIIIIIIIIIII:  58\n",
      "IIIIIIIIIIII:  59\n",
      "IIIIIIIIIIII:  60\n",
      "IIIIIIIIIIII:  61\n",
      "IIIIIIIIIIII:  62\n",
      "IIIIIIIIIIII:  63\n",
      "IIIIIIIIIIII:  64\n",
      "IIIIIIIIIIII:  65\n",
      "IIIIIIIIIIII:  66\n",
      "IIIIIIIIIIII:  67\n",
      "IIIIIIIIIIII:  68\n",
      "IIIIIIIIIIII:  69\n",
      "IIIIIIIIIIII:  70\n",
      "IIIIIIIIIIII:  71\n",
      "IIIIIIIIIIII:  72\n",
      "IIIIIIIIIIII:  73\n",
      "IIIIIIIIIIII:  74\n",
      "IIIIIIIIIIII:  75\n",
      "IIIIIIIIIIII:  76\n",
      "IIIIIIIIIIII:  77\n",
      "IIIIIIIIIIII:  78\n",
      "IIIIIIIIIIII:  79\n",
      "IIIIIIIIIIII:  80\n",
      "IIIIIIIIIIII:  81\n",
      "IIIIIIIIIIII:  82\n",
      "IIIIIIIIIIII:  83\n",
      "IIIIIIIIIIII:  84\n",
      "IIIIIIIIIIII:  85\n",
      "IIIIIIIIIIII:  86\n",
      "IIIIIIIIIIII:  87\n",
      "IIIIIIIIIIII:  88\n",
      "IIIIIIIIIIII:  89\n",
      "IIIIIIIIIIII:  90\n",
      "IIIIIIIIIIII:  91\n",
      "IIIIIIIIIIII:  92\n",
      "IIIIIIIIIIII:  93\n",
      "IIIIIIIIIIII:  94\n",
      "IIIIIIIIIIII:  95\n",
      "IIIIIIIIIIII:  96\n",
      "IIIIIIIIIIII:  97\n",
      "IIIIIIIIIIII:  98\n",
      "IIIIIIIIIIII:  99\n",
      "IIIIIIIIIIII:  100\n",
      "IIIIIIIIIIII:  101\n",
      "IIIIIIIIIIII:  102\n",
      "IIIIIIIIIIII:  103\n"
     ]
    }
   ],
   "source": [
    "inpaintedImg_3D = np.zeros((dims[0], dims[1], dims[2]))\n",
    "bvec_volPredict = bvecs[left_indcs]\n",
    "for i in range(dims[0]):\n",
    "    print(\"IIIIIIIIIIII: \", i)\n",
    "    for j in range(dims[1]):\n",
    "        for k in range(dims[2]):\n",
    "            #V = FunctionSpace(mesh, \"CG\", 2)\n",
    "            V = FunctionSpace(mesh, \"P\", 1)\n",
    "\n",
    "            # get coordinates of DOFs\n",
    "            dof_coords = V.tabulate_dof_coordinates()\n",
    "            \n",
    "            bcs = []\n",
    "            #cnt = 0\n",
    "            for ind in sorted_true_sub_indcs:\n",
    "                if ind!=0:\n",
    "                    # find nearest DOF:\n",
    "                    dof = np.argmin(np.linalg.norm(dof_coords - bvecs[ind], axis=1))\n",
    "                    #print('dof {}, x = {}'.format(dof, dof_coords[dof]))\n",
    "                    dof_sym = np.argmin(np.linalg.norm(dof_coords + bvecs[ind], axis=1))\n",
    "                    #print('dof {}, x = {}'.format(dof_sym, dof_coords[dof_sym])) \n",
    "            \n",
    "                    # now define a DirichletBC at that point\n",
    "                    bcs.extend([DirichletBC(V, Constant(data_float[i,j,k,ind]),\n",
    "                                     'near(x[0], {x}) && near(x[1], {y}) && near(x[2], {z})'.format(x=dof_coords[dof][0], y=dof_coords[dof][1], z=dof_coords[dof][2]),\n",
    "                                     'pointwise'),\n",
    "                                DirichletBC(V, Constant(data_float[i,j,k,ind]),\n",
    "                                     'near(x[0], {x}) && near(x[1], {y}) && near(x[2], {z})'.format(x=dof_coords[dof_sym][0], y=dof_coords[dof_sym][1], z=dof_coords[dof_sym][2]),\n",
    "                                     'pointwise')])\n",
    "                #print(ind, cnt)\n",
    "                #cnt = cnt+1\n",
    "            \n",
    "            u = TrialFunction(V) \n",
    "            v = TestFunction(V)\n",
    "            w = Function(V)      \n",
    "\n",
    "            #x = SpatialCoordinate(mesh)\n",
    "            # Defining spherical coordinates\n",
    "            #phi = Expression(\"atan2(x[1],x[0])\", degree=2)\n",
    "            #theta = Expression(\"acos(x[2]/sqrt(x[0]*x[0]+x[1]*x[1]+x[2]*x[2]))\", degree=2)\n",
    "            \n",
    "            #a2 = u.dx(1)*v.dx(1)\n",
    "            #a3 = (Constant(1.)/sin(theta)**2)*(u.dx(2)*v.dx(2))\n",
    "            #a4 = (cos(theta)/sin(theta))*u.dx(1)*v\n",
    "            #a = (a2+a3-a4)*dx\n",
    "            \n",
    "            a=inner(grad(u),grad(v))*dx\n",
    "    \n",
    "            #a1 = (sin(theta)*sin(theta)*sin(phi)*sin(phi)+cos(theta)*cos(phi)/sin(theta))*(u.dx(0)*v.dx(0))\n",
    "            #a2 = (cos(theta)*cos(theta)*sin(phi)*sin(phi)+cos(phi)*cos(phi))*(u.dx(1)*v.dx(1))\n",
    "            #a3 = (sin(phi)**2/sin(theta)**2)*(u.dx(2)*v.dx(2))\n",
    "            #a4 = (-sin(theta)*sin(phi)*sin(phi)*cos(theta)+cos(theta)*cos(phi)*cos(phi)*sin(theta))*(u.dx(0)*v.dx(1))\n",
    "            #a5 = (-cos(theta)*cos(phi)*sin(phi))*(u.dx(0)*v.dx(2))\n",
    "            #a6 = (-cos(theta)*sin(phi)*sin(phi))*(u.dx(1)*v.dx(2))\n",
    "            #a7 = (cos(theta)*sin(phi))*(u.dx(0)*v)\n",
    "            #a8 = (-cos(theta)*cos(theta)*sin(phi)/sin(theta))*(u.dx(1)*v)\n",
    "            #a = (a1+a2+a3+a4+a5+a6+a7+a8)*dx\n",
    "    \n",
    "            f = Constant(0.0)\n",
    "\n",
    "            L = f*v*dx\n",
    "            solve(a == L, w, bcs)\n",
    "    \n",
    "            # Save solution to file in VTK format\n",
    "            #vtkfile = File('LH_all_voxels/solution_' + str(i) + '_' + str(j) + '_' + str(k) + '.pvd')\n",
    "            #vtkfile << w\n",
    "            \n",
    "            #Volume Prediction\n",
    "            #closest_p = closest_point_in_mesh(bvec_volPredict, mesh)\n",
    "            #print(bvecs[27])\n",
    "            #print(closest_p)\n",
    "            #print(w(closest_p))\n",
    "            #inpaintedImg_3D[i,j,k] = w(closest_p)\n",
    "            \n",
    "            inpaintedImg_3D[i,j,k] = w(bvec_volPredict)"
   ]
  },
  {
   "cell_type": "code",
   "execution_count": 19,
   "metadata": {},
   "outputs": [],
   "source": [
    "ni_img = nib.Nifti1Image(inpaintedImg_3D, affine=affine)\n",
    "nib.save(ni_img, \"multi_qspace_LH_volume_image_on_sphere_54_dely.nii\")"
   ]
  },
  {
   "cell_type": "code",
   "execution_count": null,
   "metadata": {},
   "outputs": [],
   "source": []
  },
  {
   "cell_type": "code",
   "execution_count": 20,
   "metadata": {},
   "outputs": [],
   "source": [
    "array_u = nodal_values_u = w.vector()\n",
    "vertex_values_u = w.compute_vertex_values()"
   ]
  },
  {
   "cell_type": "code",
   "execution_count": 21,
   "metadata": {},
   "outputs": [
    {
     "name": "stdout",
     "output_type": "stream",
     "text": [
      "<dolfin.cpp.la.PETScVector object at 0x7f3d9409cbf8>\n"
     ]
    }
   ],
   "source": [
    "print(array_u)"
   ]
  },
  {
   "cell_type": "code",
   "execution_count": 22,
   "metadata": {},
   "outputs": [
    {
     "name": "stdout",
     "output_type": "stream",
     "text": [
      "0.0\n",
      "0.0\n",
      "0.0\n",
      "0.0\n",
      "0.0\n",
      "0.0\n",
      "0.0\n",
      "0.0\n",
      "0.0\n",
      "0.0\n",
      "0.0\n",
      "0.0\n",
      "0.0\n",
      "0.0\n",
      "0.0\n",
      "0.0\n",
      "0.0\n",
      "0.0\n",
      "0.0\n",
      "0.0\n",
      "0.0\n",
      "0.0\n",
      "0.0\n",
      "0.0\n",
      "0.0\n",
      "0.0\n",
      "0.0\n",
      "0.0\n",
      "0.0\n",
      "0.0\n",
      "0.0\n",
      "0.0\n",
      "0.0\n",
      "0.0\n",
      "0.0\n",
      "0.0\n",
      "0.0\n",
      "0.0\n",
      "0.0\n",
      "0.0\n",
      "0.0\n",
      "0.0\n",
      "0.0\n",
      "0.0\n",
      "0.0\n",
      "0.0\n",
      "0.0\n",
      "0.0\n",
      "0.0\n",
      "0.0\n",
      "0.0\n",
      "0.0\n",
      "0.0\n",
      "0.0\n",
      "0.0\n",
      "0.0\n",
      "0.0\n",
      "0.0\n",
      "0.0\n",
      "0.0\n",
      "0.0\n",
      "0.0\n",
      "0.0\n",
      "0.0\n",
      "0.0\n",
      "0.0\n",
      "0.0\n",
      "0.0\n",
      "0.0\n",
      "0.0\n",
      "0.0\n",
      "0.0\n",
      "0.0\n",
      "0.0\n",
      "0.0\n",
      "0.0\n",
      "0.0\n",
      "0.0\n",
      "0.0\n",
      "0.0\n",
      "0.0\n",
      "0.0\n",
      "0.0\n",
      "0.0\n",
      "0.0\n",
      "0.0\n",
      "0.0\n",
      "0.0\n",
      "0.0\n",
      "0.0\n",
      "0.0\n",
      "0.0\n",
      "0.0\n",
      "0.0\n",
      "0.0\n",
      "0.0\n",
      "0.0\n",
      "0.0\n",
      "0.0\n",
      "0.0\n",
      "0.0\n",
      "0.0\n",
      "0.0\n",
      "0.0\n",
      "0.0\n",
      "0.0\n",
      "0.0\n",
      "0.0\n",
      "0.0\n",
      "0.0\n",
      "0.0\n",
      "0.0\n",
      "0.0\n",
      "0.0\n",
      "0.0\n",
      "0.0\n",
      "0.0\n",
      "0.0\n",
      "0.0\n",
      "0.0\n",
      "0.0\n",
      "0.0\n",
      "0.0\n",
      "0.0\n",
      "0.0\n",
      "0.0\n",
      "0.0\n",
      "0.0\n",
      "0.0\n",
      "0.0\n",
      "0.0\n",
      "0.0\n",
      "0.0\n",
      "0.0\n",
      "0.0\n",
      "0.0\n",
      "0.0\n",
      "0.0\n",
      "0.0\n",
      "0.0\n",
      "0.0\n",
      "0.0\n",
      "0.0\n",
      "0.0\n",
      "0.0\n",
      "0.0\n",
      "0.0\n",
      "0.0\n",
      "0.0\n",
      "0.0\n",
      "0.0\n",
      "0.0\n",
      "0.0\n",
      "0.0\n",
      "0.0\n",
      "0.0\n",
      "0.0\n",
      "0.0\n",
      "0.0\n",
      "0.0\n",
      "0.0\n"
     ]
    }
   ],
   "source": [
    "for i in range(len(array_u)):\n",
    "    print(array_u[i])"
   ]
  },
  {
   "cell_type": "code",
   "execution_count": 23,
   "metadata": {},
   "outputs": [
    {
     "data": {
      "text/plain": [
       "0.0"
      ]
     },
     "execution_count": 23,
     "metadata": {},
     "output_type": "execute_result"
    }
   ],
   "source": [
    "min(array_u)"
   ]
  },
  {
   "cell_type": "code",
   "execution_count": 24,
   "metadata": {},
   "outputs": [
    {
     "data": {
      "text/plain": [
       "161"
      ]
     },
     "execution_count": 24,
     "metadata": {},
     "output_type": "execute_result"
    }
   ],
   "source": [
    "len(array_u)"
   ]
  },
  {
   "cell_type": "code",
   "execution_count": null,
   "metadata": {},
   "outputs": [],
   "source": []
  },
  {
   "cell_type": "code",
   "execution_count": 25,
   "metadata": {},
   "outputs": [
    {
     "data": {
      "text/plain": [
       "0.22293058"
      ]
     },
     "execution_count": 25,
     "metadata": {},
     "output_type": "execute_result"
    }
   ],
   "source": [
    "bvecs[1][0]"
   ]
  },
  {
   "cell_type": "code",
   "execution_count": 26,
   "metadata": {},
   "outputs": [
    {
     "data": {
      "text/plain": [
       "0.83703119"
      ]
     },
     "execution_count": 26,
     "metadata": {},
     "output_type": "execute_result"
    }
   ],
   "source": [
    "bvecs[1][2]"
   ]
  },
  {
   "cell_type": "code",
   "execution_count": 27,
   "metadata": {},
   "outputs": [
    {
     "data": {
      "text/plain": [
       "43.0"
      ]
     },
     "execution_count": 27,
     "metadata": {},
     "output_type": "execute_result"
    }
   ],
   "source": [
    "data_float[63,54,30,1]"
   ]
  },
  {
   "cell_type": "code",
   "execution_count": 28,
   "metadata": {},
   "outputs": [
    {
     "data": {
      "text/plain": [
       "46.0"
      ]
     },
     "execution_count": 28,
     "metadata": {},
     "output_type": "execute_result"
    }
   ],
   "source": [
    "data_float[63,54,30,14]"
   ]
  },
  {
   "cell_type": "code",
   "execution_count": 29,
   "metadata": {},
   "outputs": [
    {
     "data": {
      "text/plain": [
       "13.0"
      ]
     },
     "execution_count": 29,
     "metadata": {},
     "output_type": "execute_result"
    }
   ],
   "source": [
    "data_float[63,54,30,17]"
   ]
  },
  {
   "cell_type": "code",
   "execution_count": 30,
   "metadata": {},
   "outputs": [
    {
     "data": {
      "text/plain": [
       "48.0"
      ]
     },
     "execution_count": 30,
     "metadata": {},
     "output_type": "execute_result"
    }
   ],
   "source": [
    "data_float[63,54,30,20]"
   ]
  },
  {
   "cell_type": "code",
   "execution_count": 31,
   "metadata": {},
   "outputs": [
    {
     "data": {
      "text/plain": [
       "25.0"
      ]
     },
     "execution_count": 31,
     "metadata": {},
     "output_type": "execute_result"
    }
   ],
   "source": [
    "data_float[63,54,30,22]"
   ]
  },
  {
   "cell_type": "code",
   "execution_count": 32,
   "metadata": {},
   "outputs": [
    {
     "data": {
      "text/plain": [
       "52.0"
      ]
     },
     "execution_count": 32,
     "metadata": {},
     "output_type": "execute_result"
    }
   ],
   "source": [
    "data_float[63,54,30,29]"
   ]
  },
  {
   "cell_type": "code",
   "execution_count": null,
   "metadata": {},
   "outputs": [],
   "source": []
  },
  {
   "cell_type": "code",
   "execution_count": 33,
   "metadata": {},
   "outputs": [],
   "source": [
    "#error_L2 = errornorm(u_D, w, 'L2')\n",
    "#vertex_values_u_D = u_D.compute_vertex_values(mesh)\n",
    "#vertex_values_u = w.compute_vertex_values(mesh)\n",
    "#error_max = np.max(np.abs(vertex_values_u_D - vertex_values_u))\n",
    "#print(error_max)\n",
    "#print(error_L2)"
   ]
  },
  {
   "cell_type": "code",
   "execution_count": null,
   "metadata": {},
   "outputs": [],
   "source": []
  },
  {
   "cell_type": "code",
   "execution_count": null,
   "metadata": {},
   "outputs": [],
   "source": []
  },
  {
   "cell_type": "code",
   "execution_count": 34,
   "metadata": {},
   "outputs": [
    {
     "data": {
      "text/plain": [
       "array([-0.70739847,  0.15345097,  0.68995672])"
      ]
     },
     "execution_count": 34,
     "metadata": {},
     "output_type": "execute_result"
    }
   ],
   "source": [
    "bvecs[27]"
   ]
  },
  {
   "cell_type": "code",
   "execution_count": 35,
   "metadata": {},
   "outputs": [
    {
     "data": {
      "text/plain": [
       "4294967295"
      ]
     },
     "execution_count": 35,
     "metadata": {},
     "output_type": "execute_result"
    }
   ],
   "source": [
    "x_point = Point(*[bvecs[27]])\n",
    "mesh.bounding_box_tree().compute_first_entity_collision(x_point)"
   ]
  },
  {
   "cell_type": "code",
   "execution_count": 36,
   "metadata": {},
   "outputs": [],
   "source": [
    "#mesh.bounding_box_tree().compute_closest_point(x_point)"
   ]
  },
  {
   "cell_type": "code",
   "execution_count": 37,
   "metadata": {},
   "outputs": [
    {
     "data": {
      "text/plain": [
       "(104, 104, 72)"
      ]
     },
     "execution_count": 37,
     "metadata": {},
     "output_type": "execute_result"
    }
   ],
   "source": [
    "inpaintedImg_3D.shape"
   ]
  },
  {
   "cell_type": "code",
   "execution_count": 38,
   "metadata": {},
   "outputs": [
    {
     "data": {
      "text/plain": [
       "142.06634451896326"
      ]
     },
     "execution_count": 38,
     "metadata": {},
     "output_type": "execute_result"
    }
   ],
   "source": [
    "max(inpaintedImg_3D.flatten())"
   ]
  },
  {
   "cell_type": "code",
   "execution_count": null,
   "metadata": {},
   "outputs": [],
   "source": []
  },
  {
   "cell_type": "code",
   "execution_count": null,
   "metadata": {},
   "outputs": [],
   "source": []
  },
  {
   "cell_type": "code",
   "execution_count": null,
   "metadata": {},
   "outputs": [],
   "source": []
  },
  {
   "cell_type": "code",
   "execution_count": null,
   "metadata": {},
   "outputs": [],
   "source": []
  }
 ],
 "metadata": {
  "kernelspec": {
   "display_name": "Python 3",
   "language": "python",
   "name": "python3"
  },
  "language_info": {
   "codemirror_mode": {
    "name": "ipython",
    "version": 3
   },
   "file_extension": ".py",
   "mimetype": "text/x-python",
   "name": "python",
   "nbconvert_exporter": "python",
   "pygments_lexer": "ipython3",
   "version": "3.6.7"
  }
 },
 "nbformat": 4,
 "nbformat_minor": 2
}
