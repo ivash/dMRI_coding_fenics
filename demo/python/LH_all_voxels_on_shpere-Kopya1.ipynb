{
 "cells": [
  {
   "cell_type": "code",
   "execution_count": 1,
   "metadata": {},
   "outputs": [],
   "source": [
    "import dipy"
   ]
  },
  {
   "cell_type": "code",
   "execution_count": 2,
   "metadata": {},
   "outputs": [],
   "source": [
    "from dipy.io.image import load_nifti, save_nifti\n",
    "from dipy.io.gradients import read_bvals_bvecs"
   ]
  },
  {
   "cell_type": "code",
   "execution_count": 3,
   "metadata": {},
   "outputs": [],
   "source": [
    "from fenics import *\n",
    "from mshr import *\n",
    "#from math import pi, sin, cos, sqrt\n",
    "import math\n",
    "import matplotlib.pyplot as plt\n",
    "import numpy as np\n",
    "import nibabel as nib\n",
    "import os"
   ]
  },
  {
   "cell_type": "code",
   "execution_count": 4,
   "metadata": {
    "scrolled": true
   },
   "outputs": [
    {
     "name": "stdout",
     "output_type": "stream",
     "text": [
      "data.shape (104, 104, 72, 32)\n",
      "b values:  [  0. 700. 700. 700. 700. 700. 700. 700. 700. 700. 700. 700. 700. 700.\n",
      " 700. 700. 700. 700. 700. 700. 700.   0. 700. 700. 700. 700. 700. 700.\n",
      " 700. 700. 700. 700.]\n",
      "b vectors:  [[ 0.          0.          0.        ]\n",
      " [ 0.22293058 -0.49968055 -0.83703119]\n",
      " [-0.17871778 -0.49333411 -0.85128242]\n",
      " [-0.37542525 -0.14225766 -0.91587037]\n",
      " [ 0.41157657 -0.72193778 -0.556247  ]\n",
      " [ 0.19853516 -0.93616748 -0.29012811]\n",
      " [ 0.84751403 -0.52907634 -0.04240569]\n",
      " [ 0.73912424 -0.51868695 -0.42972025]\n",
      " [ 0.43850514 -0.15385152 -0.88546205]\n",
      " [ 0.75664991 -0.17243032 -0.63067305]\n",
      " [ 0.62896943 -0.74815804  0.21132247]\n",
      " [ 0.30347744 -0.94898587  0.0855993 ]\n",
      " [ 0.28489485 -0.54959691  0.78535217]\n",
      " [ 0.62077832 -0.54730117  0.56133366]\n",
      " [ 0.97062433 -0.19699152  0.13814011]\n",
      " [ 0.83273727 -0.20222756  0.51541471]\n",
      " [-0.03439669 -0.75075191  0.65968806]\n",
      " [-0.02572841 -0.94997877  0.31125325]\n",
      " [-0.68088585 -0.5256443   0.50999278]\n",
      " [-0.36761704 -0.53581387  0.76010603]\n",
      " [-0.15568012  0.20317107 -0.96668768]\n",
      " [ 0.          0.         -0.        ]\n",
      " [-0.24489762 -0.19681381  0.9493627 ]\n",
      " [-0.66621846 -0.72867197  0.15871401]\n",
      " [-0.33905616 -0.93877596  0.06115915]\n",
      " [-0.19951271 -0.93264794 -0.30060336]\n",
      " [-0.38958105 -0.71641558 -0.57877034]\n",
      " [-0.70739847 -0.15345097 -0.68995672]\n",
      " [-0.71661639 -0.50075305 -0.48549715]\n",
      " [-0.85508788 -0.50734621 -0.106886  ]\n",
      " [-0.87868327 -0.18046372  0.44198251]\n",
      " [-0.98415816 -0.1684573   0.05526903]]\n"
     ]
    }
   ],
   "source": [
    "fname = 'dMRI_data/ss-ras_data.nii.gz' \n",
    "bval_fname = 'dMRI_data/ss-ras.bval' \n",
    "bvec_fname = 'dMRI_data/ss-ras.bvec'\n",
    "\n",
    "data, affine = load_nifti(fname)\n",
    "bvals, bvecs = read_bvals_bvecs(bval_fname, bvec_fname)\n",
    "dims = data.shape\n",
    "print('data.shape (%d, %d, %d, %d)' % dims)\n",
    "\n",
    "data_float = data.astype(np.float32)\n",
    "\n",
    "dataMaxVal = int(max(data.flatten()))\n",
    "dataMinVal = int(min(data.flatten()))\n",
    "\n",
    "print('b values: ', bvals)\n",
    "print('b vectors: ', bvecs)"
   ]
  },
  {
   "cell_type": "code",
   "execution_count": null,
   "metadata": {},
   "outputs": [],
   "source": []
  },
  {
   "cell_type": "code",
   "execution_count": 5,
   "metadata": {},
   "outputs": [],
   "source": [
    "def project_point_onto_affine_subspace(p, V):\n",
    "    \"\"\"Projects a point onto an affine subspace\n",
    "\n",
    "    p.shape = (N,)   OR (num_pts, N) for vectorization over many points / affine subspaces\n",
    "    V.shape = (k, N) OR (num_pts, k, N) for vectorization\n",
    "\n",
    "    N = dimension of ambient space\n",
    "    k-1 = dimension of affine subspace\n",
    "\n",
    "    For a single point / affine subspace:\n",
    "        - p is the point in R^N to be projected onto the affine subspace\n",
    "        - The affine subspace is the set of all affine combinations\n",
    "        of rows, V[i,:], of the matrix V\n",
    "\n",
    "    Vectorization:\n",
    "    For many points / affine subspaces, each point is\n",
    "    projected onto its corresponding affine subspace\n",
    "        p[i,:] is the ith point\n",
    "        V[i,:,:] is the matrix defining the ith affine subspace\n",
    "\n",
    "    Example usage:\n",
    "        import numpy as np\n",
    "        spatial_dim = 3\n",
    "        p1 = np.random.randn(spatial_dim)\n",
    "        V1 = np.array([[2., 0., 0.],\n",
    "                      [2., 1., 0.],\n",
    "                      [2., 0., 1.]])\n",
    "        p2 = np.random.randn(spatial_dim)\n",
    "        V2 = np.array([[0., 3., 0.],\n",
    "                       [1., 3., 0.],\n",
    "                       [0., 3., 1.]])\n",
    "        p = np.stack([p1, p2])\n",
    "        V = np.stack([V1, V2])\n",
    "        projected_p, affine_coordinates = project_point_onto_affine_subspace(p, V)\n",
    "        projected_p1 = projected_p[0,:]\n",
    "        projected_p2 = projected_p[1,:]\n",
    "        print('p1=', p1)\n",
    "        print('projected_p1=', projected_p1)\n",
    "        print('p2=', p2)\n",
    "        print('projected_p2=', projected_p2)\n",
    "    \"\"\"\n",
    "    if len(p.shape) == 1:\n",
    "        PP = p.reshape((1, p.shape[0]))\n",
    "        VV = V.reshape((1, V.shape[0], V.shape[1]))\n",
    "    else:\n",
    "        PP = p\n",
    "        VV = V\n",
    "    num_pts, k, N = VV.shape\n",
    "\n",
    "    if k == 1:\n",
    "        affine_coordinates = np.ones((num_pts, 1))\n",
    "    else:\n",
    "        VV0 = VV[:, 0, :].reshape((num_pts, 1, N))\n",
    "        dVV = VV[:, 1: :].reshape((num_pts, k-1, N)) - VV0\n",
    "        dPP = PP.reshape((num_pts, 1, N)) - VV0\n",
    "\n",
    "        if k == 2:\n",
    "            PHI = np.sum(dVV * dVV, axis=-1).reshape((num_pts))\n",
    "            RHS = np.sum(dVV * dPP, axis=-1).reshape((num_pts))\n",
    "            cc_rest = (RHS / PHI).reshape((num_pts, 1))\n",
    "        else:\n",
    "            PHI = np.einsum('xiz,xjz->xij', dVV, dVV) # shape = (num_pts, k-1, k-1)\n",
    "            iPHI = np.linalg.inv(PHI) # shape = (num_pts, k-1, k-1)\n",
    "\n",
    "            RHS = np.sum(dVV * dPP, axis=-1)  # shape = (num_pts, k-1)\n",
    "            cc_rest = np.einsum('pij,pj->pi', iPHI, RHS)  # shape = (num_pts, k-1)\n",
    "\n",
    "        cc_first = (1. - np.sum(cc_rest, axis=1)).reshape((num_pts, 1))\n",
    "        affine_coordinates = np.concatenate([cc_first, cc_rest], axis=1) # shape = (num_pts, k)\n",
    "\n",
    "    PP_projected = np.einsum('pi,pij->pj', affine_coordinates, VV) # shape = (num_pts, N)\n",
    "\n",
    "    if len(p.shape) == 1:\n",
    "        PP_projected = PP_projected.reshape(-1)\n",
    "        affine_coordinates = affine_coordinates.reshape(-1)\n",
    "    return PP_projected, affine_coordinates\n",
    "\n",
    "def powerset(s):\n",
    "    # NOT MY CODE. FROM USER \"hughdbrown\" ON STACKOVERFLOW HERE:\n",
    "    # https://stackoverflow.com/a/1482320/484944\n",
    "    x = len(s)\n",
    "    masks = [1 << i for i in range(x)]\n",
    "    for i in range(1 << x):\n",
    "        yield [ss for mask, ss in zip(masks, s) if i & mask]\n",
    "\n",
    "def closest_point_on_simplex(p, V):\n",
    "    \"\"\"Projects a point onto a simplex (triangle, tetrahedron, etc)\n",
    "\n",
    "    p.shape = (N,)   OR (num_pts, N) for vectorization over many points/simplices\n",
    "    V.shape = (k, N) OR (num_pts, k, N) for vectorization\n",
    "\n",
    "    N = dimension of ambient space\n",
    "    k-1 = dimension of simplex\n",
    "\n",
    "    For a single point/simplex:\n",
    "        - p is the point in R^N to be projected onto the simplex\n",
    "        - The simplex is the set of all convex combinations\n",
    "        of rows, V[i,:], of the matrix V\n",
    "\n",
    "    Vectorization:\n",
    "    For many points/simplices, each point is\n",
    "    projected onto its corresponding simplex\n",
    "        p[i,:] is the ith point\n",
    "        V[i,:,:] is the matrix defining the ith simplex\n",
    "\n",
    "    Example usage:\n",
    "        import numpy as np\n",
    "        import matplotlib.pyplot as plt\n",
    "        p1 = np.array([1.1, 0.4])\n",
    "        V1 = np.array([[0., 0.],\n",
    "                       [0., 1.],\n",
    "                       [1., 0.]])\n",
    "        p2 = np.array([-0.3, 1.1])\n",
    "        V2 = np.array([[-1.0, 0.],\n",
    "                       [0.,   0.],\n",
    "                       [-0.5, 0.5]])\n",
    "        p = np.stack([p1, p2])\n",
    "        V = np.stack([V1, V2])\n",
    "        projected_p = closest_point_on_simplex(p, V)\n",
    "        projected_p1 = projected_p[0,:]\n",
    "        projected_p2 = projected_p[1,:]\n",
    "        plt.figure()\n",
    "        t1 = plt.Polygon(V1)\n",
    "        plt.gca().add_patch(t1)\n",
    "        plt.plot([p1[0], projected_p1[0]],\n",
    "                 [p1[1], projected_p1[1]], 'r')\n",
    "        t2 = plt.Polygon(V2)\n",
    "        plt.gca().add_patch(t2)\n",
    "        plt.plot([p2[0], projected_p2[0]],\n",
    "                 [p2[1], projected_p2[1]], 'r')\n",
    "        plt.gca().set_aspect('equal')\n",
    "        plt.show()\n",
    "    \"\"\"\n",
    "    if len(p.shape) == 1:\n",
    "        PP = p.reshape((1, p.shape[0]))\n",
    "        VV = V.reshape((1, V.shape[0], V.shape[1]))\n",
    "    else:\n",
    "        PP = p\n",
    "        VV = V\n",
    "    num_pts, k, N = VV.shape\n",
    "\n",
    "    subsets = list(powerset(list(range(k)))) # e.g., [[], [0], [1], [2], [0,1], [0,2], [1,2], [0,1,2]]\n",
    "    QQ = list()\n",
    "    CC = list()\n",
    "    for s in subsets:\n",
    "        if s:\n",
    "            simplicial_facet = VV[:,s,:]\n",
    "            Q, C = project_point_onto_affine_subspace(PP, simplicial_facet)\n",
    "            QQ.append(Q)\n",
    "            CC.append(C)\n",
    "\n",
    "    distances = np.stack([np.linalg.norm(Q - PP, axis=-1) for Q in QQ]) # shape=(num_facets, num_pts)\n",
    "\n",
    "    good_inds = np.stack([(np.all(0. <= C, axis=1) & np.all(C <= 1., axis=1)) for C in CC]) # shape=(num_facets, num_pts)\n",
    "    bad_inds = np.logical_not(good_inds)\n",
    "    distances[bad_inds] = np.inf\n",
    "    closest_inds = np.expand_dims(np.argmin(distances[:, :, None], axis=0), axis=0)\n",
    "\n",
    "    QQ_stack = np.stack(QQ) # shape=(num_facets, num_pts, N)\n",
    "    PP_projected = np.take_along_axis(QQ_stack, closest_inds, axis=0)[0,:,:]\n",
    "\n",
    "    if len(p.shape) == 1:\n",
    "        PP_projected = PP_projected.reshape(-1)\n",
    "    return PP_projected\n",
    "\n",
    "def closest_point_in_mesh(p, mesh):\n",
    "    \"\"\"Finds the nearest point in a mesh to a given point\n",
    "    p is the point or points (numpy array)\n",
    "    mesh is the fenics/dolfin mesh\n",
    "\n",
    "    p.shape = (N,) OR (num_pts, N) for vectorization over many points\n",
    "    N = dimension of ambient space\n",
    "\n",
    "    Example usage:\n",
    "        import numpy as np\n",
    "        import dolfin as dl\n",
    "        import matplotlib.pyplot as plt\n",
    "        mesh = dl.UnitSquareMesh(13,9)\n",
    "        num_pts = 20\n",
    "        p = np.random.randn(num_pts, 2) + np.array([0.5, 0.5])\n",
    "        closest_p = closest_point_in_mesh(p, mesh)\n",
    "        plt.figure()\n",
    "        dl.plot(mesh)\n",
    "        for ii in range(num_pts):\n",
    "            plt.plot([p[ii,0], closest_p[ii,0]], [p[ii,1], closest_p[ii,1]], 'b')\n",
    "            plt.plot(p[ii,0], p[ii,1], '*k')\n",
    "            plt.plot(closest_p[ii,0], closest_p[ii,1], '.r')\n",
    "        plt.show()\n",
    "    \"\"\"\n",
    "    if len(p.shape) == 1:\n",
    "        PP = p[None,:]\n",
    "    else:\n",
    "        PP = p\n",
    "    num_pts, N = PP.shape\n",
    "    tdim = mesh.topology().dim()\n",
    "    k = tdim + 1\n",
    "\n",
    "    VV = np.zeros((num_pts, k, N))\n",
    "    bbt = mesh.bounding_box_tree()\n",
    "    for ii in range(num_pts):\n",
    "        pi = PP[ii,:]\n",
    "        closest_entity, closest_distance = bbt.compute_closest_entity(Point(pi))\n",
    "        closest_cell = mesh.cells()[closest_entity]\n",
    "        vertices_of_closest_cell = mesh.coordinates()[closest_cell, :]\n",
    "        VV[ii, :, :] = vertices_of_closest_cell\n",
    "\n",
    "    closest_PP = closest_point_on_simplex(PP, VV)\n",
    "\n",
    "    if len(p.shape) == 1:\n",
    "        closest_PP = closest_PP.reshape(-1)\n",
    "    return closest_PP"
   ]
  },
  {
   "cell_type": "code",
   "execution_count": null,
   "metadata": {},
   "outputs": [],
   "source": []
  },
  {
   "cell_type": "code",
   "execution_count": 6,
   "metadata": {},
   "outputs": [],
   "source": [
    "#center = Point(0.0, 0.0, 0.0)\n",
    "#sphere = Sphere(center,1.0)\n",
    "#mesh = generate_mesh(sphere,5) # 20 specify the resolution of the mesh\n",
    "#plot(mesh)"
   ]
  },
  {
   "cell_type": "code",
   "execution_count": 7,
   "metadata": {},
   "outputs": [
    {
     "data": {
      "text/plain": [
       "<mpl_toolkits.mplot3d.art3d.Poly3DCollection at 0x7f52e29d5f98>"
      ]
     },
     "execution_count": 7,
     "metadata": {},
     "output_type": "execute_result"
    },
    {
     "data": {
      "image/png": "[encoded data removed]",
      "text/plain": [
       "<Figure size 432x288 with 1 Axes>"
      ]
     },
     "metadata": {
      "needs_background": "light"
     },
     "output_type": "display_data"
    }
   ],
   "source": [
    "# Mesh and function space\n",
    "sphere = Sphere(Point(0.0, 0.0, 0.0), 1.0)\n",
    "vmesh = generate_mesh(sphere, 5)\n",
    "mesh = BoundaryMesh(vmesh, \"exterior\")\n",
    "plot(mesh)"
   ]
  },
  {
   "cell_type": "code",
   "execution_count": 8,
   "metadata": {},
   "outputs": [
    {
     "name": "stdout",
     "output_type": "stream",
     "text": [
      "IIIIIIIIIIII:  0\n",
      "IIIIIIIIIIII:  1\n",
      "IIIIIIIIIIII:  2\n",
      "IIIIIIIIIIII:  3\n",
      "IIIIIIIIIIII:  4\n",
      "IIIIIIIIIIII:  5\n",
      "IIIIIIIIIIII:  6\n",
      "IIIIIIIIIIII:  7\n",
      "IIIIIIIIIIII:  8\n",
      "IIIIIIIIIIII:  9\n",
      "IIIIIIIIIIII:  10\n",
      "IIIIIIIIIIII:  11\n",
      "IIIIIIIIIIII:  12\n",
      "IIIIIIIIIIII:  13\n",
      "IIIIIIIIIIII:  14\n",
      "IIIIIIIIIIII:  15\n",
      "IIIIIIIIIIII:  16\n",
      "IIIIIIIIIIII:  17\n",
      "IIIIIIIIIIII:  18\n",
      "IIIIIIIIIIII:  19\n",
      "IIIIIIIIIIII:  20\n",
      "IIIIIIIIIIII:  21\n",
      "IIIIIIIIIIII:  22\n",
      "IIIIIIIIIIII:  23\n",
      "IIIIIIIIIIII:  24\n",
      "IIIIIIIIIIII:  25\n",
      "IIIIIIIIIIII:  26\n",
      "IIIIIIIIIIII:  27\n",
      "IIIIIIIIIIII:  28\n",
      "IIIIIIIIIIII:  29\n",
      "IIIIIIIIIIII:  30\n",
      "IIIIIIIIIIII:  31\n",
      "IIIIIIIIIIII:  32\n",
      "IIIIIIIIIIII:  33\n",
      "IIIIIIIIIIII:  34\n",
      "IIIIIIIIIIII:  35\n",
      "IIIIIIIIIIII:  36\n",
      "IIIIIIIIIIII:  37\n",
      "IIIIIIIIIIII:  38\n",
      "IIIIIIIIIIII:  39\n",
      "IIIIIIIIIIII:  40\n",
      "IIIIIIIIIIII:  41\n",
      "IIIIIIIIIIII:  42\n",
      "IIIIIIIIIIII:  43\n",
      "IIIIIIIIIIII:  44\n",
      "IIIIIIIIIIII:  45\n",
      "IIIIIIIIIIII:  46\n",
      "IIIIIIIIIIII:  47\n",
      "IIIIIIIIIIII:  48\n",
      "IIIIIIIIIIII:  49\n",
      "IIIIIIIIIIII:  50\n",
      "IIIIIIIIIIII:  51\n",
      "IIIIIIIIIIII:  52\n",
      "IIIIIIIIIIII:  53\n",
      "IIIIIIIIIIII:  54\n",
      "IIIIIIIIIIII:  55\n",
      "IIIIIIIIIIII:  56\n",
      "IIIIIIIIIIII:  57\n",
      "IIIIIIIIIIII:  58\n",
      "IIIIIIIIIIII:  59\n",
      "IIIIIIIIIIII:  60\n",
      "IIIIIIIIIIII:  61\n",
      "IIIIIIIIIIII:  62\n",
      "IIIIIIIIIIII:  63\n",
      "IIIIIIIIIIII:  64\n",
      "IIIIIIIIIIII:  65\n",
      "IIIIIIIIIIII:  66\n",
      "IIIIIIIIIIII:  67\n",
      "IIIIIIIIIIII:  68\n",
      "IIIIIIIIIIII:  69\n",
      "IIIIIIIIIIII:  70\n",
      "IIIIIIIIIIII:  71\n",
      "IIIIIIIIIIII:  72\n",
      "IIIIIIIIIIII:  73\n",
      "IIIIIIIIIIII:  74\n",
      "IIIIIIIIIIII:  75\n",
      "IIIIIIIIIIII:  76\n",
      "IIIIIIIIIIII:  77\n",
      "IIIIIIIIIIII:  78\n",
      "IIIIIIIIIIII:  79\n",
      "IIIIIIIIIIII:  80\n",
      "IIIIIIIIIIII:  81\n",
      "IIIIIIIIIIII:  82\n",
      "IIIIIIIIIIII:  83\n",
      "IIIIIIIIIIII:  84\n",
      "IIIIIIIIIIII:  85\n",
      "IIIIIIIIIIII:  86\n",
      "IIIIIIIIIIII:  87\n",
      "IIIIIIIIIIII:  88\n",
      "IIIIIIIIIIII:  89\n",
      "IIIIIIIIIIII:  90\n",
      "IIIIIIIIIIII:  91\n",
      "IIIIIIIIIIII:  92\n",
      "IIIIIIIIIIII:  93\n",
      "IIIIIIIIIIII:  94\n",
      "IIIIIIIIIIII:  95\n",
      "IIIIIIIIIIII:  96\n",
      "IIIIIIIIIIII:  97\n",
      "IIIIIIIIIIII:  98\n",
      "IIIIIIIIIIII:  99\n",
      "IIIIIIIIIIII:  100\n",
      "IIIIIIIIIIII:  101\n",
      "IIIIIIIIIIII:  102\n",
      "IIIIIIIIIIII:  103\n"
     ]
    }
   ],
   "source": [
    "inpaintedImg_3D = np.zeros((dims[0], dims[1], dims[2]))\n",
    "for i in range(dims[0]):\n",
    "    print(\"IIIIIIIIIIII: \", i)\n",
    "    for j in range(dims[1]):\n",
    "        for k in range(dims[2]):\n",
    "            #V = FunctionSpace(mesh, \"CG\", 1)\n",
    "            V = FunctionSpace(mesh, \"P\", 1)\n",
    "\n",
    "            # get coordinates of DOFs\n",
    "            dof_coords = V.tabulate_dof_coordinates()\n",
    "            # find nearest DOF:\n",
    "            dof1 = np.argmin(np.linalg.norm(dof_coords - bvecs[1], axis=1))\n",
    "            #print('dof {}, x = {}'.format(dof1, dof_coords[dof1]))\n",
    "            dof1_sym = np.argmin(np.linalg.norm(dof_coords + bvecs[1], axis=1))\n",
    "            #print('dof {}, x = {}'.format(dof1_sym, dof_coords[dof1_sym]))\n",
    "\n",
    "            dof14 = np.argmin(np.linalg.norm(dof_coords - bvecs[14], axis=1))\n",
    "            #print('dof {}, x = {}'.format(dof14, dof_coords[dof14]))\n",
    "            dof14_sym = np.argmin(np.linalg.norm(dof_coords + bvecs[14], axis=1))\n",
    "            #print('dof {}, x = {}'.format(dof14_sym, dof_coords[dof14_sym]))\n",
    "\n",
    "            dof17 = np.argmin(np.linalg.norm(dof_coords - bvecs[17], axis=1))\n",
    "            #print('dof {}, x = {}'.format(dof17, dof_coords[dof17]))\n",
    "            dof17_sym = np.argmin(np.linalg.norm(dof_coords + bvecs[17], axis=1))\n",
    "            #print('dof {}, x = {}'.format(dof17_sym, dof_coords[dof17_sym]))\n",
    "\n",
    "            dof20 = np.argmin(np.linalg.norm(dof_coords - bvecs[20], axis=1))\n",
    "            #print('dof {}, x = {}'.format(dof20, dof_coords[dof20]))\n",
    "            dof20_sym = np.argmin(np.linalg.norm(dof_coords + bvecs[20], axis=1))\n",
    "            #print('dof {}, x = {}'.format(dof20_sym, dof_coords[dof20_sym]))\n",
    "\n",
    "            dof22 = np.argmin(np.linalg.norm(dof_coords - bvecs[22], axis=1))\n",
    "            #print('dof {}, x = {}'.format(dof22, dof_coords[dof22]))\n",
    "            dof22_sym = np.argmin(np.linalg.norm(dof_coords + bvecs[22], axis=1))\n",
    "            #print('dof {}, x = {}'.format(dof22_sym, dof_coords[dof22_sym]))\n",
    "\n",
    "            dof29 = np.argmin(np.linalg.norm(dof_coords - bvecs[29], axis=1))\n",
    "            #print('dof {}, x = {}'.format(dof29, dof_coords[dof29]))\n",
    "            dof29_sym = np.argmin(np.linalg.norm(dof_coords + bvecs[29], axis=1))\n",
    "            #print('dof {}, x = {}'.format(dof29_sym, dof_coords[dof29_sym]))\n",
    "            \n",
    "            dof27 = np.argmin(np.linalg.norm(dof_coords - bvecs[27], axis=1))\n",
    "            dof27_sym = np.argmin(np.linalg.norm(dof_coords + bvecs[27], axis=1))\n",
    "            \n",
    "            dof9 = np.argmin(np.linalg.norm(dof_coords - bvecs[9], axis=1))\n",
    "            dof9_sym = np.argmin(np.linalg.norm(dof_coords + bvecs[9], axis=1))\n",
    "            \n",
    "            dof12 = np.argmin(np.linalg.norm(dof_coords - bvecs[12], axis=1))\n",
    "            dof12_sym = np.argmin(np.linalg.norm(dof_coords + bvecs[12], axis=1))\n",
    "            \n",
    "            dof26 = np.argmin(np.linalg.norm(dof_coords - bvecs[26], axis=1))\n",
    "            dof26_sym = np.argmin(np.linalg.norm(dof_coords + bvecs[26], axis=1))\n",
    "            \n",
    "            dof10 = np.argmin(np.linalg.norm(dof_coords - bvecs[10], axis=1))\n",
    "            dof10_sym = np.argmin(np.linalg.norm(dof_coords + bvecs[10], axis=1))\n",
    "            \n",
    "            dof5 = np.argmin(np.linalg.norm(dof_coords - bvecs[5], axis=1))\n",
    "            dof5_sym = np.argmin(np.linalg.norm(dof_coords + bvecs[5], axis=1))\n",
    "            \n",
    "            # now define a DirichletBC at that point\n",
    "            bcs = [DirichletBC(V, Constant(data_float[i,j,k,1]),\n",
    "                     'near(x[0], {x}) && near(x[1], {y}) && near(x[2], {z})'.format(x=dof_coords[dof1][0], y=dof_coords[dof1][1], z=dof_coords[dof1][2]),\n",
    "                     'pointwise'),\n",
    "                  DirichletBC(V, Constant(data_float[i,j,k,1]),\n",
    "                     'near(x[0], {x}) && near(x[1], {y})'.format(x=dof_coords[dof1_sym][0], y=dof_coords[dof1_sym][1], z=dof_coords[dof1_sym][2]),\n",
    "                     'pointwise'),\n",
    "      \n",
    "                  DirichletBC(V, Constant(data_float[i,j,k,14]),\n",
    "                     'near(x[0], {x}) && near(x[1], {y})'.format(x=dof_coords[dof14][0], y=dof_coords[dof14][1], z=dof_coords[dof14][2]),\n",
    "                     'pointwise'),\n",
    "                  DirichletBC(V, Constant(data_float[i,j,k,14]),\n",
    "                     'near(x[0], {x}) && near(x[1], {y})'.format(x=dof_coords[dof14_sym][0], y=dof_coords[dof14_sym][1], z=dof_coords[dof14_sym][2]),\n",
    "                     'pointwise'),\n",
    "      \n",
    "                  DirichletBC(V, Constant(data_float[i,j,k,17]),\n",
    "                     'near(x[0], {x}) && near(x[1], {y})'.format(x=dof_coords[dof17][0], y=dof_coords[dof17][1], z=dof_coords[dof17][2]),\n",
    "                     'pointwise'),\n",
    "                  DirichletBC(V, Constant(data_float[i,j,k,17]),\n",
    "                     'near(x[0], {x}) && near(x[1], {y})'.format(x=dof_coords[dof17_sym][0], y=dof_coords[dof17_sym][1], z=dof_coords[dof17_sym][2]),\n",
    "                     'pointwise'),\n",
    "      \n",
    "                  DirichletBC(V, Constant(data_float[i,j,k,20]),\n",
    "                     'near(x[0], {x}) && near(x[1], {y})'.format(x=dof_coords[dof20][0], y=dof_coords[dof20][1], z=dof_coords[dof20][2]),\n",
    "                     'pointwise'),\n",
    "                  DirichletBC(V, Constant(data_float[i,j,k,20]),\n",
    "                     'near(x[0], {x}) && near(x[1], {y})'.format(x=dof_coords[dof20_sym][0], y=dof_coords[dof20_sym][1], z=dof_coords[dof20_sym][2]),\n",
    "                     'pointwise'),\n",
    "      \n",
    "                  DirichletBC(V, Constant(data_float[i,j,k,22]),\n",
    "                     'near(x[0], {x}) && near(x[1], {y})'.format(x=dof_coords[dof22][0], y=dof_coords[dof22][1], z=dof_coords[dof22][2]),\n",
    "                     'pointwise'),\n",
    "                  DirichletBC(V, Constant(data_float[i,j,k,22]),\n",
    "                     'near(x[0], {x}) && near(x[1], {y})'.format(x=dof_coords[dof22_sym][0], y=dof_coords[dof22_sym][1], z=dof_coords[dof22_sym][2]),\n",
    "                     'pointwise'),\n",
    "      \n",
    "                  DirichletBC(V, Constant(data_float[i,j,k,29]),\n",
    "                     'near(x[0], {x}) && near(x[1], {y})'.format(x=dof_coords[dof29][0], y=dof_coords[dof29][1], z=dof_coords[dof29][2]),\n",
    "                     'pointwise'),\n",
    "                  DirichletBC(V, Constant(data_float[i,j,k,29]),\n",
    "                     'near(x[0], {x}) && near(x[1], {y})'.format(x=dof_coords[dof29_sym][0], y=dof_coords[dof29_sym][1], z=dof_coords[dof29_sym][2]),\n",
    "                     'pointwise'),\n",
    "                   \n",
    "                  DirichletBC(V, Constant(data_float[i,j,k,27]),\n",
    "                     'near(x[0], {x}) && near(x[1], {y})'.format(x=dof_coords[dof27][0], y=dof_coords[dof27][1], z=dof_coords[dof27][2]),\n",
    "                     'pointwise'),\n",
    "                  DirichletBC(V, Constant(data_float[i,j,k,27]),\n",
    "                     'near(x[0], {x}) && near(x[1], {y})'.format(x=dof_coords[dof27_sym][0], y=dof_coords[dof27_sym][1], z=dof_coords[dof27_sym][2]),\n",
    "                     'pointwise'),\n",
    "                   \n",
    "                  DirichletBC(V, Constant(data_float[i,j,k,9]),\n",
    "                     'near(x[0], {x}) && near(x[1], {y})'.format(x=dof_coords[dof9][0], y=dof_coords[dof9][1], z=dof_coords[dof9][2]),\n",
    "                     'pointwise'),\n",
    "                  DirichletBC(V, Constant(data_float[i,j,k,9]),\n",
    "                     'near(x[0], {x}) && near(x[1], {y})'.format(x=dof_coords[dof9_sym][0], y=dof_coords[dof9_sym][1], z=dof_coords[dof9_sym][2]),\n",
    "                     'pointwise'),\n",
    "                   \n",
    "                  DirichletBC(V, Constant(data_float[i,j,k,12]),\n",
    "                     'near(x[0], {x}) && near(x[1], {y})'.format(x=dof_coords[dof12][0], y=dof_coords[dof12][1], z=dof_coords[dof12][2]),\n",
    "                     'pointwise'),\n",
    "                  DirichletBC(V, Constant(data_float[i,j,k,12]),\n",
    "                     'near(x[0], {x}) && near(x[1], {y})'.format(x=dof_coords[dof12_sym][0], y=dof_coords[dof12_sym][1], z=dof_coords[dof12_sym][2]),\n",
    "                     'pointwise'),\n",
    "                   \n",
    "                  DirichletBC(V, Constant(data_float[i,j,k,26]),\n",
    "                     'near(x[0], {x}) && near(x[1], {y})'.format(x=dof_coords[dof26][0], y=dof_coords[dof26][1], z=dof_coords[dof26][2]),\n",
    "                     'pointwise'),\n",
    "                  DirichletBC(V, Constant(data_float[i,j,k,26]),\n",
    "                     'near(x[0], {x}) && near(x[1], {y})'.format(x=dof_coords[dof26_sym][0], y=dof_coords[dof26_sym][1], z=dof_coords[dof26_sym][2]),\n",
    "                     'pointwise'),\n",
    "                   \n",
    "                  DirichletBC(V, Constant(data_float[i,j,k,10]),\n",
    "                     'near(x[0], {x}) && near(x[1], {y})'.format(x=dof_coords[dof10][0], y=dof_coords[dof10][1], z=dof_coords[dof10][2]),\n",
    "                     'pointwise'),\n",
    "                  DirichletBC(V, Constant(data_float[i,j,k,10]),\n",
    "                     'near(x[0], {x}) && near(x[1], {y})'.format(x=dof_coords[dof10_sym][0], y=dof_coords[dof10_sym][1], z=dof_coords[dof10_sym][2]),\n",
    "                     'pointwise'),\n",
    "                   \n",
    "                  DirichletBC(V, Constant(data_float[i,j,k,5]),\n",
    "                     'near(x[0], {x}) && near(x[1], {y})'.format(x=dof_coords[dof5][0], y=dof_coords[dof5][1], z=dof_coords[dof5][2]),\n",
    "                     'pointwise'),\n",
    "                  DirichletBC(V, Constant(data_float[i,j,k,5]),\n",
    "                     'near(x[0], {x}) && near(x[1], {y})'.format(x=dof_coords[dof5_sym][0], y=dof_coords[dof5_sym][1], z=dof_coords[dof5_sym][2]),\n",
    "                     'pointwise')\n",
    "                 ]\n",
    "\n",
    "            u = TrialFunction(V) \n",
    "            v = TestFunction(V)\n",
    "            w = Function(V)      \n",
    "\n",
    "            x = SpatialCoordinate(mesh)\n",
    "            # Defining spherical coordinates\n",
    "            #theta = Expression(\"atan2(x[1],x[0])\", degree=2)\n",
    "            #phi = Expression(\"acos(x[2]/sqrt(x[0]*x[0]+x[1]*x[1]+x[2]*x[2]))\", degree=2)\n",
    "            phi = Expression(\"atan2(x[1],x[0])\", degree=2)\n",
    "            theta = Expression(\"acos(x[2]/sqrt(x[0]*x[0]+x[1]*x[1]+x[2]*x[2]))\", degree=2)\n",
    "            \n",
    "            a2 = u.dx(1)*v.dx(1)\n",
    "            a3 = (Constant(1.)/sin(theta)**2)*(u.dx(2)*v.dx(2))\n",
    "            a4 = (cos(theta)/sin(theta))*u.dx(1)*v\n",
    "            a = (a2+a3-a4)*dx\n",
    "    \n",
    "            #a1 = (sin(theta)*sin(theta)*sin(phi)*sin(phi)+cos(theta)*cos(phi)/sin(theta))*(u.dx(0)*v.dx(0))\n",
    "            #a2 = (cos(theta)*cos(theta)*sin(phi)*sin(phi)+cos(phi)*cos(phi))*(u.dx(1)*v.dx(1))\n",
    "            #a3 = (sin(phi)**2/sin(theta)**2)*(u.dx(2)*v.dx(2))\n",
    "            #a4 = (-sin(theta)*sin(phi)*sin(phi)*cos(theta)+cos(theta)*cos(phi)*cos(phi)*sin(theta))*(u.dx(0)*v.dx(1))\n",
    "            #a5 = (-cos(theta)*cos(phi)*sin(phi))*(u.dx(0)*v.dx(2))\n",
    "            #a6 = (-cos(theta)*sin(phi)*sin(phi))*(u.dx(1)*v.dx(2))\n",
    "            #a7 = (cos(theta)*sin(phi))*(u.dx(0)*v)\n",
    "            #a8 = (-cos(theta)*cos(theta)*sin(phi)/sin(theta))*(u.dx(1)*v)\n",
    "            #a = (a1+a2+a3+a4+a5+a6+a7+a8)*dx\n",
    "    \n",
    "            f = Constant(0.0)\n",
    "\n",
    "            L = f*v*dx\n",
    "            solve(a == L, w, bcs)\n",
    "    \n",
    "            # Save solution to file in VTK format\n",
    "            #vtkfile = File('LH_all_voxels/solution_' + str(i) + '_' + str(j) + '_' + str(k) + '.pvd')\n",
    "            #vtkfile << w\n",
    "            \n",
    "            closest_p = closest_point_in_mesh(bvecs[18], mesh)\n",
    "            #print(bvecs[27])\n",
    "            #print(closest_p)\n",
    "            #print(w(closest_p))\n",
    "            \n",
    "            inpaintedImg_3D[i,j,k] = w(closest_p)"
   ]
  },
  {
   "cell_type": "code",
   "execution_count": null,
   "metadata": {},
   "outputs": [],
   "source": []
  },
  {
   "cell_type": "code",
   "execution_count": 9,
   "metadata": {},
   "outputs": [],
   "source": [
    "array_u = nodal_values_u = w.vector()\n",
    "vertex_values_u = w.compute_vertex_values()"
   ]
  },
  {
   "cell_type": "code",
   "execution_count": 10,
   "metadata": {},
   "outputs": [
    {
     "name": "stdout",
     "output_type": "stream",
     "text": [
      "<dolfin.cpp.la.PETScVector object at 0x7f52e31f4258>\n"
     ]
    }
   ],
   "source": [
    "print(array_u)"
   ]
  },
  {
   "cell_type": "code",
   "execution_count": 11,
   "metadata": {},
   "outputs": [
    {
     "name": "stdout",
     "output_type": "stream",
     "text": [
      "0.0\n",
      "0.0\n",
      "0.0\n",
      "0.0\n",
      "0.0\n",
      "0.0\n",
      "0.0\n",
      "0.0\n",
      "0.0\n",
      "0.0\n",
      "0.0\n",
      "0.0\n",
      "0.0\n",
      "0.0\n",
      "0.0\n",
      "0.0\n",
      "0.0\n",
      "0.0\n",
      "0.0\n",
      "0.0\n",
      "0.0\n",
      "0.0\n",
      "0.0\n",
      "0.0\n",
      "0.0\n",
      "0.0\n",
      "0.0\n",
      "0.0\n",
      "0.0\n",
      "0.0\n",
      "0.0\n",
      "0.0\n",
      "0.0\n",
      "0.0\n",
      "0.0\n",
      "0.0\n",
      "0.0\n",
      "0.0\n",
      "0.0\n",
      "0.0\n",
      "0.0\n",
      "0.0\n",
      "0.0\n",
      "0.0\n",
      "0.0\n",
      "0.0\n",
      "0.0\n",
      "0.0\n",
      "0.0\n",
      "0.0\n",
      "0.0\n",
      "0.0\n",
      "0.0\n",
      "0.0\n",
      "0.0\n",
      "0.0\n",
      "0.0\n",
      "0.0\n",
      "0.0\n",
      "0.0\n",
      "0.0\n",
      "0.0\n",
      "0.0\n",
      "0.0\n",
      "0.0\n",
      "0.0\n",
      "0.0\n",
      "0.0\n",
      "0.0\n",
      "0.0\n",
      "0.0\n",
      "0.0\n",
      "0.0\n",
      "0.0\n",
      "0.0\n",
      "0.0\n",
      "0.0\n",
      "0.0\n",
      "0.0\n",
      "0.0\n",
      "0.0\n",
      "0.0\n",
      "0.0\n",
      "0.0\n",
      "0.0\n",
      "0.0\n",
      "0.0\n",
      "0.0\n",
      "0.0\n",
      "0.0\n",
      "0.0\n",
      "0.0\n",
      "0.0\n",
      "0.0\n",
      "0.0\n",
      "0.0\n",
      "0.0\n",
      "0.0\n",
      "0.0\n",
      "0.0\n",
      "0.0\n",
      "0.0\n",
      "0.0\n",
      "0.0\n",
      "0.0\n"
     ]
    }
   ],
   "source": [
    "for i in range(len(array_u)):\n",
    "    print(array_u[i])"
   ]
  },
  {
   "cell_type": "code",
   "execution_count": 12,
   "metadata": {},
   "outputs": [
    {
     "data": {
      "text/plain": [
       "0.0"
      ]
     },
     "execution_count": 12,
     "metadata": {},
     "output_type": "execute_result"
    }
   ],
   "source": [
    "min(array_u)"
   ]
  },
  {
   "cell_type": "code",
   "execution_count": 13,
   "metadata": {},
   "outputs": [
    {
     "data": {
      "text/plain": [
       "105"
      ]
     },
     "execution_count": 13,
     "metadata": {},
     "output_type": "execute_result"
    }
   ],
   "source": [
    "len(array_u)"
   ]
  },
  {
   "cell_type": "code",
   "execution_count": null,
   "metadata": {},
   "outputs": [],
   "source": []
  },
  {
   "cell_type": "code",
   "execution_count": 14,
   "metadata": {},
   "outputs": [
    {
     "data": {
      "text/plain": [
       "0.22293058"
      ]
     },
     "execution_count": 14,
     "metadata": {},
     "output_type": "execute_result"
    }
   ],
   "source": [
    "bvecs[1][0]"
   ]
  },
  {
   "cell_type": "code",
   "execution_count": 15,
   "metadata": {},
   "outputs": [
    {
     "data": {
      "text/plain": [
       "-0.83703119"
      ]
     },
     "execution_count": 15,
     "metadata": {},
     "output_type": "execute_result"
    }
   ],
   "source": [
    "bvecs[1][2]"
   ]
  },
  {
   "cell_type": "code",
   "execution_count": 16,
   "metadata": {},
   "outputs": [
    {
     "data": {
      "text/plain": [
       "43.0"
      ]
     },
     "execution_count": 16,
     "metadata": {},
     "output_type": "execute_result"
    }
   ],
   "source": [
    "data_float[63,54,30,1]"
   ]
  },
  {
   "cell_type": "code",
   "execution_count": 17,
   "metadata": {},
   "outputs": [
    {
     "data": {
      "text/plain": [
       "46.0"
      ]
     },
     "execution_count": 17,
     "metadata": {},
     "output_type": "execute_result"
    }
   ],
   "source": [
    "data_float[63,54,30,14]"
   ]
  },
  {
   "cell_type": "code",
   "execution_count": 18,
   "metadata": {},
   "outputs": [
    {
     "data": {
      "text/plain": [
       "13.0"
      ]
     },
     "execution_count": 18,
     "metadata": {},
     "output_type": "execute_result"
    }
   ],
   "source": [
    "data_float[63,54,30,17]"
   ]
  },
  {
   "cell_type": "code",
   "execution_count": 19,
   "metadata": {},
   "outputs": [
    {
     "data": {
      "text/plain": [
       "48.0"
      ]
     },
     "execution_count": 19,
     "metadata": {},
     "output_type": "execute_result"
    }
   ],
   "source": [
    "data_float[63,54,30,20]"
   ]
  },
  {
   "cell_type": "code",
   "execution_count": 20,
   "metadata": {},
   "outputs": [
    {
     "data": {
      "text/plain": [
       "25.0"
      ]
     },
     "execution_count": 20,
     "metadata": {},
     "output_type": "execute_result"
    }
   ],
   "source": [
    "data_float[63,54,30,22]"
   ]
  },
  {
   "cell_type": "code",
   "execution_count": 21,
   "metadata": {},
   "outputs": [
    {
     "data": {
      "text/plain": [
       "52.0"
      ]
     },
     "execution_count": 21,
     "metadata": {},
     "output_type": "execute_result"
    }
   ],
   "source": [
    "data_float[63,54,30,29]"
   ]
  },
  {
   "cell_type": "code",
   "execution_count": null,
   "metadata": {},
   "outputs": [],
   "source": []
  },
  {
   "cell_type": "code",
   "execution_count": 22,
   "metadata": {},
   "outputs": [],
   "source": [
    "#error_L2 = errornorm(u_D, w, 'L2')\n",
    "#vertex_values_u_D = u_D.compute_vertex_values(mesh)\n",
    "#vertex_values_u = w.compute_vertex_values(mesh)\n",
    "#error_max = np.max(np.abs(vertex_values_u_D - vertex_values_u))\n",
    "#print(error_max)\n",
    "#print(error_L2)"
   ]
  },
  {
   "cell_type": "code",
   "execution_count": null,
   "metadata": {},
   "outputs": [],
   "source": []
  },
  {
   "cell_type": "code",
   "execution_count": null,
   "metadata": {},
   "outputs": [],
   "source": []
  },
  {
   "cell_type": "code",
   "execution_count": 23,
   "metadata": {},
   "outputs": [
    {
     "data": {
      "text/plain": [
       "array([-0.70739847, -0.15345097, -0.68995672])"
      ]
     },
     "execution_count": 23,
     "metadata": {},
     "output_type": "execute_result"
    }
   ],
   "source": [
    "bvecs[27]"
   ]
  },
  {
   "cell_type": "code",
   "execution_count": 24,
   "metadata": {},
   "outputs": [
    {
     "data": {
      "text/plain": [
       "4294967295"
      ]
     },
     "execution_count": 24,
     "metadata": {},
     "output_type": "execute_result"
    }
   ],
   "source": [
    "x_point = Point(*[bvecs[27]])\n",
    "mesh.bounding_box_tree().compute_first_entity_collision(x_point)"
   ]
  },
  {
   "cell_type": "code",
   "execution_count": 25,
   "metadata": {},
   "outputs": [],
   "source": [
    "#mesh.bounding_box_tree().compute_closest_point(x_point)"
   ]
  },
  {
   "cell_type": "code",
   "execution_count": 26,
   "metadata": {},
   "outputs": [
    {
     "data": {
      "text/plain": [
       "(104, 104, 72)"
      ]
     },
     "execution_count": 26,
     "metadata": {},
     "output_type": "execute_result"
    }
   ],
   "source": [
    "inpaintedImg_3D.shape"
   ]
  },
  {
   "cell_type": "code",
   "execution_count": 27,
   "metadata": {},
   "outputs": [
    {
     "data": {
      "text/plain": [
       "464.99999999999994"
      ]
     },
     "execution_count": 27,
     "metadata": {},
     "output_type": "execute_result"
    }
   ],
   "source": [
    "max(inpaintedImg_3D.flatten())"
   ]
  },
  {
   "cell_type": "code",
   "execution_count": null,
   "metadata": {},
   "outputs": [],
   "source": []
  },
  {
   "cell_type": "code",
   "execution_count": 28,
   "metadata": {},
   "outputs": [],
   "source": [
    "ni_img = nib.Nifti1Image(inpaintedImg_3D, affine=np.eye(4))\n",
    "nib.save(ni_img, \"qspace_LH_volume_image_on_sphere_18.nii\")"
   ]
  },
  {
   "cell_type": "code",
   "execution_count": null,
   "metadata": {},
   "outputs": [],
   "source": []
  },
  {
   "cell_type": "code",
   "execution_count": null,
   "metadata": {},
   "outputs": [],
   "source": []
  }
 ],
 "metadata": {
  "kernelspec": {
   "display_name": "Python 3",
   "language": "python",
   "name": "python3"
  },
  "language_info": {
   "codemirror_mode": {
    "name": "ipython",
    "version": 3
   },
   "file_extension": ".py",
   "mimetype": "text/x-python",
   "name": "python",
   "nbconvert_exporter": "python",
   "pygments_lexer": "ipython3",
   "version": "3.6.7"
  }
 },
 "nbformat": 4,
 "nbformat_minor": 2
}
