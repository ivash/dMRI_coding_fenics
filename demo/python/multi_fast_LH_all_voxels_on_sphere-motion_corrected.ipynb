{
 "cells": [
  {
   "cell_type": "code",
   "execution_count": 49,
   "metadata": {},
   "outputs": [],
   "source": [
    "import dipy"
   ]
  },
  {
   "cell_type": "code",
   "execution_count": 50,
   "metadata": {},
   "outputs": [],
   "source": [
    "from dipy.io.image import load_nifti, save_nifti\n",
    "from dipy.io.gradients import read_bvals_bvecs"
   ]
  },
  {
   "cell_type": "code",
   "execution_count": 51,
   "metadata": {},
   "outputs": [],
   "source": [
    "from fenics import *\n",
    "from mshr import *\n",
    "#from math import pi, sin, cos, sqrt\n",
    "import math\n",
    "import matplotlib.pyplot as plt\n",
    "import numpy as np\n",
    "import nibabel as nib\n",
    "import os\n",
    "import subprocess\n",
    "import sys"
   ]
  },
  {
   "cell_type": "code",
   "execution_count": 52,
   "metadata": {
    "scrolled": true
   },
   "outputs": [
    {
     "name": "stdout",
     "output_type": "stream",
     "text": [
      "data.shape (104, 104, 72, 99)\n",
      "b values:  [   0.  700.  700.  700.  700.  700.  700.  700.  700.  700.  700.  700.\n",
      "  700.  700.  700.  700.  700.  700.  700.  700.  700.    0.  700.  700.\n",
      "  700.  700.  700.  700.  700.  700.  700.  700. 2000. 2000. 2000. 2000.\n",
      " 2000. 2000. 2000. 2000. 2000. 2000.    0. 2000. 2000. 2000. 2000. 2000.\n",
      " 2000. 2000. 2000. 2000. 2000. 2000. 2000. 2000. 2000. 2000. 2000. 2000.\n",
      " 2000. 2000. 2000.    0. 2000. 2000. 2000. 2000. 2000. 2000. 2000. 2000.\n",
      " 2000. 2000. 2000. 2000. 2000. 2000. 2000. 2000. 2000. 2000. 2000. 2000.\n",
      "    0. 2000. 2000. 2000. 2000. 2000. 2000. 2000. 2000. 2000. 2000. 2000.\n",
      " 2000. 2000. 2000.]\n",
      "b vectors:  [[ 0.00000000e+00  0.00000000e+00  0.00000000e+00]\n",
      " [ 2.29261401e-01  4.98447686e-01  8.36055634e-01]\n",
      " [-1.85743427e-01  4.92344598e-01  8.50350824e-01]\n",
      " [-3.81860495e-01  1.40636080e-01  9.13457142e-01]\n",
      " [ 4.07417812e-01  7.22273158e-01  5.58867040e-01]\n",
      " [ 2.02001969e-01  9.35659954e-01  2.89371278e-01]\n",
      " [ 8.51215480e-01  5.23550620e-01  3.64280398e-02]\n",
      " [ 7.45883905e-01  5.14319350e-01  4.23241178e-01]\n",
      " [ 4.47146467e-01  1.50453230e-01  8.81716481e-01]\n",
      " [ 7.63302617e-01  1.68268634e-01  6.23742398e-01]\n",
      " [ 6.31811244e-01  7.44182711e-01 -2.16810582e-01]\n",
      " [ 3.05945359e-01  9.47691802e-01 -9.09816664e-02]\n",
      " [ 2.80464327e-01  5.46317988e-01 -7.89225118e-01]\n",
      " [ 6.20324770e-01  5.39732530e-01 -5.69109609e-01]\n",
      " [ 9.71239112e-01  1.90942394e-01 -1.42251636e-01]\n",
      " [ 8.33213096e-01  1.93887791e-01 -5.17844698e-01]\n",
      " [-3.66399944e-02  7.44955264e-01 -6.66107397e-01]\n",
      " [-2.58876149e-02  9.48113240e-01 -3.16877445e-01]\n",
      " [-6.84986698e-01  5.19172145e-01 -5.11129743e-01]\n",
      " [-3.71218563e-01  5.33521252e-01 -7.59968302e-01]\n",
      " [-1.61749084e-01 -2.03022935e-01  9.65721894e-01]\n",
      " [ 0.00000000e+00  0.00000000e+00  0.00000000e+00]\n",
      " [-2.49939963e-01  1.93403071e-01 -9.48749347e-01]\n",
      " [-6.67388575e-01  7.28071490e-01 -1.56538838e-01]\n",
      " [-3.41146945e-01  9.37854038e-01 -6.36269500e-02]\n",
      " [-2.02418948e-01  9.32603119e-01  2.98794032e-01]\n",
      " [-3.94015193e-01  7.16183219e-01  5.76049832e-01]\n",
      " [-7.09714360e-01  1.51976351e-01  6.87901728e-01]\n",
      " [-7.19491912e-01  4.99227954e-01  4.82807404e-01]\n",
      " [-8.57739210e-01  5.03557435e-01  1.03505723e-01]\n",
      " [-8.78579946e-01  1.75400896e-01 -4.44220426e-01]\n",
      " [-9.84748236e-01  1.64398072e-01 -5.69560956e-02]\n",
      " [-9.99862044e-01 -1.46511400e-02  7.82411593e-03]\n",
      " [-2.50994941e-03  9.99010016e-01  4.44151874e-02]\n",
      " [ 1.40948945e-02  6.13084541e-01  7.89891502e-01]\n",
      " [-5.88792674e-01 -7.81339135e-01  2.06959843e-01]\n",
      " [ 2.24358148e-01 -5.68636258e-01  7.91401491e-01]\n",
      " [ 8.86335781e-01 -2.91557454e-01  3.59726477e-01]\n",
      " [-8.04629816e-01  1.02228001e-01  5.84910592e-01]\n",
      " [-2.39296197e-01  9.14287098e-01  3.26827829e-01]\n",
      " [-9.40665464e-01  1.18828698e-01  3.17849616e-01]\n",
      " [-5.04841425e-01 -8.34679346e-01 -2.20103608e-01]\n",
      " [ 0.00000000e+00  0.00000000e+00  0.00000000e+00]\n",
      " [-3.42725093e-01 -8.25786579e-01 -4.47902346e-01]\n",
      " [-4.50722542e-01 -5.98659255e-01 -6.62160330e-01]\n",
      " [ 4.75936775e-01 -4.27336528e-01  7.68679195e-01]\n",
      " [ 6.15516161e-01  6.57342145e-01  4.34788629e-01]\n",
      " [ 5.89108166e-01 -7.18291271e-02 -8.04855441e-01]\n",
      " [ 8.23717430e-01 -5.32910469e-01  1.93638894e-01]\n",
      " [-8.97617289e-01 -2.28565854e-02 -4.40182666e-01]\n",
      " [-2.82675524e-01 -5.09316870e-01 -8.12829125e-01]\n",
      " [-1.12276720e-01 -9.53162178e-01 -2.80848876e-01]\n",
      " [ 8.03945808e-01  4.27426360e-01 -4.13494820e-01]\n",
      " [-5.15503240e-01  8.32564238e-01  2.02714658e-01]\n",
      " [ 7.95169587e-01  1.84490667e-01 -5.77640494e-01]\n",
      " [-9.48517566e-01 -2.50614293e-01  1.93667088e-01]\n",
      " [-2.41147147e-01  7.56251601e-01  6.08219902e-01]\n",
      " [ 3.27377892e-02 -1.46219462e-01 -9.88710303e-01]\n",
      " [-2.17609516e-01 -9.65583673e-01  1.42457295e-01]\n",
      " [-7.69916166e-01 -6.20113814e-01  1.50625487e-01]\n",
      " [ 1.48280213e-01  2.85205590e-01  9.46927014e-01]\n",
      " [ 1.29031411e-01  7.63233672e-01 -6.33107791e-01]\n",
      " [-8.95640278e-01  3.84156427e-01  2.24170388e-01]\n",
      " [ 0.00000000e+00  0.00000000e+00  0.00000000e+00]\n",
      " [ 5.29718858e-01  2.57185359e-01 -8.08240948e-01]\n",
      " [ 4.05510317e-01  1.36179687e-01  9.03889691e-01]\n",
      " [ 2.59389455e-01 -1.82245440e-01 -9.48421696e-01]\n",
      " [ 3.59397703e-01 -1.55797554e-01  9.20087151e-01]\n",
      " [ 9.65873474e-01 -2.59014579e-01 -2.25474005e-04]\n",
      " [ 9.65176015e-01  2.00993840e-01  1.67441727e-01]\n",
      " [-4.37527230e-01 -8.97667873e-01  5.25581572e-02]\n",
      " [ 7.77418751e-01  6.23014746e-01  8.64436606e-02]\n",
      " [-7.06762583e-01  3.68267659e-01  6.04041222e-01]\n",
      " [ 7.07720158e-01 -1.23059028e-02  7.06385473e-01]\n",
      " [-6.97583604e-01  5.37610944e-01 -4.73657524e-01]\n",
      " [ 1.66265790e-01 -7.53248182e-01  6.36374976e-01]\n",
      " [ 7.54586155e-01  3.78940052e-01  5.35727448e-01]\n",
      " [ 1.00396712e-01  8.14279172e-01  5.71725542e-01]\n",
      " [-5.63340491e-01 -6.33041497e-01  5.30947993e-01]\n",
      " [ 1.08965744e-01 -3.76826317e-01  9.19852344e-01]\n",
      " [ 5.58378852e-01 -8.02805841e-01  2.09083065e-01]\n",
      " [-8.39743945e-01 -4.66335175e-01 -2.78139256e-01]\n",
      " [-3.45973727e-01 -5.92328597e-01  7.27632453e-01]\n",
      " [ 1.61309703e-01  4.26382530e-01 -8.90043321e-01]\n",
      " [ 0.00000000e+00  0.00000000e+00  0.00000000e+00]\n",
      " [ 7.18269213e-01 -6.95275299e-01 -2.61060639e-02]\n",
      " [-4.52350466e-01  6.98113610e-01 -5.54992470e-01]\n",
      " [-5.02107474e-01  6.70139864e-01  5.46626755e-01]\n",
      " [ 1.66480044e-01 -4.89235249e-01 -8.56115207e-01]\n",
      " [-4.62647096e-01  4.00051621e-01  7.91148767e-01]\n",
      " [-3.59922728e-01 -8.29985184e-01  4.26122337e-01]\n",
      " [ 7.28567900e-01 -2.61618798e-01  6.33043651e-01]\n",
      " [-2.77904566e-01  8.93688531e-01 -3.52264112e-01]\n",
      " [-1.54629725e-02  1.09661274e-01 -9.93848819e-01]\n",
      " [-1.07001400e-02 -9.18740320e-01  3.94717104e-01]\n",
      " [-5.89130732e-01 -2.92458592e-01 -7.53254855e-01]\n",
      " [ 2.57834771e-01  1.85316348e-01 -9.48250431e-01]\n",
      " [-7.19073428e-01  5.88557468e-01  3.69504316e-01]\n",
      " [-2.82034758e-01  9.58403721e-01 -4.38039443e-02]]\n"
     ]
    }
   ],
   "source": [
    "fname = 'dMRI_data/motion_correction_test/registrated/correct.nii.gz' \n",
    "bval_fname = 'dMRI_data/ms-ras.bval' \n",
    "bvec_fname = 'dMRI_data/motion_correction_test/registrated/reornt_ms-ras.bvec'\n",
    "\n",
    "data, affine = load_nifti(fname)\n",
    "bvals, bvecs = read_bvals_bvecs(bval_fname, bvec_fname)\n",
    "dims = data.shape\n",
    "print('data.shape (%d, %d, %d, %d)' % dims)\n",
    "\n",
    "data_float = data.astype(np.float32)\n",
    "\n",
    "dataMaxVal = int(max(data.flatten()))\n",
    "dataMinVal = int(min(data.flatten()))\n",
    "\n",
    "print('b values: ', bvals)\n",
    "print('b vectors: ', bvecs)"
   ]
  },
  {
   "cell_type": "code",
   "execution_count": 53,
   "metadata": {},
   "outputs": [],
   "source": [
    "#fname = 'dMRI_data/registered_ms-ras_data_24.nii.gz' \n",
    "#reg_data, reg_affine = load_nifti(fname)\n",
    "#reg_dims = reg_data.shape\n",
    "#print('data.shape (%d, %d, %d, %d)' % reg_dims)\n",
    "#reg_data_float = reg_data.astype(np.float32)\n",
    "#reg_dataMaxVal = int(max(reg_data.flatten()))\n",
    "#reg_dataMinVal = int(min(reg_data.flatten()))"
   ]
  },
  {
   "cell_type": "code",
   "execution_count": 54,
   "metadata": {},
   "outputs": [],
   "source": [
    "parameters['allow_extrapolation'] = True"
   ]
  },
  {
   "cell_type": "code",
   "execution_count": 69,
   "metadata": {},
   "outputs": [],
   "source": [
    "#Input volume number\n",
    "k = 1\n",
    "\n",
    "#B vector\n",
    "b = 700\n",
    "b2000_indcs = np.where(bvals==b)\n",
    "b0_inds = np.where(bvals==0)\n",
    "b0_ind = b0_inds[0][0]"
   ]
  },
  {
   "cell_type": "code",
   "execution_count": 70,
   "metadata": {},
   "outputs": [
    {
     "name": "stdout",
     "output_type": "stream",
     "text": [
      "b sub vectors:  [[-0.18574343  0.4923446   0.85035082]]\n",
      "sorted b sub vector indeces  [0. 2.]\n"
     ]
    }
   ],
   "source": [
    "#To select well distruted (farthes pointing vectors in 3D)\n",
    "def calc_distances(p0, points):\n",
    "    return np.minimum(((p0 - points)**2).sum(axis=1), ((-p0 - points)**2).sum(axis=1))\n",
    "    #return ((p0 - points)**2).sum(axis=1) \n",
    "def farthestPts(pts, K):\n",
    "    farthest_pts = np.zeros((K, 3))\n",
    "    pts_inds = np.zeros(K)\n",
    "    #farthest_pts[0] = pts[np.random.randint(len(pts))]\n",
    "    farthest_pts[0] = pts[1]\n",
    "    pts_inds[0] = 1\n",
    "    distances = calc_distances(farthest_pts[0], pts)\n",
    "    for i in range(1, K):\n",
    "        farthest_pts[i] = pts[np.argmax(distances)]\n",
    "        pts_inds[i] = np.argmax(distances)\n",
    "        distances = np.minimum(distances, calc_distances(farthest_pts[i], pts))\n",
    "    return farthest_pts, pts_inds\n",
    "sub_bvecs, sub_indcs = farthestPts(bvecs[bvals==b], k)\n",
    "print('b sub vectors: ', sub_bvecs)\n",
    "#print('b sub vector indecs ', sub_indcs)\n",
    "\n",
    "#def calc_distances(p0, points):\n",
    "#    return np.minimum(((p0 - points)**2).sum(axis=1), ((-p0 - points)**2).sum(axis=1))\n",
    "#def closestPts(pts, K):\n",
    "#    closest_pts = np.zeros((K, 3))\n",
    "#    pts_inds = np.zeros(K)\n",
    "#    #closest_pts[0] = pts[np.random.randint(len(pts))]\n",
    "#    closest_pts[0] = pts[1]\n",
    "#    pts_inds[0] = 1\n",
    "#    distances = calc_distances(closest_pts[0], pts)\n",
    "#    distances[int(pts_inds[0])] = 1000.0\n",
    "#    for i in range(1, K):\n",
    "#        closest_pts[i] = pts[np.argmin(distances)]\n",
    "#        pts_inds[i] = np.argmin(distances)\n",
    "#        #distances = np.minimum(distances, calc_distances(closest_pts[i], pts))\n",
    "#        distances[int(pts_inds[i])] = 1000.0\n",
    "#    return closest_pts, pts_inds\n",
    "#sub_bvecs, sub_indcs = closestPts(bvecs[bvals==b], k)\n",
    "#print('b sub vectors: ', sub_bvecs)\n",
    "\n",
    "#Choose true indeces\n",
    "true_sub_indcs = np.zeros(len(sub_indcs))\n",
    "for i in range(len(sub_indcs)):\n",
    "    true_sub_indcs[i] = b2000_indcs[0][int(sub_indcs[i])]\n",
    "true_sub_indcs = np.append(true_sub_indcs, b0_ind)\n",
    "sorted_true_sub_indcs = np.sort(true_sub_indcs)\n",
    "#print('b sub vectors: ', sub_bvecs)\n",
    "print('sorted b sub vector indeces ', sorted_true_sub_indcs)"
   ]
  },
  {
   "cell_type": "code",
   "execution_count": 71,
   "metadata": {},
   "outputs": [
    {
     "name": "stdout",
     "output_type": "stream",
     "text": [
      "[  0. 700.]\n",
      "(104, 104, 72, 2)\n"
     ]
    }
   ],
   "source": [
    "# Selecting one b0 and k+7 b700 voxels\n",
    "sorted_true_sub_indcs = sorted_true_sub_indcs.astype(int)\n",
    "sub_bvals = bvals[sorted_true_sub_indcs]\n",
    "print(sub_bvals)\n",
    "\n",
    "sub_data = data_float[:, :, :, sorted_true_sub_indcs]\n",
    "print(sub_data.shape)"
   ]
  },
  {
   "cell_type": "code",
   "execution_count": 72,
   "metadata": {},
   "outputs": [],
   "source": [
    "##Registration\n",
    "#b0_ind = np.where(sub_bvals==0)[0]\n",
    "#regis_sub_data = subprocess.run([\"eddy_correct\", \"cosine_weighted_averaging/sub_vols.nii.gz\", \"cosine_weighted_averaging/registered_data/sub_data_lowb-corrected.nii.gz\", str(b0_ind[0])])\n",
    "#print(\"The exit code was: %d\" % regis_sub_data.returncode)"
   ]
  },
  {
   "cell_type": "code",
   "execution_count": 73,
   "metadata": {},
   "outputs": [],
   "source": [
    "#Load registrated data\n",
    "#nameStr = 'LH_all_voxels/multi_shell_registerered_data/kFrame_correct23.nii.gz'     \n",
    "#sub_regis_data, sub_regis_affine = load_nifti(nameStr)\n",
    "#dims_sub = sub_regis_data.shape\n",
    "#print('data.shape (%d, %d, %d, %d)' % sub_regis_data.shape)\n",
    "#print('Type: ', sub_regis_data.dtype)"
   ]
  },
  {
   "cell_type": "code",
   "execution_count": 74,
   "metadata": {},
   "outputs": [
    {
     "name": "stdout",
     "output_type": "stream",
     "text": [
      "b sub vector indecs  [ 0.  2. 18.]\n",
      "Predicted volume:  18\n"
     ]
    }
   ],
   "source": [
    "#Volume Index to predict\n",
    "#nextIter_sub_bvecs, nextIter_sub_indcs = closestPts(bvecs[bvals==b], k+1)\n",
    "nextIter_sub_bvecs, nextIter_sub_indcs = farthestPts(bvecs[bvals==b], k+1)\n",
    "nextIter_true_sub_indcs = np.zeros(len(nextIter_sub_indcs))\n",
    "for i in range(len(nextIter_sub_indcs)):\n",
    "    nextIter_true_sub_indcs[i] = b2000_indcs[0][int(nextIter_sub_indcs[i])]\n",
    "nextIter_true_sub_indcs = np.append(nextIter_true_sub_indcs, b0_ind)\n",
    "sorted_nextIter_true_sub_indcs = np.sort(nextIter_true_sub_indcs)\n",
    "print('b sub vector indecs ', sorted_nextIter_true_sub_indcs)\n",
    "nextIter_sub_indcs = sorted_nextIter_true_sub_indcs.astype(int)\n",
    "    \n",
    "inter_sub_indcs = [i for i in sorted_nextIter_true_sub_indcs if i not in sorted_true_sub_indcs]\n",
    "if len(inter_sub_indcs) != 0: \n",
    "    left_indcs = inter_sub_indcs[0]\n",
    "else:\n",
    "    left_indcs = np.arange(data.shape[3])\n",
    "    left_indcs = np.delete(left_indcs, sorted_true_sub_indcs)\n",
    "    print(left_indcs)\n",
    "    left_indcs = left_indcs[0]\n",
    "left_indcs = left_indcs.astype(int)\n",
    "print(\"Predicted volume: \", left_indcs)"
   ]
  },
  {
   "cell_type": "code",
   "execution_count": null,
   "metadata": {},
   "outputs": [],
   "source": []
  },
  {
   "cell_type": "code",
   "execution_count": 61,
   "metadata": {},
   "outputs": [],
   "source": [
    "#center = Point(0.0, 0.0, 0.0)\n",
    "#sphere = Sphere(center,1.0)\n",
    "#mesh = generate_mesh(sphere,5) # 20 specify the resolution of the mesh\n",
    "#plot(mesh)"
   ]
  },
  {
   "cell_type": "code",
   "execution_count": 62,
   "metadata": {},
   "outputs": [
    {
     "data": {
      "text/plain": [
       "<mpl_toolkits.mplot3d.art3d.Poly3DCollection at 0x7fe83fca6ba8>"
      ]
     },
     "execution_count": 62,
     "metadata": {},
     "output_type": "execute_result"
    },
    {
     "data": {
      "image/png": "[encoded data removed]",
      "text/plain": [
       "<Figure size 432x288 with 1 Axes>"
      ]
     },
     "metadata": {
      "needs_background": "light"
     },
     "output_type": "display_data"
    }
   ],
   "source": [
    "# Mesh and function space\n",
    "#sphere = Sphere(Point(0.0, 0.0, 0.0), 1.0)\n",
    "#vmesh = generate_mesh(sphere, 5)\n",
    "#mesh = BoundaryMesh(vmesh, \"exterior\")\n",
    "#plot(mesh)\n",
    "\n",
    "#mesh = Mesh('LH/mesh.xml')\n",
    "mesh = Mesh('LH/mesh_on_sphere_myself_b700_del_fib0_1.xml')\n",
    "plot(mesh)"
   ]
  },
  {
   "cell_type": "code",
   "execution_count": 63,
   "metadata": {},
   "outputs": [
    {
     "data": {
      "text/plain": [
       "60"
      ]
     },
     "execution_count": 63,
     "metadata": {},
     "output_type": "execute_result"
    }
   ],
   "source": [
    "# Save solution to file in VTK format\n",
    "vtkfile = File('LH/mesh.pvd')\n",
    "vtkfile << mesh\n",
    "mesh.num_vertices()"
   ]
  },
  {
   "cell_type": "code",
   "execution_count": 64,
   "metadata": {},
   "outputs": [
    {
     "name": "stdout",
     "output_type": "stream",
     "text": [
      "0\n",
      "2\n",
      "4\n",
      "8\n",
      "10\n",
      "15\n",
      "16\n",
      "18\n",
      "20\n",
      "25\n",
      "28\n",
      "31\n"
     ]
    }
   ],
   "source": [
    "for ind in nextIter_sub_indcs:\n",
    "    print(ind)"
   ]
  },
  {
   "cell_type": "code",
   "execution_count": 65,
   "metadata": {},
   "outputs": [
    {
     "name": "stdout",
     "output_type": "stream",
     "text": [
      "0\n",
      "2\n",
      "4\n",
      "8\n",
      "10\n",
      "15\n",
      "16\n",
      "18\n",
      "20\n",
      "25\n",
      "31\n"
     ]
    }
   ],
   "source": [
    "for ind in sorted_true_sub_indcs:\n",
    "    print(ind)"
   ]
  },
  {
   "cell_type": "code",
   "execution_count": 66,
   "metadata": {},
   "outputs": [],
   "source": [
    "#len(sorted_true_sub_indcs)"
   ]
  },
  {
   "cell_type": "code",
   "execution_count": 67,
   "metadata": {},
   "outputs": [
    {
     "data": {
      "text/plain": [
       "28"
      ]
     },
     "execution_count": 67,
     "metadata": {},
     "output_type": "execute_result"
    }
   ],
   "source": [
    "left_indcs"
   ]
  },
  {
   "cell_type": "code",
   "execution_count": 20,
   "metadata": {},
   "outputs": [
    {
     "name": "stdout",
     "output_type": "stream",
     "text": [
      "0.2198920268935147\n",
      "0.0028063245173643742\n",
      "0.0006159775152478298\n",
      "0.004738085455093162\n",
      "0.19296231397274477\n",
      "0.012898871544982952\n",
      "0.07892542133565787\n",
      "0.06363897119905904\n",
      "0.2105441896772162\n",
      "0.21297781788911893\n"
     ]
    }
   ],
   "source": [
    "bvec_volPredict = bvecs[left_indcs]\n",
    "lh_coefs = np.zeros(len(sorted_true_sub_indcs))\n",
    "\n",
    "for l in range(len(sorted_true_sub_indcs)):\n",
    "    if sorted_true_sub_indcs[l] != 0:\n",
    "        V = FunctionSpace(mesh, \"P\", 1)\n",
    "        # get coordinates of DOFs\n",
    "        dof_coords = V.tabulate_dof_coordinates()\n",
    "        \n",
    "        bcs = []\n",
    "        for ind in sorted_true_sub_indcs:\n",
    "            if ind!=0:\n",
    "                if ind==sorted_true_sub_indcs[l]:\n",
    "                    # find nearest DOF:\n",
    "                    dof = np.argmin(np.linalg.norm(dof_coords - bvecs[ind], axis=1))\n",
    "                    #print('dof {}, x = {}'.format(dof, dof_coords[dof]))\n",
    "                    dof_sym = np.argmin(np.linalg.norm(dof_coords + bvecs[ind], axis=1))\n",
    "                    #print('dof {}, x = {}'.format(dof_sym, dof_coords[dof_sym])) \n",
    "\n",
    "                    # now define a DirichletBC at that point\n",
    "                    bcs.extend([DirichletBC(V, Constant(1.0),\n",
    "                                     'near(x[0], {x}) && near(x[1], {y}) && near(x[2], {z})'.format(x=dof_coords[dof][0], y=dof_coords[dof][1], z=dof_coords[dof][2]),\n",
    "                                     'pointwise'),\n",
    "                                DirichletBC(V, Constant(1.0),\n",
    "                                     'near(x[0], {x}) && near(x[1], {y}) && near(x[2], {z})'.format(x=dof_coords[dof_sym][0], y=dof_coords[dof_sym][1], z=dof_coords[dof_sym][2]),\n",
    "                                     'pointwise')])\n",
    "                    #print('Index: ', ind)\n",
    "                else:\n",
    "                    # find nearest DOF:\n",
    "                    dof = np.argmin(np.linalg.norm(dof_coords - bvecs[ind], axis=1))\n",
    "                    #print('dof {}, x = {}'.format(dof, dof_coords[dof]))\n",
    "                    dof_sym = np.argmin(np.linalg.norm(dof_coords + bvecs[ind], axis=1))\n",
    "                    #print('dof {}, x = {}'.format(dof_sym, dof_coords[dof_sym])) \n",
    "\n",
    "                    # now define a DirichletBC at that point\n",
    "                    bcs.extend([DirichletBC(V, Constant(0.0),\n",
    "                                     'near(x[0], {x}) && near(x[1], {y}) && near(x[2], {z})'.format(x=dof_coords[dof][0], y=dof_coords[dof][1], z=dof_coords[dof][2]),\n",
    "                                     'pointwise'),\n",
    "                                DirichletBC(V, Constant(0.0),\n",
    "                                     'near(x[0], {x}) && near(x[1], {y}) && near(x[2], {z})'.format(x=dof_coords[dof_sym][0], y=dof_coords[dof_sym][1], z=dof_coords[dof_sym][2]),\n",
    "                                     'pointwise')])\n",
    "                    \n",
    "        u = TrialFunction(V) \n",
    "        v = TestFunction(V)\n",
    "        w = Function(V)   \n",
    "        \n",
    "        a=inner(grad(u),grad(v))*dx\n",
    "        \n",
    "        f = Constant(0.0)\n",
    "        L = f*v*dx\n",
    "        solve(a == L, w, bcs)\n",
    "        \n",
    "        lh_coefs[l] = w(bvec_volPredict)\n",
    "        print(lh_coefs[l])\n",
    "    else:\n",
    "        lh_coefs[l] = 0"
   ]
  },
  {
   "cell_type": "code",
   "execution_count": 21,
   "metadata": {},
   "outputs": [
    {
     "data": {
      "text/plain": [
       "array([0.        , 0.21989203, 0.00280632, 0.00061598, 0.00473809,\n",
       "       0.19296231, 0.01289887, 0.07892542, 0.06363897, 0.21054419,\n",
       "       0.21297782])"
      ]
     },
     "execution_count": 21,
     "metadata": {},
     "output_type": "execute_result"
    }
   ],
   "source": [
    "lh_coefs"
   ]
  },
  {
   "cell_type": "code",
   "execution_count": 22,
   "metadata": {},
   "outputs": [
    {
     "data": {
      "text/plain": [
       "0.9999999999999999"
      ]
     },
     "execution_count": 22,
     "metadata": {},
     "output_type": "execute_result"
    }
   ],
   "source": [
    "np.sum(lh_coefs)"
   ]
  },
  {
   "cell_type": "code",
   "execution_count": 23,
   "metadata": {},
   "outputs": [
    {
     "data": {
      "text/plain": [
       "array([ 0,  2,  4,  8, 10, 15, 16, 18, 20, 25, 31])"
      ]
     },
     "execution_count": 23,
     "metadata": {},
     "output_type": "execute_result"
    }
   ],
   "source": [
    "sorted_true_sub_indcs"
   ]
  },
  {
   "cell_type": "code",
   "execution_count": 24,
   "metadata": {},
   "outputs": [
    {
     "name": "stdout",
     "output_type": "stream",
     "text": [
      "0 0.0\n",
      "2 0.2198920268935147\n",
      "4 0.0028063245173643742\n",
      "8 0.0006159775152478298\n",
      "10 0.004738085455093162\n",
      "15 0.19296231397274477\n",
      "16 0.012898871544982952\n",
      "18 0.07892542133565787\n",
      "20 0.06363897119905904\n",
      "25 0.2105441896772162\n",
      "31 0.21297781788911893\n"
     ]
    }
   ],
   "source": [
    "inpaintedImg_3D = np.zeros((dims[0], dims[1], dims[2]))\n",
    "\n",
    "for i in range(len(sorted_true_sub_indcs)):\n",
    "    print(sorted_true_sub_indcs[i], lh_coefs[i])\n",
    "    inpaintedImg_3D = inpaintedImg_3D + lh_coefs[i]*data_float[...,sorted_true_sub_indcs[i]]\n",
    "    #inpaintedImg_3D = inpaintedImg_3D + lh_coefs[i]*sub_regis_data[...,i]\n",
    "    #inpaintedImg_3D = inpaintedImg_3D + lh_coefs[i]*reg_data[...,sorted_true_sub_indcs[i]]\n",
    "inpaintedImg_3D = inpaintedImg_3D/np.sum(lh_coefs)"
   ]
  },
  {
   "cell_type": "code",
   "execution_count": 25,
   "metadata": {},
   "outputs": [],
   "source": [
    "#np.array_equal(data_float[..., sorted_true_sub_indcs[1]], sub_regis_data[...,1])"
   ]
  },
  {
   "cell_type": "code",
   "execution_count": 26,
   "metadata": {},
   "outputs": [
    {
     "data": {
      "text/plain": [
       "0.0"
      ]
     },
     "execution_count": 26,
     "metadata": {},
     "output_type": "execute_result"
    }
   ],
   "source": [
    "min(inpaintedImg_3D.flatten())"
   ]
  },
  {
   "cell_type": "code",
   "execution_count": 27,
   "metadata": {},
   "outputs": [
    {
     "data": {
      "text/plain": [
       "array([-0.71949191,  0.49922795,  0.4828074 ])"
      ]
     },
     "execution_count": 27,
     "metadata": {},
     "output_type": "execute_result"
    }
   ],
   "source": [
    "bvec_volPredict"
   ]
  },
  {
   "cell_type": "code",
   "execution_count": 28,
   "metadata": {},
   "outputs": [],
   "source": [
    "ni_img = nib.Nifti1Image(inpaintedImg_3D, affine=affine)\n",
    "nib.save(ni_img, \"multi_shell/multi_fast_qspace_LH_volume_image_on_sphere_28_dely.nii\")"
   ]
  },
  {
   "cell_type": "code",
   "execution_count": null,
   "metadata": {},
   "outputs": [],
   "source": []
  },
  {
   "cell_type": "code",
   "execution_count": 29,
   "metadata": {},
   "outputs": [],
   "source": [
    "array_u = nodal_values_u = w.vector()\n",
    "vertex_values_u = w.compute_vertex_values()"
   ]
  },
  {
   "cell_type": "code",
   "execution_count": 30,
   "metadata": {},
   "outputs": [
    {
     "name": "stdout",
     "output_type": "stream",
     "text": [
      "<dolfin.cpp.la.PETScVector object at 0x7fe819f6a0a0>\n"
     ]
    }
   ],
   "source": [
    "print(array_u)"
   ]
  },
  {
   "cell_type": "code",
   "execution_count": 31,
   "metadata": {},
   "outputs": [],
   "source": [
    "#for i in range(len(array_u)):\n",
    "#    print(array_u[i])"
   ]
  },
  {
   "cell_type": "code",
   "execution_count": 32,
   "metadata": {},
   "outputs": [
    {
     "data": {
      "text/plain": [
       "0.0"
      ]
     },
     "execution_count": 32,
     "metadata": {},
     "output_type": "execute_result"
    }
   ],
   "source": [
    "min(array_u)"
   ]
  },
  {
   "cell_type": "code",
   "execution_count": 33,
   "metadata": {},
   "outputs": [
    {
     "data": {
      "text/plain": [
       "60"
      ]
     },
     "execution_count": 33,
     "metadata": {},
     "output_type": "execute_result"
    }
   ],
   "source": [
    "len(array_u)"
   ]
  },
  {
   "cell_type": "code",
   "execution_count": null,
   "metadata": {},
   "outputs": [],
   "source": []
  },
  {
   "cell_type": "code",
   "execution_count": 34,
   "metadata": {},
   "outputs": [
    {
     "data": {
      "text/plain": [
       "0.22926140055924946"
      ]
     },
     "execution_count": 34,
     "metadata": {},
     "output_type": "execute_result"
    }
   ],
   "source": [
    "bvecs[1][0]"
   ]
  },
  {
   "cell_type": "code",
   "execution_count": 35,
   "metadata": {},
   "outputs": [
    {
     "data": {
      "text/plain": [
       "0.8360556342269777"
      ]
     },
     "execution_count": 35,
     "metadata": {},
     "output_type": "execute_result"
    }
   ],
   "source": [
    "bvecs[1][2]"
   ]
  },
  {
   "cell_type": "code",
   "execution_count": 36,
   "metadata": {},
   "outputs": [
    {
     "data": {
      "text/plain": [
       "34.0"
      ]
     },
     "execution_count": 36,
     "metadata": {},
     "output_type": "execute_result"
    }
   ],
   "source": [
    "data_float[63,54,30,1]"
   ]
  },
  {
   "cell_type": "code",
   "execution_count": 37,
   "metadata": {},
   "outputs": [
    {
     "data": {
      "text/plain": [
       "43.0"
      ]
     },
     "execution_count": 37,
     "metadata": {},
     "output_type": "execute_result"
    }
   ],
   "source": [
    "data_float[63,54,30,14]"
   ]
  },
  {
   "cell_type": "code",
   "execution_count": 38,
   "metadata": {},
   "outputs": [
    {
     "data": {
      "text/plain": [
       "18.0"
      ]
     },
     "execution_count": 38,
     "metadata": {},
     "output_type": "execute_result"
    }
   ],
   "source": [
    "data_float[63,54,30,17]"
   ]
  },
  {
   "cell_type": "code",
   "execution_count": 39,
   "metadata": {},
   "outputs": [
    {
     "data": {
      "text/plain": [
       "35.0"
      ]
     },
     "execution_count": 39,
     "metadata": {},
     "output_type": "execute_result"
    }
   ],
   "source": [
    "data_float[63,54,30,20]"
   ]
  },
  {
   "cell_type": "code",
   "execution_count": 40,
   "metadata": {},
   "outputs": [
    {
     "data": {
      "text/plain": [
       "27.0"
      ]
     },
     "execution_count": 40,
     "metadata": {},
     "output_type": "execute_result"
    }
   ],
   "source": [
    "data_float[63,54,30,22]"
   ]
  },
  {
   "cell_type": "code",
   "execution_count": 41,
   "metadata": {},
   "outputs": [
    {
     "data": {
      "text/plain": [
       "52.0"
      ]
     },
     "execution_count": 41,
     "metadata": {},
     "output_type": "execute_result"
    }
   ],
   "source": [
    "data_float[63,54,30,29]"
   ]
  },
  {
   "cell_type": "code",
   "execution_count": null,
   "metadata": {},
   "outputs": [],
   "source": []
  },
  {
   "cell_type": "code",
   "execution_count": 42,
   "metadata": {},
   "outputs": [],
   "source": [
    "#error_L2 = errornorm(u_D, w, 'L2')\n",
    "#vertex_values_u_D = u_D.compute_vertex_values(mesh)\n",
    "#vertex_values_u = w.compute_vertex_values(mesh)\n",
    "#error_max = np.max(np.abs(vertex_values_u_D - vertex_values_u))\n",
    "#print(error_max)\n",
    "#print(error_L2)"
   ]
  },
  {
   "cell_type": "code",
   "execution_count": null,
   "metadata": {},
   "outputs": [],
   "source": []
  },
  {
   "cell_type": "code",
   "execution_count": null,
   "metadata": {},
   "outputs": [],
   "source": []
  },
  {
   "cell_type": "code",
   "execution_count": 43,
   "metadata": {},
   "outputs": [
    {
     "data": {
      "text/plain": [
       "array([-0.70971436,  0.15197635,  0.68790173])"
      ]
     },
     "execution_count": 43,
     "metadata": {},
     "output_type": "execute_result"
    }
   ],
   "source": [
    "bvecs[27]"
   ]
  },
  {
   "cell_type": "code",
   "execution_count": 44,
   "metadata": {},
   "outputs": [
    {
     "data": {
      "text/plain": [
       "4294967295"
      ]
     },
     "execution_count": 44,
     "metadata": {},
     "output_type": "execute_result"
    }
   ],
   "source": [
    "x_point = Point(*[bvecs[27]])\n",
    "mesh.bounding_box_tree().compute_first_entity_collision(x_point)"
   ]
  },
  {
   "cell_type": "code",
   "execution_count": 45,
   "metadata": {},
   "outputs": [],
   "source": [
    "#mesh.bounding_box_tree().compute_closest_point(x_point)"
   ]
  },
  {
   "cell_type": "code",
   "execution_count": 46,
   "metadata": {},
   "outputs": [
    {
     "data": {
      "text/plain": [
       "(104, 104, 72)"
      ]
     },
     "execution_count": 46,
     "metadata": {},
     "output_type": "execute_result"
    }
   ],
   "source": [
    "inpaintedImg_3D.shape"
   ]
  },
  {
   "cell_type": "code",
   "execution_count": 47,
   "metadata": {},
   "outputs": [
    {
     "data": {
      "text/plain": [
       "380.2329468131066"
      ]
     },
     "execution_count": 47,
     "metadata": {},
     "output_type": "execute_result"
    }
   ],
   "source": [
    "max(inpaintedImg_3D.flatten())"
   ]
  },
  {
   "cell_type": "code",
   "execution_count": null,
   "metadata": {},
   "outputs": [],
   "source": []
  },
  {
   "cell_type": "code",
   "execution_count": 48,
   "metadata": {},
   "outputs": [
    {
     "name": "stdout",
     "output_type": "stream",
     "text": [
      "1.0\n",
      "17.0\n",
      "9.0\n",
      "7.0\n",
      "23.0\n",
      "19.0\n",
      "14.0\n",
      "3.0\n",
      "15.0\n",
      "29.0\n"
     ]
    }
   ],
   "source": [
    "for ind in sub_indcs:\n",
    "    print(ind)"
   ]
  },
  {
   "cell_type": "code",
   "execution_count": null,
   "metadata": {},
   "outputs": [],
   "source": []
  },
  {
   "cell_type": "code",
   "execution_count": null,
   "metadata": {},
   "outputs": [],
   "source": []
  },
  {
   "cell_type": "code",
   "execution_count": null,
   "metadata": {},
   "outputs": [],
   "source": []
  }
 ],
 "metadata": {
  "kernelspec": {
   "display_name": "Python 3",
   "language": "python",
   "name": "python3"
  },
  "language_info": {
   "codemirror_mode": {
    "name": "ipython",
    "version": 3
   },
   "file_extension": ".py",
   "mimetype": "text/x-python",
   "name": "python",
   "nbconvert_exporter": "python",
   "pygments_lexer": "ipython3",
   "version": "3.6.7"
  }
 },
 "nbformat": 4,
 "nbformat_minor": 2
}
