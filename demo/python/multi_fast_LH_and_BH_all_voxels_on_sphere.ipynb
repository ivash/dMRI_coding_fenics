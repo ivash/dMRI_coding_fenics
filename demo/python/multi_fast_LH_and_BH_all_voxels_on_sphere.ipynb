{
 "cells": [
  {
   "cell_type": "code",
   "execution_count": 64,
   "metadata": {},
   "outputs": [],
   "source": [
    "import dipy"
   ]
  },
  {
   "cell_type": "code",
   "execution_count": 65,
   "metadata": {},
   "outputs": [],
   "source": [
    "from dipy.io.image import load_nifti, save_nifti\n",
    "from dipy.io.gradients import read_bvals_bvecs"
   ]
  },
  {
   "cell_type": "code",
   "execution_count": 66,
   "metadata": {},
   "outputs": [],
   "source": [
    "from fenics import *\n",
    "from mshr import *\n",
    "#from math import pi, sin, cos, sqrt\n",
    "import math\n",
    "import matplotlib.pyplot as plt\n",
    "import numpy as np\n",
    "import nibabel as nib\n",
    "import os\n",
    "import subprocess"
   ]
  },
  {
   "cell_type": "code",
   "execution_count": 67,
   "metadata": {
    "scrolled": true
   },
   "outputs": [
    {
     "name": "stdout",
     "output_type": "stream",
     "text": [
      "data.shape (104, 104, 72, 99)\n",
      "b values:  [   0.  700.  700.  700.  700.  700.  700.  700.  700.  700.  700.  700.\n",
      "  700.  700.  700.  700.  700.  700.  700.  700.  700.    0.  700.  700.\n",
      "  700.  700.  700.  700.  700.  700.  700.  700. 2000. 2000. 2000. 2000.\n",
      " 2000. 2000. 2000. 2000. 2000. 2000.    0. 2000. 2000. 2000. 2000. 2000.\n",
      " 2000. 2000. 2000. 2000. 2000. 2000. 2000. 2000. 2000. 2000. 2000. 2000.\n",
      " 2000. 2000. 2000.    0. 2000. 2000. 2000. 2000. 2000. 2000. 2000. 2000.\n",
      " 2000. 2000. 2000. 2000. 2000. 2000. 2000. 2000. 2000. 2000. 2000. 2000.\n",
      "    0. 2000. 2000. 2000. 2000. 2000. 2000. 2000. 2000. 2000. 2000. 2000.\n",
      " 2000. 2000. 2000.]\n",
      "b vectors:  [[ 0.0000000e+00 -0.0000000e+00  0.0000000e+00]\n",
      " [ 2.2293058e-01  4.9968055e-01  8.3703119e-01]\n",
      " [-1.7871778e-01  4.9333411e-01  8.5128242e-01]\n",
      " [-3.7542525e-01  1.4225766e-01  9.1587037e-01]\n",
      " [ 4.1157657e-01  7.2193778e-01  5.5624700e-01]\n",
      " [ 1.9853516e-01  9.3616748e-01  2.9012811e-01]\n",
      " [ 8.4751403e-01  5.2907634e-01  4.2405690e-02]\n",
      " [ 7.3912424e-01  5.1868695e-01  4.2972025e-01]\n",
      " [ 4.3850514e-01  1.5385152e-01  8.8546205e-01]\n",
      " [ 7.5664991e-01  1.7243032e-01  6.3067305e-01]\n",
      " [ 6.2896943e-01  7.4815804e-01 -2.1132247e-01]\n",
      " [ 3.0347744e-01  9.4898587e-01 -8.5599300e-02]\n",
      " [ 2.8489485e-01  5.4959691e-01 -7.8535217e-01]\n",
      " [ 6.2077832e-01  5.4730117e-01 -5.6133366e-01]\n",
      " [ 9.7062433e-01  1.9699152e-01 -1.3814011e-01]\n",
      " [ 8.3273727e-01  2.0222756e-01 -5.1541471e-01]\n",
      " [-3.4396690e-02  7.5075191e-01 -6.5968806e-01]\n",
      " [-2.5728410e-02  9.4997877e-01 -3.1125325e-01]\n",
      " [-6.8088585e-01  5.2564430e-01 -5.0999278e-01]\n",
      " [-3.6761704e-01  5.3581387e-01 -7.6010603e-01]\n",
      " [-1.5568012e-01 -2.0317107e-01  9.6668768e-01]\n",
      " [ 0.0000000e+00 -0.0000000e+00  0.0000000e+00]\n",
      " [-2.4489762e-01  1.9681381e-01 -9.4936270e-01]\n",
      " [-6.6621846e-01  7.2867197e-01 -1.5871401e-01]\n",
      " [-3.3905616e-01  9.3877596e-01 -6.1159150e-02]\n",
      " [-1.9951271e-01  9.3264794e-01  3.0060336e-01]\n",
      " [-3.8958105e-01  7.1641558e-01  5.7877034e-01]\n",
      " [-7.0739847e-01  1.5345097e-01  6.8995672e-01]\n",
      " [-7.1661639e-01  5.0075305e-01  4.8549715e-01]\n",
      " [-8.5508788e-01  5.0734621e-01  1.0688600e-01]\n",
      " [-8.7868327e-01  1.8046372e-01 -4.4198251e-01]\n",
      " [-9.8415816e-01  1.6845730e-01 -5.5269030e-02]\n",
      " [-9.9998999e-01 -3.9998800e-03  1.9999400e-03]\n",
      " [-4.9948000e-04  9.9898493e-01  4.5043090e-02]\n",
      " [ 2.4944310e-02  6.1445940e-01  7.8855395e-01]\n",
      " [-5.9039032e-01 -7.7985275e-01  2.0801200e-01]\n",
      " [ 2.3735723e-01 -5.6915110e-01  7.8722847e-01]\n",
      " [ 8.9393294e-01 -2.8159970e-01  3.4869114e-01]\n",
      " [-7.9665613e-01  1.0245212e-01  5.9568673e-01]\n",
      " [-2.3356465e-01  9.1487938e-01  3.2930726e-01]\n",
      " [-9.3607759e-01  1.2621707e-01  3.2837197e-01]\n",
      " [-5.0643009e-01 -8.3423322e-01 -2.1813659e-01]\n",
      " [ 0.0000000e+00 -0.0000000e+00  0.0000000e+00]\n",
      " [-3.4706694e-01 -8.2521343e-01 -4.4560948e-01]\n",
      " [-4.5817986e-01 -5.9716052e-01 -6.5838480e-01]\n",
      " [ 4.8816177e-01 -4.2692393e-01  7.6120567e-01]\n",
      " [ 6.2027001e-01  6.5688628e-01  4.2867881e-01]\n",
      " [ 5.7621109e-01 -7.1084380e-02 -8.1420386e-01]\n",
      " [ 8.2531255e-01 -5.3441709e-01  1.8236656e-01]\n",
      " [-8.9597398e-01 -2.5028220e-02 -4.4340074e-01]\n",
      " [-2.9121652e-01 -5.0804460e-01 -8.1060714e-01]\n",
      " [-1.1785752e-01 -9.5041883e-01 -2.8777412e-01]\n",
      " [ 7.9899460e-01  4.2643178e-01 -4.2398548e-01]\n",
      " [-5.1170260e-01  8.3323461e-01  2.0947689e-01]\n",
      " [ 7.8701800e-01  1.8293804e-01 -5.8918279e-01]\n",
      " [-9.5000267e-01 -2.4275914e-01  1.9637455e-01]\n",
      " [-2.3124145e-01  7.5768822e-01  6.1027521e-01]\n",
      " [ 1.8150640e-02 -1.4376774e-01 -9.8944497e-01]\n",
      " [-2.1815184e-01 -9.6529853e-01  1.4355603e-01]\n",
      " [-7.7437425e-01 -6.1457777e-01  1.5046185e-01]\n",
      " [ 1.6403137e-01  2.8720394e-01  9.4372010e-01]\n",
      " [ 1.2325888e-01  7.6308644e-01 -6.3443404e-01]\n",
      " [-8.9079481e-01  3.9080378e-01  2.3185565e-01]\n",
      " [ 0.0000000e+00 -0.0000000e+00  0.0000000e+00]\n",
      " [ 5.1867563e-01  2.5647014e-01 -8.1559700e-01]\n",
      " [ 4.1972056e-01  1.3890146e-01  8.9696217e-01]\n",
      " [ 2.7031744e-01 -1.8058614e-01 -9.4568342e-01]\n",
      " [ 3.7372714e-01 -1.4994749e-01  9.1533804e-01]\n",
      " [ 9.6573383e-01 -2.5948238e-01 -5.2187600e-03]\n",
      " [ 9.6443313e-01  2.1101427e-01  1.5919080e-01]\n",
      " [-4.4222176e-01 -8.9561254e-01  4.8147070e-02]\n",
      " [ 7.6881015e-01  6.3443005e-01  8.0182670e-02]\n",
      " [-6.9784802e-01  3.6849079e-01  6.1418474e-01]\n",
      " [ 7.1813208e-01 -1.0619420e-02  6.9582558e-01]\n",
      " [-7.0462537e-01  5.3593230e-01 -4.6505862e-01]\n",
      " [ 1.7117150e-01 -7.5080270e-01  6.3796228e-01]\n",
      " [ 7.5508285e-01  3.9112961e-01  5.2618176e-01]\n",
      " [ 1.0850769e-01  8.1606823e-01  5.6767851e-01]\n",
      " [-5.6061244e-01 -6.2922853e-01  5.3831679e-01]\n",
      " [ 1.2497177e-01 -3.7524998e-01  9.1846037e-01]\n",
      " [ 5.7014918e-01 -7.9521382e-01  2.0631234e-01]\n",
      " [-8.3841747e-01 -4.6896529e-01 -2.7771845e-01]\n",
      " [-3.3342126e-01 -5.9105629e-01  7.3449486e-01]\n",
      " [ 1.5181039e-01  4.2679733e-01 -8.9151424e-01]\n",
      " [ 0.0000000e+00 -0.0000000e+00  0.0000000e+00]\n",
      " [ 7.2697550e-01 -6.8590748e-01 -3.2209960e-02]\n",
      " [-4.5601672e-01  6.9743240e-01 -5.5284446e-01]\n",
      " [-4.9492225e-01  6.7110866e-01  5.5196494e-01]\n",
      " [ 1.5335634e-01 -4.8859259e-01 -8.5892904e-01]\n",
      " [-4.5016909e-01  4.0186495e-01  7.9740351e-01]\n",
      " [-3.6573517e-01 -8.2799923e-01  4.2503539e-01]\n",
      " [ 7.3229760e-01 -2.6231322e-01  6.2843603e-01]\n",
      " [-2.7761558e-01  8.9411885e-01 -3.5139894e-01]\n",
      " [-2.4582910e-02  1.1101565e-01 -9.9351466e-01]\n",
      " [-8.2809200e-03 -9.1833574e-01  3.9571550e-01]\n",
      " [-5.8993262e-01 -2.9020479e-01 -7.5349891e-01]\n",
      " [ 2.5109273e-01  1.8545359e-01 -9.5003116e-01]\n",
      " [-7.1787667e-01  5.8964658e-01  3.7009448e-01]\n",
      " [-2.8169212e-01  9.5859379e-01 -4.1804050e-02]]\n"
     ]
    }
   ],
   "source": [
    "fname = 'dMRI_data/ms-ras_data.nii.gz' \n",
    "bval_fname = 'dMRI_data/ms-ras.bval' \n",
    "bvec_fname = 'dMRI_data/ms-ras.bvec'\n",
    "\n",
    "data, affine = load_nifti(fname)\n",
    "bvals, bvecs = read_bvals_bvecs(bval_fname, bvec_fname)\n",
    "dims = data.shape\n",
    "print('data.shape (%d, %d, %d, %d)' % dims)\n",
    "\n",
    "data_float = data.astype(np.float32)\n",
    "\n",
    "dataMaxVal = int(max(data.flatten()))\n",
    "dataMinVal = int(min(data.flatten()))\n",
    "\n",
    "print('b values: ', bvals)\n",
    "print('b vectors: ', bvecs)"
   ]
  },
  {
   "cell_type": "code",
   "execution_count": 93,
   "metadata": {},
   "outputs": [],
   "source": [
    "#Load WM mask\n",
    "nameStr = 'dMRI_data/fa-tr-thresh.nii.gz'\n",
    "wm_mask, wm_mask_affine = load_nifti(nameStr)\n",
    "wm_mask = wm_mask.astype(bool)"
   ]
  },
  {
   "cell_type": "code",
   "execution_count": 94,
   "metadata": {},
   "outputs": [],
   "source": [
    "parameters['allow_extrapolation'] = True"
   ]
  },
  {
   "cell_type": "code",
   "execution_count": 95,
   "metadata": {},
   "outputs": [],
   "source": [
    "#Input volume number\n",
    "k = 1\n",
    "\n",
    "#B vector\n",
    "b = 700\n",
    "b2000_indcs = np.where(bvals==b)\n",
    "b0_inds = np.where(bvals==0)\n",
    "b0_ind = b0_inds[0][0]"
   ]
  },
  {
   "cell_type": "code",
   "execution_count": 96,
   "metadata": {},
   "outputs": [
    {
     "name": "stdout",
     "output_type": "stream",
     "text": [
      "b sub vectors:  [[-0.17871778  0.49333411  0.85128242]]\n",
      "sorted b sub vector indeces  [0. 2.]\n"
     ]
    }
   ],
   "source": [
    "#To select well distruted (farthes pointing vectors in 3D)\n",
    "def calc_distances(p0, points):\n",
    "    return np.minimum(((p0 - points)**2).sum(axis=1), ((-p0 - points)**2).sum(axis=1))\n",
    "    #return ((p0 - points)**2).sum(axis=1) \n",
    "def farthestPts(pts, K):\n",
    "    farthest_pts = np.zeros((K, 3))\n",
    "    pts_inds = np.zeros(K)\n",
    "    #farthest_pts[0] = pts[np.random.randint(len(pts))]\n",
    "    farthest_pts[0] = pts[1]\n",
    "    pts_inds[0] = 1\n",
    "    distances = calc_distances(farthest_pts[0], pts)\n",
    "    for i in range(1, K):\n",
    "        farthest_pts[i] = pts[np.argmax(distances)]\n",
    "        pts_inds[i] = np.argmax(distances)\n",
    "        distances = np.minimum(distances, calc_distances(farthest_pts[i], pts))\n",
    "    return farthest_pts, pts_inds\n",
    "sub_bvecs, sub_indcs = farthestPts(bvecs[bvals==b], k)\n",
    "print('b sub vectors: ', sub_bvecs)\n",
    "#print('b sub vector indecs ', sub_indcs)\n",
    "\n",
    "#Choose true indeces\n",
    "true_sub_indcs = np.zeros(len(sub_indcs))\n",
    "for i in range(len(sub_indcs)):\n",
    "    true_sub_indcs[i] = b2000_indcs[0][int(sub_indcs[i])]\n",
    "true_sub_indcs = np.append(true_sub_indcs, b0_ind)\n",
    "sorted_true_sub_indcs = np.sort(true_sub_indcs)\n",
    "#print('b sub vectors: ', sub_bvecs)\n",
    "print('sorted b sub vector indeces ', sorted_true_sub_indcs)"
   ]
  },
  {
   "cell_type": "code",
   "execution_count": 97,
   "metadata": {},
   "outputs": [
    {
     "name": "stdout",
     "output_type": "stream",
     "text": [
      "[  0. 700.]\n",
      "(104, 104, 72, 2)\n"
     ]
    }
   ],
   "source": [
    "# Selecting one b0 and k+7 b700 voxels\n",
    "sorted_true_sub_indcs = sorted_true_sub_indcs.astype(int)\n",
    "sub_bvals = bvals[sorted_true_sub_indcs]\n",
    "print(sub_bvals)\n",
    "\n",
    "sub_data = data_float[:, :, :, sorted_true_sub_indcs]\n",
    "print(sub_data.shape)\n",
    "##Save left volumes as Nifti file\n",
    "#sub_data_int = sub_data.astype(int)\n",
    "#subVols = nib.Nifti1Image(sub_data_int, affine=np.eye(4))\n",
    "#nib.nifti1.save(subVols, os.getcwd()+'{}'.format(r'/cosine_weighted_averaging/sub_vols.nii.gz'))\n",
    "\n",
    "##Removing input data (1+6 volumes)\n",
    "#left_data = np.delete(data_float, sub_indcs, axis=3)\n",
    "#print(left_data.shape)\n",
    "\n",
    "##Save left volumes as Nifti file\n",
    "#left_data_int = left_data.astype(int)\n",
    "#predictedVols = nib.Nifti1Image(left_data_int, affine=np.eye(4))\n",
    "#nib.nifti1.save(predictedVols, os.getcwd()+'{}'.format(r'/cosine_weighted_averaging/left_vols.nii.gz'))"
   ]
  },
  {
   "cell_type": "code",
   "execution_count": 98,
   "metadata": {},
   "outputs": [],
   "source": [
    "##Registration\n",
    "#b0_ind = np.where(sub_bvals==0)[0]\n",
    "#regis_sub_data = subprocess.run([\"eddy_correct\", \"cosine_weighted_averaging/sub_vols.nii.gz\", \"cosine_weighted_averaging/registered_data/sub_data_lowb-corrected.nii.gz\", str(b0_ind[0])])\n",
    "#print(\"The exit code was: %d\" % regis_sub_data.returncode)"
   ]
  },
  {
   "cell_type": "code",
   "execution_count": 99,
   "metadata": {},
   "outputs": [],
   "source": [
    "#Load registrated data\n",
    "#nameStr = 'LH_all_voxels/registered_data/kFrame_correct17.nii.gz'     \n",
    "#sub_regis_data, sub_regis_affine = load_nifti(nameStr)\n",
    "#dims_sub = sub_regis_data.shape\n",
    "#print('data.shape (%d, %d, %d, %d)' % sub_regis_data.shape)\n",
    "#print('Type: ', sub_regis_data.dtype)"
   ]
  },
  {
   "cell_type": "code",
   "execution_count": 100,
   "metadata": {},
   "outputs": [
    {
     "name": "stdout",
     "output_type": "stream",
     "text": [
      "b sub vector indecs  [ 0.  2. 37.]\n",
      "Predicted volume:  37\n"
     ]
    }
   ],
   "source": [
    "#Volume Index to predict\n",
    "#nextIter_sub_bvecs, nextIter_sub_indcs = closestPts(bvecs[bvals==b], k+1)\n",
    "nextIter_sub_bvecs, nextIter_sub_indcs = farthestPts(bvecs[bvals==b], k+1)\n",
    "nextIter_true_sub_indcs = np.zeros(len(nextIter_sub_indcs))\n",
    "for i in range(len(nextIter_sub_indcs)):\n",
    "    nextIter_true_sub_indcs[i] = b2000_indcs[0][int(nextIter_sub_indcs[i])]\n",
    "nextIter_true_sub_indcs = np.append(nextIter_true_sub_indcs, b0_ind)\n",
    "sorted_nextIter_true_sub_indcs = np.sort(nextIter_true_sub_indcs)\n",
    "print('b sub vector indecs ', sorted_nextIter_true_sub_indcs)\n",
    "nextIter_sub_indcs = sorted_nextIter_true_sub_indcs.astype(int)\n",
    "    \n",
    "inter_sub_indcs = [i for i in sorted_nextIter_true_sub_indcs if i not in sorted_true_sub_indcs]\n",
    "if len(inter_sub_indcs) != 0: \n",
    "    left_indcs = inter_sub_indcs[0]\n",
    "else:\n",
    "    left_indcs = np.arange(data.shape[3])\n",
    "    left_indcs = np.delete(left_indcs, sorted_true_sub_indcs)\n",
    "    print(left_indcs)\n",
    "    left_indcs = left_indcs[0]\n",
    "left_indcs = left_indcs.astype(int)\n",
    "print(\"Predicted volume: \", left_indcs)"
   ]
  },
  {
   "cell_type": "code",
   "execution_count": null,
   "metadata": {},
   "outputs": [],
   "source": []
  },
  {
   "cell_type": "code",
   "execution_count": 101,
   "metadata": {},
   "outputs": [],
   "source": [
    "#center = Point(0.0, 0.0, 0.0)\n",
    "#sphere = Sphere(center,1.0)\n",
    "#mesh = generate_mesh(sphere,5) # 20 specify the resolution of the mesh\n",
    "#plot(mesh)"
   ]
  },
  {
   "cell_type": "code",
   "execution_count": 102,
   "metadata": {},
   "outputs": [
    {
     "data": {
      "text/plain": [
       "<mpl_toolkits.mplot3d.art3d.Poly3DCollection at 0x7f14a8402908>"
      ]
     },
     "execution_count": 102,
     "metadata": {},
     "output_type": "execute_result"
    },
    {
     "data": {
      "image/png": "[encoded data removed]",
      "text/plain": [
       "<Figure size 432x288 with 1 Axes>"
      ]
     },
     "metadata": {
      "needs_background": "light"
     },
     "output_type": "display_data"
    }
   ],
   "source": [
    "# Mesh and function space\n",
    "#sphere = Sphere(Point(0.0, 0.0, 0.0), 1.0)\n",
    "#vmesh = generate_mesh(sphere, 5)\n",
    "#mesh = BoundaryMesh(vmesh, \"exterior\")\n",
    "#plot(mesh)\n",
    "\n",
    "#mesh = Mesh('LH/mesh.xml')\n",
    "mesh = Mesh('LH/mesh_on_sphere_myself_b700_del_fib0_1.xml')\n",
    "plot(mesh)"
   ]
  },
  {
   "cell_type": "code",
   "execution_count": 103,
   "metadata": {},
   "outputs": [
    {
     "name": "stdout",
     "output_type": "stream",
     "text": [
      "0\n",
      "2\n",
      "37\n"
     ]
    }
   ],
   "source": [
    "for ind in nextIter_sub_indcs:\n",
    "    print(ind)"
   ]
  },
  {
   "cell_type": "code",
   "execution_count": 104,
   "metadata": {},
   "outputs": [
    {
     "data": {
      "text/plain": [
       "array([1.])"
      ]
     },
     "execution_count": 104,
     "metadata": {},
     "output_type": "execute_result"
    }
   ],
   "source": [
    "sub_indcs"
   ]
  },
  {
   "cell_type": "code",
   "execution_count": 105,
   "metadata": {},
   "outputs": [
    {
     "data": {
      "text/plain": [
       "37"
      ]
     },
     "execution_count": 105,
     "metadata": {},
     "output_type": "execute_result"
    }
   ],
   "source": [
    "left_indcs"
   ]
  },
  {
   "cell_type": "code",
   "execution_count": 106,
   "metadata": {},
   "outputs": [],
   "source": [
    "# Optimization options for the form compiler\n",
    "parameters[\"form_compiler\"][\"cpp_optimize\"] = True\n",
    "parameters[\"form_compiler\"][\"optimize\"] = True"
   ]
  },
  {
   "cell_type": "code",
   "execution_count": 107,
   "metadata": {},
   "outputs": [],
   "source": [
    "# Make mesh ghosted for evaluation of DG terms\n",
    "parameters[\"ghost_mode\"] = \"shared_facet\""
   ]
  },
  {
   "cell_type": "code",
   "execution_count": 108,
   "metadata": {},
   "outputs": [
    {
     "name": "stdout",
     "output_type": "stream",
     "text": [
      "0.0\n"
     ]
    }
   ],
   "source": [
    "bvec_volPredict = bvecs[left_indcs]\n",
    "lh_coefs = np.zeros(len(sorted_true_sub_indcs))\n",
    "\n",
    "for l in range(len(sorted_true_sub_indcs)):\n",
    "    if sorted_true_sub_indcs[l] != 0:\n",
    "        V = FunctionSpace(mesh, \"P\", 1)\n",
    "        # get coordinates of DOFs\n",
    "        dof_coords = V.tabulate_dof_coordinates()\n",
    "        \n",
    "        bcs = []\n",
    "        for ind in sub_indcs:\n",
    "            if ind!=0:\n",
    "                if ind==sub_indcs[l]:\n",
    "                    # find nearest DOF:\n",
    "                    dof = np.argmin(np.linalg.norm(dof_coords - bvecs[ind], axis=1))\n",
    "                    #print('dof {}, x = {}'.format(dof, dof_coords[dof]))\n",
    "                    dof_sym = np.argmin(np.linalg.norm(dof_coords + bvecs[ind], axis=1))\n",
    "                    #print('dof {}, x = {}'.format(dof_sym, dof_coords[dof_sym])) \n",
    "\n",
    "                    # now define a DirichletBC at that point\n",
    "                    bcs.extend([DirichletBC(V, Constant(1.0),\n",
    "                                     'near(x[0], {x}) && near(x[1], {y}) && near(x[2], {z})'.format(x=dof_coords[dof][0], y=dof_coords[dof][1], z=dof_coords[dof][2]),\n",
    "                                     'pointwise'),\n",
    "                                DirichletBC(V, Constant(1.0),\n",
    "                                     'near(x[0], {x}) && near(x[1], {y}) && near(x[2], {z})'.format(x=dof_coords[dof_sym][0], y=dof_coords[dof_sym][1], z=dof_coords[dof_sym][2]),\n",
    "                                     'pointwise')])\n",
    "                else:\n",
    "                    # find nearest DOF:\n",
    "                    dof = np.argmin(np.linalg.norm(dof_coords - bvecs[ind], axis=1))\n",
    "                    #print('dof {}, x = {}'.format(dof, dof_coords[dof]))\n",
    "                    dof_sym = np.argmin(np.linalg.norm(dof_coords + bvecs[ind], axis=1))\n",
    "                    #print('dof {}, x = {}'.format(dof_sym, dof_coords[dof_sym])) \n",
    "\n",
    "                    # now define a DirichletBC at that point\n",
    "                    bcs.extend([DirichletBC(V, Constant(0.0),\n",
    "                                     'near(x[0], {x}) && near(x[1], {y}) && near(x[2], {z})'.format(x=dof_coords[dof][0], y=dof_coords[dof][1], z=dof_coords[dof][2]),\n",
    "                                     'pointwise'),\n",
    "                                DirichletBC(V, Constant(0.0),\n",
    "                                     'near(x[0], {x}) && near(x[1], {y}) && near(x[2], {z})'.format(x=dof_coords[dof_sym][0], y=dof_coords[dof_sym][1], z=dof_coords[dof_sym][2]),\n",
    "                                     'pointwise')])\n",
    "                    \n",
    "        # Define trial and test functions\n",
    "        u = TrialFunction(V)\n",
    "        v = TestFunction(V)\n",
    "\n",
    "        # Define normal component, mesh size and right-hand side\n",
    "        h = CellDiameter(mesh)\n",
    "        h_avg = (h('+') + h('-'))/2.0\n",
    "        n = FacetNormal(mesh)\n",
    "        f = Constant(0.0)\n",
    "\n",
    "        # Penalty parameter\n",
    "        alpha = Constant(8.0)\n",
    "        # Define bilinear form\n",
    "        a = inner(div(grad(u)), div(grad(v)))*dx \\\n",
    "          - inner(avg(div(grad(u))), jump(grad(v), n))*dS \\\n",
    "          - inner(jump(grad(u), n), avg(div(grad(v))))*dS \\\n",
    "          + alpha/h_avg*inner(jump(grad(u),n), jump(grad(v),n))*dS\n",
    "\n",
    "        # Define linear form\n",
    "        L = f*v*dx\n",
    "\n",
    "        # Solve variational problem\n",
    "        w = Function(V)\n",
    "        solve(a == L, w, bcs)\n",
    "        \n",
    "        lh_coefs[l] = w(bvec_volPredict)\n",
    "        print(lh_coefs[l])\n",
    "    else:\n",
    "        sub_indcs[l] = 0"
   ]
  },
  {
   "cell_type": "code",
   "execution_count": 109,
   "metadata": {},
   "outputs": [
    {
     "data": {
      "text/plain": [
       "array([0., 0.])"
      ]
     },
     "execution_count": 109,
     "metadata": {},
     "output_type": "execute_result"
    }
   ],
   "source": [
    "lh_coefs"
   ]
  },
  {
   "cell_type": "code",
   "execution_count": 110,
   "metadata": {},
   "outputs": [
    {
     "data": {
      "text/plain": [
       "0.0"
      ]
     },
     "execution_count": 110,
     "metadata": {},
     "output_type": "execute_result"
    }
   ],
   "source": [
    "np.sum(lh_coefs)"
   ]
  },
  {
   "cell_type": "code",
   "execution_count": null,
   "metadata": {},
   "outputs": [],
   "source": [
    "inpaintedImg_3D = np.zeros((dims[0], dims[1], dims[2]))\n",
    "\n",
    "for i in range(len(sub_indcs)):\n",
    "    inpaintedImg_3D = inpaintedImg_3D + lh_coefs[i]*data_float[...,sub_indcs[i]]\n",
    "inpaintedImg_3D = inpaintedImg_3D/np.sum(lh_coefs)"
   ]
  },
  {
   "cell_type": "code",
   "execution_count": null,
   "metadata": {},
   "outputs": [],
   "source": [
    "min(inpaintedImg_3D.flatten())"
   ]
  },
  {
   "cell_type": "code",
   "execution_count": null,
   "metadata": {},
   "outputs": [],
   "source": [
    "bvec_volPredict"
   ]
  },
  {
   "cell_type": "code",
   "execution_count": null,
   "metadata": {},
   "outputs": [],
   "source": [
    "ni_img = nib.Nifti1Image(inpaintedImg_3D, affine=affine)\n",
    "nib.save(ni_img, \"fast_qspace_BH_volume_image_on_sphere_9_dely_P1.nii\")"
   ]
  },
  {
   "cell_type": "code",
   "execution_count": null,
   "metadata": {},
   "outputs": [],
   "source": []
  },
  {
   "cell_type": "code",
   "execution_count": null,
   "metadata": {},
   "outputs": [],
   "source": [
    "array_u = nodal_values_u = w.vector()\n",
    "vertex_values_u = w.compute_vertex_values()"
   ]
  },
  {
   "cell_type": "code",
   "execution_count": null,
   "metadata": {},
   "outputs": [],
   "source": [
    "print(array_u)"
   ]
  },
  {
   "cell_type": "code",
   "execution_count": null,
   "metadata": {},
   "outputs": [],
   "source": [
    "for i in range(len(array_u)):\n",
    "    print(array_u[i])"
   ]
  },
  {
   "cell_type": "code",
   "execution_count": null,
   "metadata": {},
   "outputs": [],
   "source": [
    "min(array_u)"
   ]
  },
  {
   "cell_type": "code",
   "execution_count": null,
   "metadata": {},
   "outputs": [],
   "source": [
    "len(array_u)"
   ]
  },
  {
   "cell_type": "code",
   "execution_count": null,
   "metadata": {},
   "outputs": [],
   "source": []
  },
  {
   "cell_type": "code",
   "execution_count": null,
   "metadata": {},
   "outputs": [],
   "source": [
    "bvecs[1][0]"
   ]
  },
  {
   "cell_type": "code",
   "execution_count": null,
   "metadata": {},
   "outputs": [],
   "source": [
    "bvecs[1][2]"
   ]
  },
  {
   "cell_type": "code",
   "execution_count": null,
   "metadata": {},
   "outputs": [],
   "source": [
    "data_float[63,54,30,1]"
   ]
  },
  {
   "cell_type": "code",
   "execution_count": null,
   "metadata": {},
   "outputs": [],
   "source": [
    "data_float[63,54,30,14]"
   ]
  },
  {
   "cell_type": "code",
   "execution_count": null,
   "metadata": {},
   "outputs": [],
   "source": [
    "data_float[63,54,30,17]"
   ]
  },
  {
   "cell_type": "code",
   "execution_count": null,
   "metadata": {},
   "outputs": [],
   "source": [
    "data_float[63,54,30,20]"
   ]
  },
  {
   "cell_type": "code",
   "execution_count": null,
   "metadata": {},
   "outputs": [],
   "source": [
    "data_float[63,54,30,22]"
   ]
  },
  {
   "cell_type": "code",
   "execution_count": null,
   "metadata": {},
   "outputs": [],
   "source": [
    "data_float[63,54,30,29]"
   ]
  },
  {
   "cell_type": "code",
   "execution_count": null,
   "metadata": {},
   "outputs": [],
   "source": []
  },
  {
   "cell_type": "code",
   "execution_count": null,
   "metadata": {},
   "outputs": [],
   "source": [
    "#error_L2 = errornorm(u_D, w, 'L2')\n",
    "#vertex_values_u_D = u_D.compute_vertex_values(mesh)\n",
    "#vertex_values_u = w.compute_vertex_values(mesh)\n",
    "#error_max = np.max(np.abs(vertex_values_u_D - vertex_values_u))\n",
    "#print(error_max)\n",
    "#print(error_L2)"
   ]
  },
  {
   "cell_type": "code",
   "execution_count": null,
   "metadata": {},
   "outputs": [],
   "source": []
  },
  {
   "cell_type": "code",
   "execution_count": null,
   "metadata": {},
   "outputs": [],
   "source": []
  },
  {
   "cell_type": "code",
   "execution_count": null,
   "metadata": {},
   "outputs": [],
   "source": [
    "bvecs[27]"
   ]
  },
  {
   "cell_type": "code",
   "execution_count": null,
   "metadata": {},
   "outputs": [],
   "source": [
    "x_point = Point(*[bvecs[27]])\n",
    "mesh.bounding_box_tree().compute_first_entity_collision(x_point)"
   ]
  },
  {
   "cell_type": "code",
   "execution_count": null,
   "metadata": {},
   "outputs": [],
   "source": [
    "#mesh.bounding_box_tree().compute_closest_point(x_point)"
   ]
  },
  {
   "cell_type": "code",
   "execution_count": null,
   "metadata": {},
   "outputs": [],
   "source": [
    "inpaintedImg_3D.shape"
   ]
  },
  {
   "cell_type": "code",
   "execution_count": null,
   "metadata": {},
   "outputs": [],
   "source": [
    "max(inpaintedImg_3D.flatten())"
   ]
  },
  {
   "cell_type": "code",
   "execution_count": null,
   "metadata": {},
   "outputs": [],
   "source": []
  },
  {
   "cell_type": "code",
   "execution_count": null,
   "metadata": {},
   "outputs": [],
   "source": [
    "for ind in sub_indcs:\n",
    "    if ind!=0:\n",
    "        # find nearest DOF:\n",
    "        dof = np.argmin(np.linalg.norm(dof_coords - bvecs[ind], axis=1))\n",
    "        print('dof {}, x = {}'.format(dof, dof_coords[dof]))\n",
    "        dof_sym = np.argmin(np.linalg.norm(dof_coords + bvecs[ind], axis=1))\n",
    "        print('dof {}, x = {}'.format(dof_sym, dof_coords[dof_sym])) "
   ]
  },
  {
   "cell_type": "code",
   "execution_count": null,
   "metadata": {},
   "outputs": [],
   "source": [
    "bvecs"
   ]
  },
  {
   "cell_type": "code",
   "execution_count": null,
   "metadata": {},
   "outputs": [],
   "source": [
    "for ind in sub_indcs:\n",
    "    print(ind)"
   ]
  },
  {
   "cell_type": "code",
   "execution_count": null,
   "metadata": {},
   "outputs": [],
   "source": []
  }
 ],
 "metadata": {
  "kernelspec": {
   "display_name": "Python 3",
   "language": "python",
   "name": "python3"
  },
  "language_info": {
   "codemirror_mode": {
    "name": "ipython",
    "version": 3
   },
   "file_extension": ".py",
   "mimetype": "text/x-python",
   "name": "python",
   "nbconvert_exporter": "python",
   "pygments_lexer": "ipython3",
   "version": "3.6.7"
  }
 },
 "nbformat": 4,
 "nbformat_minor": 2
}
