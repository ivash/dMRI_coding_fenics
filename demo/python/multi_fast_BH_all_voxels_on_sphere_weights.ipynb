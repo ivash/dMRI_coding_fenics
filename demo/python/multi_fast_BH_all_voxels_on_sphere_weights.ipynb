{
 "cells": [
  {
   "cell_type": "code",
   "execution_count": 1,
   "metadata": {},
   "outputs": [],
   "source": [
    "import dipy"
   ]
  },
  {
   "cell_type": "code",
   "execution_count": 2,
   "metadata": {},
   "outputs": [],
   "source": [
    "from dipy.io.image import load_nifti, save_nifti\n",
    "from dipy.io.gradients import read_bvals_bvecs"
   ]
  },
  {
   "cell_type": "code",
   "execution_count": 3,
   "metadata": {},
   "outputs": [],
   "source": [
    "from fenics import *\n",
    "from mshr import *\n",
    "#from math import pi, sin, cos, sqrt\n",
    "import math\n",
    "import matplotlib.pyplot as plt\n",
    "import numpy as np\n",
    "import nibabel as nib\n",
    "import os\n",
    "import subprocess"
   ]
  },
  {
   "cell_type": "code",
   "execution_count": 4,
   "metadata": {
    "scrolled": true
   },
   "outputs": [
    {
     "name": "stdout",
     "output_type": "stream",
     "text": [
      "data.shape (104, 104, 72, 99)\n",
      "b values:  [   0.  700.  700.  700.  700.  700.  700.  700.  700.  700.  700.  700.\n",
      "  700.  700.  700.  700.  700.  700.  700.  700.  700.    0.  700.  700.\n",
      "  700.  700.  700.  700.  700.  700.  700.  700. 2000. 2000. 2000. 2000.\n",
      " 2000. 2000. 2000. 2000. 2000. 2000.    0. 2000. 2000. 2000. 2000. 2000.\n",
      " 2000. 2000. 2000. 2000. 2000. 2000. 2000. 2000. 2000. 2000. 2000. 2000.\n",
      " 2000. 2000. 2000.    0. 2000. 2000. 2000. 2000. 2000. 2000. 2000. 2000.\n",
      " 2000. 2000. 2000. 2000. 2000. 2000. 2000. 2000. 2000. 2000. 2000. 2000.\n",
      "    0. 2000. 2000. 2000. 2000. 2000. 2000. 2000. 2000. 2000. 2000. 2000.\n",
      " 2000. 2000. 2000.]\n",
      "b vectors:  [[ 0.0000000e+00 -0.0000000e+00  0.0000000e+00]\n",
      " [ 2.2293058e-01  4.9968055e-01  8.3703119e-01]\n",
      " [-1.7871778e-01  4.9333411e-01  8.5128242e-01]\n",
      " [-3.7542525e-01  1.4225766e-01  9.1587037e-01]\n",
      " [ 4.1157657e-01  7.2193778e-01  5.5624700e-01]\n",
      " [ 1.9853516e-01  9.3616748e-01  2.9012811e-01]\n",
      " [ 8.4751403e-01  5.2907634e-01  4.2405690e-02]\n",
      " [ 7.3912424e-01  5.1868695e-01  4.2972025e-01]\n",
      " [ 4.3850514e-01  1.5385152e-01  8.8546205e-01]\n",
      " [ 7.5664991e-01  1.7243032e-01  6.3067305e-01]\n",
      " [ 6.2896943e-01  7.4815804e-01 -2.1132247e-01]\n",
      " [ 3.0347744e-01  9.4898587e-01 -8.5599300e-02]\n",
      " [ 2.8489485e-01  5.4959691e-01 -7.8535217e-01]\n",
      " [ 6.2077832e-01  5.4730117e-01 -5.6133366e-01]\n",
      " [ 9.7062433e-01  1.9699152e-01 -1.3814011e-01]\n",
      " [ 8.3273727e-01  2.0222756e-01 -5.1541471e-01]\n",
      " [-3.4396690e-02  7.5075191e-01 -6.5968806e-01]\n",
      " [-2.5728410e-02  9.4997877e-01 -3.1125325e-01]\n",
      " [-6.8088585e-01  5.2564430e-01 -5.0999278e-01]\n",
      " [-3.6761704e-01  5.3581387e-01 -7.6010603e-01]\n",
      " [-1.5568012e-01 -2.0317107e-01  9.6668768e-01]\n",
      " [ 0.0000000e+00 -0.0000000e+00  0.0000000e+00]\n",
      " [-2.4489762e-01  1.9681381e-01 -9.4936270e-01]\n",
      " [-6.6621846e-01  7.2867197e-01 -1.5871401e-01]\n",
      " [-3.3905616e-01  9.3877596e-01 -6.1159150e-02]\n",
      " [-1.9951271e-01  9.3264794e-01  3.0060336e-01]\n",
      " [-3.8958105e-01  7.1641558e-01  5.7877034e-01]\n",
      " [-7.0739847e-01  1.5345097e-01  6.8995672e-01]\n",
      " [-7.1661639e-01  5.0075305e-01  4.8549715e-01]\n",
      " [-8.5508788e-01  5.0734621e-01  1.0688600e-01]\n",
      " [-8.7868327e-01  1.8046372e-01 -4.4198251e-01]\n",
      " [-9.8415816e-01  1.6845730e-01 -5.5269030e-02]\n",
      " [-9.9998999e-01 -3.9998800e-03  1.9999400e-03]\n",
      " [-4.9948000e-04  9.9898493e-01  4.5043090e-02]\n",
      " [ 2.4944310e-02  6.1445940e-01  7.8855395e-01]\n",
      " [-5.9039032e-01 -7.7985275e-01  2.0801200e-01]\n",
      " [ 2.3735723e-01 -5.6915110e-01  7.8722847e-01]\n",
      " [ 8.9393294e-01 -2.8159970e-01  3.4869114e-01]\n",
      " [-7.9665613e-01  1.0245212e-01  5.9568673e-01]\n",
      " [-2.3356465e-01  9.1487938e-01  3.2930726e-01]\n",
      " [-9.3607759e-01  1.2621707e-01  3.2837197e-01]\n",
      " [-5.0643009e-01 -8.3423322e-01 -2.1813659e-01]\n",
      " [ 0.0000000e+00 -0.0000000e+00  0.0000000e+00]\n",
      " [-3.4706694e-01 -8.2521343e-01 -4.4560948e-01]\n",
      " [-4.5817986e-01 -5.9716052e-01 -6.5838480e-01]\n",
      " [ 4.8816177e-01 -4.2692393e-01  7.6120567e-01]\n",
      " [ 6.2027001e-01  6.5688628e-01  4.2867881e-01]\n",
      " [ 5.7621109e-01 -7.1084380e-02 -8.1420386e-01]\n",
      " [ 8.2531255e-01 -5.3441709e-01  1.8236656e-01]\n",
      " [-8.9597398e-01 -2.5028220e-02 -4.4340074e-01]\n",
      " [-2.9121652e-01 -5.0804460e-01 -8.1060714e-01]\n",
      " [-1.1785752e-01 -9.5041883e-01 -2.8777412e-01]\n",
      " [ 7.9899460e-01  4.2643178e-01 -4.2398548e-01]\n",
      " [-5.1170260e-01  8.3323461e-01  2.0947689e-01]\n",
      " [ 7.8701800e-01  1.8293804e-01 -5.8918279e-01]\n",
      " [-9.5000267e-01 -2.4275914e-01  1.9637455e-01]\n",
      " [-2.3124145e-01  7.5768822e-01  6.1027521e-01]\n",
      " [ 1.8150640e-02 -1.4376774e-01 -9.8944497e-01]\n",
      " [-2.1815184e-01 -9.6529853e-01  1.4355603e-01]\n",
      " [-7.7437425e-01 -6.1457777e-01  1.5046185e-01]\n",
      " [ 1.6403137e-01  2.8720394e-01  9.4372010e-01]\n",
      " [ 1.2325888e-01  7.6308644e-01 -6.3443404e-01]\n",
      " [-8.9079481e-01  3.9080378e-01  2.3185565e-01]\n",
      " [ 0.0000000e+00 -0.0000000e+00  0.0000000e+00]\n",
      " [ 5.1867563e-01  2.5647014e-01 -8.1559700e-01]\n",
      " [ 4.1972056e-01  1.3890146e-01  8.9696217e-01]\n",
      " [ 2.7031744e-01 -1.8058614e-01 -9.4568342e-01]\n",
      " [ 3.7372714e-01 -1.4994749e-01  9.1533804e-01]\n",
      " [ 9.6573383e-01 -2.5948238e-01 -5.2187600e-03]\n",
      " [ 9.6443313e-01  2.1101427e-01  1.5919080e-01]\n",
      " [-4.4222176e-01 -8.9561254e-01  4.8147070e-02]\n",
      " [ 7.6881015e-01  6.3443005e-01  8.0182670e-02]\n",
      " [-6.9784802e-01  3.6849079e-01  6.1418474e-01]\n",
      " [ 7.1813208e-01 -1.0619420e-02  6.9582558e-01]\n",
      " [-7.0462537e-01  5.3593230e-01 -4.6505862e-01]\n",
      " [ 1.7117150e-01 -7.5080270e-01  6.3796228e-01]\n",
      " [ 7.5508285e-01  3.9112961e-01  5.2618176e-01]\n",
      " [ 1.0850769e-01  8.1606823e-01  5.6767851e-01]\n",
      " [-5.6061244e-01 -6.2922853e-01  5.3831679e-01]\n",
      " [ 1.2497177e-01 -3.7524998e-01  9.1846037e-01]\n",
      " [ 5.7014918e-01 -7.9521382e-01  2.0631234e-01]\n",
      " [-8.3841747e-01 -4.6896529e-01 -2.7771845e-01]\n",
      " [-3.3342126e-01 -5.9105629e-01  7.3449486e-01]\n",
      " [ 1.5181039e-01  4.2679733e-01 -8.9151424e-01]\n",
      " [ 0.0000000e+00 -0.0000000e+00  0.0000000e+00]\n",
      " [ 7.2697550e-01 -6.8590748e-01 -3.2209960e-02]\n",
      " [-4.5601672e-01  6.9743240e-01 -5.5284446e-01]\n",
      " [-4.9492225e-01  6.7110866e-01  5.5196494e-01]\n",
      " [ 1.5335634e-01 -4.8859259e-01 -8.5892904e-01]\n",
      " [-4.5016909e-01  4.0186495e-01  7.9740351e-01]\n",
      " [-3.6573517e-01 -8.2799923e-01  4.2503539e-01]\n",
      " [ 7.3229760e-01 -2.6231322e-01  6.2843603e-01]\n",
      " [-2.7761558e-01  8.9411885e-01 -3.5139894e-01]\n",
      " [-2.4582910e-02  1.1101565e-01 -9.9351466e-01]\n",
      " [-8.2809200e-03 -9.1833574e-01  3.9571550e-01]\n",
      " [-5.8993262e-01 -2.9020479e-01 -7.5349891e-01]\n",
      " [ 2.5109273e-01  1.8545359e-01 -9.5003116e-01]\n",
      " [-7.1787667e-01  5.8964658e-01  3.7009448e-01]\n",
      " [-2.8169212e-01  9.5859379e-01 -4.1804050e-02]]\n"
     ]
    }
   ],
   "source": [
    "fname = 'dMRI_data/ms-ras_data.nii.gz' \n",
    "bval_fname = 'dMRI_data/ms-ras.bval' \n",
    "bvec_fname = 'dMRI_data/ms-ras.bvec'\n",
    "\n",
    "data, affine = load_nifti(fname)\n",
    "bvals, bvecs = read_bvals_bvecs(bval_fname, bvec_fname)\n",
    "dims = data.shape\n",
    "print('data.shape (%d, %d, %d, %d)' % dims)\n",
    "\n",
    "data_float = data.astype(np.float32)\n",
    "\n",
    "dataMaxVal = int(max(data.flatten()))\n",
    "dataMinVal = int(min(data.flatten()))\n",
    "\n",
    "print('b values: ', bvals)\n",
    "print('b vectors: ', bvecs)"
   ]
  },
  {
   "cell_type": "code",
   "execution_count": 5,
   "metadata": {},
   "outputs": [],
   "source": [
    "parameters['allow_extrapolation'] = True"
   ]
  },
  {
   "cell_type": "code",
   "execution_count": 6,
   "metadata": {},
   "outputs": [],
   "source": [
    "#Input volume number\n",
    "k = 43\n",
    "\n",
    "#B vector\n",
    "b = 2000\n",
    "b2000_indcs = np.where(bvals==b)\n",
    "b0_inds = np.where(bvals==0)\n",
    "b0_ind = b0_inds[0][0]"
   ]
  },
  {
   "cell_type": "code",
   "execution_count": 7,
   "metadata": {},
   "outputs": [
    {
     "name": "stdout",
     "output_type": "stream",
     "text": [
      "b sub vectors:  [[-4.9948000e-04  9.9898493e-01  4.5043090e-02]\n",
      " [-9.9998999e-01 -3.9998800e-03  1.9999400e-03]\n",
      " [-2.4582910e-02  1.1101565e-01 -9.9351466e-01]\n",
      " [-5.6061244e-01 -6.2922853e-01  5.3831679e-01]\n",
      " [-4.5817986e-01 -5.9716052e-01 -6.5838480e-01]\n",
      " [-4.5601672e-01  6.9743240e-01 -5.5284446e-01]\n",
      " [-4.9492225e-01  6.7110866e-01  5.5196494e-01]\n",
      " [ 7.1813208e-01 -1.0619420e-02  6.9582558e-01]\n",
      " [ 5.7621109e-01 -7.1084380e-02 -8.1420386e-01]\n",
      " [ 7.6881015e-01  6.3443005e-01  8.0182670e-02]\n",
      " [ 7.2697550e-01 -6.8590748e-01 -3.2209960e-02]\n",
      " [ 1.5335634e-01 -4.8859259e-01 -8.5892904e-01]\n",
      " [ 1.2325888e-01  7.6308644e-01 -6.3443404e-01]\n",
      " [ 8.9393294e-01 -2.8159970e-01  3.4869114e-01]\n",
      " [-4.4222176e-01 -8.9561254e-01  4.8147070e-02]\n",
      " [ 1.0850769e-01  8.1606823e-01  5.6767851e-01]\n",
      " [ 7.8701800e-01  1.8293804e-01 -5.8918279e-01]\n",
      " [-8.9079481e-01  3.9080378e-01  2.3185565e-01]\n",
      " [ 4.1972056e-01  1.3890146e-01  8.9696217e-01]\n",
      " [ 7.5508285e-01  3.9112961e-01  5.2618176e-01]\n",
      " [-2.3356465e-01  9.1487938e-01  3.2930726e-01]\n",
      " [ 1.5181039e-01  4.2679733e-01 -8.9151424e-01]\n",
      " [-6.9784802e-01  3.6849079e-01  6.1418474e-01]\n",
      " [ 2.3735723e-01 -5.6915110e-01  7.8722847e-01]\n",
      " [ 2.7031744e-01 -1.8058614e-01 -9.4568342e-01]\n",
      " [-2.7761558e-01  8.9411885e-01 -3.5139894e-01]\n",
      " [ 5.1867563e-01  2.5647014e-01 -8.1559700e-01]\n",
      " [-5.1170260e-01  8.3323461e-01  2.0947689e-01]\n",
      " [-9.5000267e-01 -2.4275914e-01  1.9637455e-01]\n",
      " [-8.9597398e-01 -2.5028220e-02 -4.4340074e-01]\n",
      " [-4.5016909e-01  4.0186495e-01  7.9740351e-01]\n",
      " [-7.0462537e-01  5.3593230e-01 -4.6505862e-01]\n",
      " [ 5.7014918e-01 -7.9521382e-01  2.0631234e-01]\n",
      " [-3.6573517e-01 -8.2799923e-01  4.2503539e-01]\n",
      " [ 1.6403137e-01  2.8720394e-01  9.4372010e-01]\n",
      " [-7.1787667e-01  5.8964658e-01  3.7009448e-01]\n",
      " [-2.8169212e-01  9.5859379e-01 -4.1804050e-02]\n",
      " [ 7.9899460e-01  4.2643178e-01 -4.2398548e-01]\n",
      " [ 3.7372714e-01 -1.4994749e-01  9.1533804e-01]\n",
      " [-8.2809200e-03 -9.1833574e-01  3.9571550e-01]\n",
      " [ 4.8816177e-01 -4.2692393e-01  7.6120567e-01]\n",
      " [-3.3342126e-01 -5.9105629e-01  7.3449486e-01]\n",
      " [ 6.2027001e-01  6.5688628e-01  4.2867881e-01]]\n",
      "sorted b sub vector indeces  [ 0. 32. 33. 36. 37. 39. 44. 45. 46. 47. 49. 52. 53. 54. 55. 60. 61. 62.\n",
      " 64. 65. 66. 67. 70. 71. 72. 73. 74. 76. 77. 78. 80. 82. 83. 85. 86. 87.\n",
      " 88. 89. 90. 92. 93. 94. 97. 98.]\n"
     ]
    }
   ],
   "source": [
    "#To select well distruted (farthes pointing vectors in 3D)\n",
    "def calc_distances(p0, points):\n",
    "    return np.minimum(((p0 - points)**2).sum(axis=1), ((-p0 - points)**2).sum(axis=1))\n",
    "    #return ((p0 - points)**2).sum(axis=1)\n",
    "    \n",
    "def farthestPts(pts, K):\n",
    "    farthest_pts = np.zeros((K, 3))\n",
    "    pts_inds = np.zeros(K)\n",
    "    #farthest_pts[0] = pts[np.random.randint(len(pts))]\n",
    "    farthest_pts[0] = pts[1]\n",
    "    pts_inds[0] = 1\n",
    "    distances = calc_distances(farthest_pts[0], pts)\n",
    "    for i in range(1, K):\n",
    "        farthest_pts[i] = pts[np.argmax(distances)]\n",
    "        pts_inds[i] = np.argmax(distances)\n",
    "        distances = np.minimum(distances, calc_distances(farthest_pts[i], pts))\n",
    "    return farthest_pts, pts_inds\n",
    "sub_bvecs, sub_indcs = farthestPts(bvecs[bvals==b], k)\n",
    "print('b sub vectors: ', sub_bvecs)\n",
    "#print('b sub vector indecs ', sub_indcs)\n",
    "\n",
    "#Choose true indeces\n",
    "true_sub_indcs = np.zeros(len(sub_indcs))\n",
    "for i in range(len(sub_indcs)):\n",
    "    true_sub_indcs[i] = b2000_indcs[0][int(sub_indcs[i])]\n",
    "true_sub_indcs = np.append(true_sub_indcs, b0_ind)\n",
    "sorted_true_sub_indcs = np.sort(true_sub_indcs)\n",
    "#print('b sub vectors: ', sub_bvecs)\n",
    "print('sorted b sub vector indeces ', sorted_true_sub_indcs)"
   ]
  },
  {
   "cell_type": "code",
   "execution_count": 8,
   "metadata": {},
   "outputs": [
    {
     "name": "stdout",
     "output_type": "stream",
     "text": [
      "[   0. 2000. 2000. 2000. 2000. 2000. 2000. 2000. 2000. 2000. 2000. 2000.\n",
      " 2000. 2000. 2000. 2000. 2000. 2000. 2000. 2000. 2000. 2000. 2000. 2000.\n",
      " 2000. 2000. 2000. 2000. 2000. 2000. 2000. 2000. 2000. 2000. 2000. 2000.\n",
      " 2000. 2000. 2000. 2000. 2000. 2000. 2000. 2000.]\n",
      "(104, 104, 72, 44)\n"
     ]
    }
   ],
   "source": [
    "# Selecting one b0 and k+7 b700 voxels\n",
    "sorted_true_sub_indcs = sorted_true_sub_indcs.astype(int)\n",
    "sub_bvals = bvals[sorted_true_sub_indcs]\n",
    "print(sub_bvals)\n",
    "\n",
    "sub_data = data_float[:, :, :, sorted_true_sub_indcs]\n",
    "print(sub_data.shape)"
   ]
  },
  {
   "cell_type": "code",
   "execution_count": 9,
   "metadata": {},
   "outputs": [],
   "source": [
    "##Registration\n",
    "#b0_ind = np.where(sub_bvals==0)[0]\n",
    "#regis_sub_data = subprocess.run([\"eddy_correct\", \"cosine_weighted_averaging/sub_vols.nii.gz\", \"cosine_weighted_averaging/registered_data/sub_data_lowb-corrected.nii.gz\", str(b0_ind[0])])\n",
    "#print(\"The exit code was: %d\" % regis_sub_data.returncode)"
   ]
  },
  {
   "cell_type": "code",
   "execution_count": 10,
   "metadata": {},
   "outputs": [],
   "source": [
    "##Load registrated data\n",
    "#nameStr = 'LH_all_voxels/multi_shell_registerered_data/kFrame_correct54.nii.gz'     \n",
    "#sub_regis_data, sub_regis_affine = load_nifti(nameStr)\n",
    "#dims_sub = sub_regis_data.shape\n",
    "#print('data.shape (%d, %d, %d, %d)' % sub_regis_data.shape)\n",
    "#print('Type: ', sub_regis_data.dtype)"
   ]
  },
  {
   "cell_type": "code",
   "execution_count": 11,
   "metadata": {},
   "outputs": [
    {
     "name": "stdout",
     "output_type": "stream",
     "text": [
      "b sub vector indecs  [ 0. 32. 33. 36. 37. 39. 40. 44. 45. 46. 47. 49. 52. 53. 54. 55. 60. 61.\n",
      " 62. 64. 65. 66. 67. 70. 71. 72. 73. 74. 76. 77. 78. 80. 82. 83. 85. 86.\n",
      " 87. 88. 89. 90. 92. 93. 94. 97. 98.]\n",
      "Predicted volume:  40\n"
     ]
    }
   ],
   "source": [
    "#Volume Index to predict\n",
    "nextIter_sub_bvecs, nextIter_sub_indcs = farthestPts(bvecs[bvals==b], k+1)\n",
    "nextIter_true_sub_indcs = np.zeros(len(nextIter_sub_indcs))\n",
    "for i in range(len(nextIter_sub_indcs)):\n",
    "    nextIter_true_sub_indcs[i] = b2000_indcs[0][int(nextIter_sub_indcs[i])]\n",
    "nextIter_true_sub_indcs = np.append(nextIter_true_sub_indcs, b0_ind)\n",
    "sorted_nextIter_true_sub_indcs = np.sort(nextIter_true_sub_indcs)\n",
    "print('b sub vector indecs ', sorted_nextIter_true_sub_indcs)\n",
    "nextIter_sub_indcs = sorted_nextIter_true_sub_indcs.astype(int)\n",
    "    \n",
    "inter_sub_indcs = [i for i in sorted_nextIter_true_sub_indcs if i not in sorted_true_sub_indcs]\n",
    "if len(inter_sub_indcs) != 0: \n",
    "    left_indcs = inter_sub_indcs[0]\n",
    "else:\n",
    "    left_indcs = np.arange(data.shape[3])\n",
    "    left_indcs = np.delete(left_indcs, sorted_true_sub_indcs)\n",
    "    print(left_indcs)\n",
    "    left_indcs = left_indcs[0]\n",
    "left_indcs = left_indcs.astype(int)\n",
    "print(\"Predicted volume: \", left_indcs)"
   ]
  },
  {
   "cell_type": "code",
   "execution_count": null,
   "metadata": {},
   "outputs": [],
   "source": []
  },
  {
   "cell_type": "code",
   "execution_count": 12,
   "metadata": {},
   "outputs": [],
   "source": [
    "#center = Point(0.0, 0.0, 0.0)\n",
    "#sphere = Sphere(center,1.0)\n",
    "#mesh = generate_mesh(sphere,5) # 20 specify the resolution of the mesh\n",
    "#plot(mesh)"
   ]
  },
  {
   "cell_type": "code",
   "execution_count": 13,
   "metadata": {},
   "outputs": [
    {
     "data": {
      "text/plain": [
       "<mpl_toolkits.mplot3d.art3d.Poly3DCollection at 0x7f4424673128>"
      ]
     },
     "execution_count": 13,
     "metadata": {},
     "output_type": "execute_result"
    },
    {
     "data": {
      "image/png": "[encoded data removed]",
      "text/plain": [
       "<Figure size 432x288 with 1 Axes>"
      ]
     },
     "metadata": {
      "needs_background": "light"
     },
     "output_type": "display_data"
    }
   ],
   "source": [
    "# Mesh and function space\n",
    "#sphere = Sphere(Point(0.0, 0.0, 0.0), 1.0)\n",
    "#vmesh = generate_mesh(sphere, 5)\n",
    "#mesh = BoundaryMesh(vmesh, \"exterior\")\n",
    "#plot(mesh)\n",
    "\n",
    "#mesh = Mesh('LH/mesh.xml')\n",
    "mesh = Mesh('LH/mesh_on_sphere_myself_b2000.xml')\n",
    "plot(mesh)"
   ]
  },
  {
   "cell_type": "code",
   "execution_count": 14,
   "metadata": {},
   "outputs": [
    {
     "name": "stdout",
     "output_type": "stream",
     "text": [
      "0\n",
      "32\n",
      "33\n",
      "36\n",
      "37\n",
      "39\n",
      "40\n",
      "44\n",
      "45\n",
      "46\n",
      "47\n",
      "49\n",
      "52\n",
      "53\n",
      "54\n",
      "55\n",
      "60\n",
      "61\n",
      "62\n",
      "64\n",
      "65\n",
      "66\n",
      "67\n",
      "70\n",
      "71\n",
      "72\n",
      "73\n",
      "74\n",
      "76\n",
      "77\n",
      "78\n",
      "80\n",
      "82\n",
      "83\n",
      "85\n",
      "86\n",
      "87\n",
      "88\n",
      "89\n",
      "90\n",
      "92\n",
      "93\n",
      "94\n",
      "97\n",
      "98\n"
     ]
    }
   ],
   "source": [
    "for ind in nextIter_sub_indcs:\n",
    "    print(ind)"
   ]
  },
  {
   "cell_type": "code",
   "execution_count": 15,
   "metadata": {},
   "outputs": [
    {
     "name": "stdout",
     "output_type": "stream",
     "text": [
      "0\n",
      "32\n",
      "33\n",
      "36\n",
      "37\n",
      "39\n",
      "44\n",
      "45\n",
      "46\n",
      "47\n",
      "49\n",
      "52\n",
      "53\n",
      "54\n",
      "55\n",
      "60\n",
      "61\n",
      "62\n",
      "64\n",
      "65\n",
      "66\n",
      "67\n",
      "70\n",
      "71\n",
      "72\n",
      "73\n",
      "74\n",
      "76\n",
      "77\n",
      "78\n",
      "80\n",
      "82\n",
      "83\n",
      "85\n",
      "86\n",
      "87\n",
      "88\n",
      "89\n",
      "90\n",
      "92\n",
      "93\n",
      "94\n",
      "97\n",
      "98\n"
     ]
    }
   ],
   "source": [
    "for ind in sorted_true_sub_indcs:\n",
    "    print(ind)"
   ]
  },
  {
   "cell_type": "code",
   "execution_count": 16,
   "metadata": {},
   "outputs": [
    {
     "data": {
      "text/plain": [
       "40"
      ]
     },
     "execution_count": 16,
     "metadata": {},
     "output_type": "execute_result"
    }
   ],
   "source": [
    "left_indcs"
   ]
  },
  {
   "cell_type": "code",
   "execution_count": 17,
   "metadata": {},
   "outputs": [],
   "source": [
    "# Optimization options for the form compiler\n",
    "parameters[\"form_compiler\"][\"cpp_optimize\"] = True\n",
    "parameters[\"form_compiler\"][\"optimize\"] = True"
   ]
  },
  {
   "cell_type": "code",
   "execution_count": 18,
   "metadata": {},
   "outputs": [],
   "source": [
    "# Make mesh ghosted for evaluation of DG terms\n",
    "parameters[\"ghost_mode\"] = \"shared_facet\""
   ]
  },
  {
   "cell_type": "code",
   "execution_count": 19,
   "metadata": {},
   "outputs": [
    {
     "name": "stdout",
     "output_type": "stream",
     "text": [
      "0.2160949395938805\n",
      "-0.00013754249766848706\n",
      "0.0005375647974199492\n",
      "0.0024616094644207163\n",
      "0.0008069791507089906\n",
      "0.002791797610854939\n",
      "0.0004481508636972505\n",
      "0.006748658730750384\n",
      "0.06110077722897603\n",
      "-0.034661623039242376\n",
      "-0.04679952923972829\n",
      "0.009871184018130983\n",
      "0.2871522034323996\n",
      "0.17375905184111484\n",
      "-0.0003762398786222694\n",
      "0.0015502911880136082\n",
      "0.515229296737042\n",
      "-0.06243361583122772\n",
      "0.002895547188616151\n",
      "-0.012824467045031668\n",
      "-0.00026260210655017235\n",
      "0.003550678756246238\n",
      "-0.05464096978014969\n",
      "0.2791558032140911\n",
      "0.007552387674799563\n",
      "-0.0016068995261637822\n",
      "-0.016864329371327053\n",
      "-5.9452199682777596e-05\n",
      "-0.030959354068013995\n",
      "-0.003103484900426652\n",
      "0.001834959750629487\n",
      "-0.0032252652139234434\n",
      "-0.05213941150943493\n",
      "-0.00012732187041994083\n",
      "-0.03622795782627801\n",
      "0.0002614303920622811\n",
      "-0.06574302554994453\n",
      "0.0033132898682118046\n",
      "0.00039023555605128396\n",
      "-0.0020741132627056435\n",
      "-0.00016169485675540942\n",
      "-0.155922463582887\n",
      "0.00284452609806469\n"
     ]
    }
   ],
   "source": [
    "bvec_volPredict = bvecs[left_indcs]\n",
    "lh_coefs = np.zeros(len(sorted_true_sub_indcs))\n",
    "\n",
    "for l in range(len(sorted_true_sub_indcs)):\n",
    "    if sorted_true_sub_indcs[l] != 0:\n",
    "        V = FunctionSpace(mesh, \"P\", 1)\n",
    "        # get coordinates of DOFs\n",
    "        dof_coords = V.tabulate_dof_coordinates()\n",
    "        \n",
    "        bcs = []\n",
    "        for ind in sorted_true_sub_indcs:\n",
    "            if ind!=0:\n",
    "                if ind==sorted_true_sub_indcs[l]:\n",
    "                    # find nearest DOF:\n",
    "                    dof = np.argmin(np.linalg.norm(dof_coords - bvecs[ind], axis=1))\n",
    "                    #print('dof {}, x = {}'.format(dof, dof_coords[dof]))\n",
    "                    dof_sym = np.argmin(np.linalg.norm(dof_coords + bvecs[ind], axis=1))\n",
    "                    #print('dof {}, x = {}'.format(dof_sym, dof_coords[dof_sym])) \n",
    "\n",
    "                    # now define a DirichletBC at that point\n",
    "                    bcs.extend([DirichletBC(V, Constant(1.0),\n",
    "                                     'near(x[0], {x}) && near(x[1], {y}) && near(x[2], {z})'.format(x=dof_coords[dof][0], y=dof_coords[dof][1], z=dof_coords[dof][2]),\n",
    "                                     'pointwise'),\n",
    "                                DirichletBC(V, Constant(1.0),\n",
    "                                     'near(x[0], {x}) && near(x[1], {y}) && near(x[2], {z})'.format(x=dof_coords[dof_sym][0], y=dof_coords[dof_sym][1], z=dof_coords[dof_sym][2]),\n",
    "                                     'pointwise')])\n",
    "                else:\n",
    "                    # find nearest DOF:\n",
    "                    dof = np.argmin(np.linalg.norm(dof_coords - bvecs[ind], axis=1))\n",
    "                    #print('dof {}, x = {}'.format(dof, dof_coords[dof]))\n",
    "                    dof_sym = np.argmin(np.linalg.norm(dof_coords + bvecs[ind], axis=1))\n",
    "                    #print('dof {}, x = {}'.format(dof_sym, dof_coords[dof_sym])) \n",
    "\n",
    "                    # now define a DirichletBC at that point\n",
    "                    bcs.extend([DirichletBC(V, Constant(0.0),\n",
    "                                     'near(x[0], {x}) && near(x[1], {y}) && near(x[2], {z})'.format(x=dof_coords[dof][0], y=dof_coords[dof][1], z=dof_coords[dof][2]),\n",
    "                                     'pointwise'),\n",
    "                                DirichletBC(V, Constant(0.0),\n",
    "                                     'near(x[0], {x}) && near(x[1], {y}) && near(x[2], {z})'.format(x=dof_coords[dof_sym][0], y=dof_coords[dof_sym][1], z=dof_coords[dof_sym][2]),\n",
    "                                     'pointwise')])\n",
    "                    \n",
    "        # Define trial and test functions\n",
    "        u = TrialFunction(V)\n",
    "        v = TestFunction(V)\n",
    "\n",
    "        # Define normal component, mesh size and right-hand side\n",
    "        h = CellDiameter(mesh)\n",
    "        h_avg = (h('+') + h('-'))/2.0\n",
    "        n = FacetNormal(mesh)\n",
    "        f = Constant(0.0)\n",
    "\n",
    "        # Penalty parameter\n",
    "        alpha = Constant(8.0)\n",
    "        # Define bilinear form\n",
    "        a = inner(div(grad(u)), div(grad(v)))*dx \\\n",
    "          - inner(avg(div(grad(u))), jump(grad(v), n))*dS \\\n",
    "          - inner(jump(grad(u), n), avg(div(grad(v))))*dS \\\n",
    "          + alpha/h_avg*inner(jump(grad(u),n), jump(grad(v),n))*dS\n",
    "\n",
    "        # Define linear form\n",
    "        L = f*v*dx\n",
    "\n",
    "        # Solve variational problem\n",
    "        w = Function(V)\n",
    "        solve(a == L, w, bcs)\n",
    "        \n",
    "        lh_coefs[l] = w(bvec_volPredict)\n",
    "        print(lh_coefs[l])\n",
    "    else:\n",
    "        lh_coefs[l] = 0"
   ]
  },
  {
   "cell_type": "code",
   "execution_count": 20,
   "metadata": {},
   "outputs": [
    {
     "data": {
      "text/plain": [
       "array([ 0.00000000e+00,  2.16094940e-01, -1.37542498e-04,  5.37564797e-04,\n",
       "        2.46160946e-03,  8.06979151e-04,  2.79179761e-03,  4.48150864e-04,\n",
       "        6.74865873e-03,  6.11007772e-02, -3.46616230e-02, -4.67995292e-02,\n",
       "        9.87118402e-03,  2.87152203e-01,  1.73759052e-01, -3.76239879e-04,\n",
       "        1.55029119e-03,  5.15229297e-01, -6.24336158e-02,  2.89554719e-03,\n",
       "       -1.28244670e-02, -2.62602107e-04,  3.55067876e-03, -5.46409698e-02,\n",
       "        2.79155803e-01,  7.55238767e-03, -1.60689953e-03, -1.68643294e-02,\n",
       "       -5.94521997e-05, -3.09593541e-02, -3.10348490e-03,  1.83495975e-03,\n",
       "       -3.22526521e-03, -5.21394115e-02, -1.27321870e-04, -3.62279578e-02,\n",
       "        2.61430392e-04, -6.57430255e-02,  3.31328987e-03,  3.90235556e-04,\n",
       "       -2.07411326e-03, -1.61694857e-04, -1.55922464e-01,  2.84452610e-03])"
      ]
     },
     "execution_count": 20,
     "metadata": {},
     "output_type": "execute_result"
    }
   ],
   "source": [
    "lh_coefs"
   ]
  },
  {
   "cell_type": "code",
   "execution_count": 21,
   "metadata": {},
   "outputs": [
    {
     "data": {
      "text/plain": [
       "6"
      ]
     },
     "execution_count": 21,
     "metadata": {},
     "output_type": "execute_result"
    }
   ],
   "source": [
    "len(lh_coefs[lh_coefs>0.01])"
   ]
  },
  {
   "cell_type": "code",
   "execution_count": 22,
   "metadata": {},
   "outputs": [
    {
     "data": {
      "text/plain": [
       "11"
      ]
     },
     "execution_count": 22,
     "metadata": {},
     "output_type": "execute_result"
    }
   ],
   "source": [
    "len(lh_coefs[lh_coefs<-0.01])"
   ]
  },
  {
   "cell_type": "code",
   "execution_count": 23,
   "metadata": {},
   "outputs": [
    {
     "data": {
      "text/plain": [
       "0.9999999999999988"
      ]
     },
     "execution_count": 23,
     "metadata": {},
     "output_type": "execute_result"
    }
   ],
   "source": [
    "np.sum(lh_coefs)"
   ]
  },
  {
   "cell_type": "code",
   "execution_count": 24,
   "metadata": {},
   "outputs": [],
   "source": [
    "V = FunctionSpace(mesh, \"P\", 1)\n",
    "\n",
    "# get coordinates of DOFs\n",
    "dof_coords = V.tabulate_dof_coordinates()\n",
    "bcs = []\n",
    "\n",
    "for i in range(dof_coords.shape[0]):\n",
    "    # find nearest DOF:\n",
    "    dof = np.argmin(np.linalg.norm(dof_coords - dof_coords[i], axis=1))\n",
    "    # now define a DirichletBC at that point\n",
    "    bcs.extend([DirichletBC(V, Constant(0.0),\n",
    "                       'near(x[0], {x}) && near(x[1], {y}) && near(x[2], {z})'.format(x=dof_coords[dof][0], y=dof_coords[dof][1], z=dof_coords[dof][2]),\n",
    "                                     'pointwise')])\n",
    "           \n",
    "\n",
    "for l in range(len(lh_coefs)):\n",
    "    ind = sorted_true_sub_indcs[l]\n",
    "    # find nearest DOF:\n",
    "    dof = np.argmin(np.linalg.norm(dof_coords - bvecs[ind], axis=1))\n",
    "    #print('dof {}, x = {}'.format(dof, dof_coords[dof]))\n",
    "    dof_sym = np.argmin(np.linalg.norm(dof_coords + bvecs[ind], axis=1))\n",
    "    #print('dof {}, x = {}'.format(dof_sym, dof_coords[dof_sym])) \n",
    "\n",
    "    # now define a DirichletBC at that point\n",
    "    bcs.extend([DirichletBC(V, Constant(lh_coefs[l]),\n",
    "                       'near(x[0], {x}) && near(x[1], {y}) && near(x[2], {z})'.format(x=dof_coords[dof][0], y=dof_coords[dof][1], z=dof_coords[dof][2]),\n",
    "                                     'pointwise'),\n",
    "                DirichletBC(V, Constant(lh_coefs[l]),\n",
    "                        'near(x[0], {x}) && near(x[1], {y}) && near(x[2], {z})'.format(x=dof_coords[dof_sym][0], y=dof_coords[dof_sym][1], z=dof_coords[dof_sym][2]),\n",
    "                           'pointwise')])\n",
    "               \n",
    "u = TrialFunction(V) \n",
    "v = TestFunction(V)\n",
    "w1 = Function(V)   \n",
    "a=inner(grad(u),grad(v))*dx\n",
    "#a=Constant(0.0) \n",
    "        \n",
    "f = Constant(0.0)\n",
    "L = f*v*dx\n",
    "solve(a == L, w1, bcs)"
   ]
  },
  {
   "cell_type": "code",
   "execution_count": 25,
   "metadata": {},
   "outputs": [
    {
     "data": {
      "text/plain": [
       "(414, 3)"
      ]
     },
     "execution_count": 25,
     "metadata": {},
     "output_type": "execute_result"
    }
   ],
   "source": [
    "dof_coords.shape"
   ]
  },
  {
   "cell_type": "code",
   "execution_count": 26,
   "metadata": {},
   "outputs": [],
   "source": [
    "# Save solution to file in VTK format\n",
    "vtkfile = File('multi_shell/solution.pvd')\n",
    "vtkfile << w1"
   ]
  },
  {
   "cell_type": "code",
   "execution_count": 27,
   "metadata": {},
   "outputs": [],
   "source": [
    "#inpaintedImg_3D = np.zeros((dims[0], dims[1], dims[2]))\n",
    "\n",
    "#for i in range(len(sorted_true_sub_indcs)):\n",
    "#    inpaintedImg_3D = inpaintedImg_3D + lh_coefs[i]*data_float[...,sorted_true_sub_indcs[i]]\n",
    "#    #inpaintedImg_3D = inpaintedImg_3D + lh_coefs[i]*sub_regis_data[...,i]\n",
    "#inpaintedImg_3D = inpaintedImg_3D/np.sum(lh_coefs)"
   ]
  },
  {
   "cell_type": "code",
   "execution_count": 28,
   "metadata": {},
   "outputs": [],
   "source": [
    "#ni_img = nib.Nifti1Image(inpaintedImg_3D, affine=affine)\n",
    "#nib.save(ni_img, \"multi_shell/multi_fast_qspace_BH_volume_image_on_sphere_34_dely_P1.nii\")"
   ]
  },
  {
   "cell_type": "code",
   "execution_count": null,
   "metadata": {},
   "outputs": [],
   "source": []
  },
  {
   "cell_type": "code",
   "execution_count": 29,
   "metadata": {},
   "outputs": [],
   "source": [
    "array_u = nodal_values_u = w1.vector()\n",
    "vertex_values_u = w1.compute_vertex_values()"
   ]
  },
  {
   "cell_type": "code",
   "execution_count": 30,
   "metadata": {},
   "outputs": [
    {
     "name": "stdout",
     "output_type": "stream",
     "text": [
      "<dolfin.cpp.la.PETScVector object at 0x7f43ef5282b0>\n"
     ]
    }
   ],
   "source": [
    "print(array_u)"
   ]
  },
  {
   "cell_type": "code",
   "execution_count": 31,
   "metadata": {},
   "outputs": [
    {
     "name": "stdout",
     "output_type": "stream",
     "text": [
      "0.0\n",
      "0.0\n",
      "0.0\n",
      "0.0\n",
      "0.0\n",
      "0.0\n",
      "0.002791797610854939\n",
      "0.0\n",
      "-0.0003762398786222694\n",
      "0.0\n",
      "0.0\n",
      "0.0002614303920622811\n",
      "0.0\n",
      "0.0\n",
      "0.0\n",
      "0.0\n",
      "-5.9452199682777596e-05\n",
      "0.0\n",
      "0.0\n",
      "0.0\n",
      "0.0\n",
      "0.0\n",
      "0.0\n",
      "0.0\n",
      "0.0\n",
      "0.0\n",
      "0.0\n",
      "0.0\n",
      "0.0\n",
      "-0.012824467045031668\n",
      "-0.06574302554994453\n",
      "0.0\n",
      "0.0\n",
      "0.0\n",
      "0.0008069791507089906\n",
      "0.0\n",
      "0.0\n",
      "0.0\n",
      "0.0\n",
      "0.0\n",
      "0.0\n",
      "-0.016864329371327053\n",
      "0.0\n",
      "0.006748658730750384\n",
      "0.0\n",
      "0.0\n",
      "0.0\n",
      "0.0\n",
      "0.0\n",
      "-0.00013754249766848706\n",
      "0.0\n",
      "0.0\n",
      "0.0\n",
      "0.002895547188616151\n",
      "0.0\n",
      "0.0\n",
      "0.0\n",
      "-0.0020741132627056435\n",
      "0.0\n",
      "0.0\n",
      "0.0\n",
      "0.0\n",
      "0.0\n",
      "0.0\n",
      "0.2791558032140911\n",
      "-0.03622795782627801\n",
      "0.0\n",
      "0.009871184018130983\n",
      "0.0\n",
      "0.007552387674799563\n",
      "-0.034661623039242376\n",
      "0.0\n",
      "0.0\n",
      "0.0\n",
      "0.0\n",
      "0.0\n",
      "0.003550678756246238\n",
      "0.0\n",
      "0.0\n",
      "0.0\n",
      "0.00284452609806469\n",
      "0.0\n",
      "0.0\n",
      "0.0\n",
      "-0.155922463582887\n",
      "0.0\n",
      "0.0\n",
      "0.0\n",
      "0.0\n",
      "0.0\n",
      "0.06110077722897603\n",
      "0.0\n",
      "-0.06243361583122772\n",
      "0.0\n",
      "0.0\n",
      "0.0\n",
      "0.0\n",
      "0.0\n",
      "-0.00026260210655017235\n",
      "0.0\n",
      "0.0\n",
      "0.0\n",
      "0.0\n",
      "0.0\n",
      "0.0\n",
      "0.0\n",
      "0.0\n",
      "0.0\n",
      "-0.05464096978014969\n",
      "0.0\n",
      "0.0\n",
      "0.0\n",
      "0.0\n",
      "0.0\n",
      "0.0\n",
      "0.0\n",
      "0.00039023555605128396\n",
      "-0.003103484900426652\n",
      "0.0\n",
      "-0.05213941150943493\n",
      "0.0\n",
      "0.0\n",
      "0.515229296737042\n",
      "0.0\n",
      "0.0\n",
      "0.0\n",
      "0.0\n",
      "0.2871522034323996\n",
      "0.0\n",
      "0.0\n",
      "0.0\n",
      "-0.0032252652139234434\n",
      "0.0\n",
      "0.0\n",
      "0.0005375647974199492\n",
      "0.0\n",
      "0.0004481508636972505\n",
      "0.0\n",
      "0.0\n",
      "0.0\n",
      "0.0\n",
      "0.0\n",
      "0.0\n",
      "0.0\n",
      "0.0\n",
      "0.0\n",
      "0.0024616094644207163\n",
      "0.0\n",
      "0.0\n",
      "0.0\n",
      "-0.00012732187041994083\n",
      "0.0\n",
      "0.0\n",
      "0.0\n",
      "0.0\n",
      "0.2160949395938805\n",
      "0.0\n",
      "0.0\n",
      "0.0\n",
      "0.0\n",
      "0.0\n",
      "0.0\n",
      "0.0\n",
      "0.0033132898682118046\n",
      "0.0\n",
      "0.0\n",
      "-0.00016169485675540942\n",
      "0.0\n",
      "0.0\n",
      "0.0\n",
      "0.0\n",
      "0.0\n",
      "0.0\n",
      "0.0\n",
      "0.0\n",
      "0.0\n",
      "0.0\n",
      "0.0\n",
      "0.0\n",
      "0.0\n",
      "0.0\n",
      "0.0\n",
      "0.0\n",
      "0.001834959750629487\n",
      "0.0\n",
      "0.0\n",
      "0.0\n",
      "0.0\n",
      "0.0\n",
      "0.0\n",
      "-0.0016068995261637822\n",
      "0.0\n",
      "0.0\n",
      "0.0\n",
      "0.0\n",
      "-0.00016169485675540942\n",
      "0.0\n",
      "0.0015502911880136082\n",
      "0.0\n",
      "0.0\n",
      "0.0\n",
      "0.0\n",
      "0.0\n",
      "0.0\n",
      "0.0\n",
      "0.0\n",
      "0.17375905184111484\n",
      "0.0\n",
      "0.0\n",
      "0.0\n",
      "0.0\n",
      "-0.030959354068013995\n",
      "0.0\n",
      "0.0\n",
      "0.0015502911880136082\n",
      "0.0\n",
      "0.0\n",
      "0.0\n",
      "-0.00012732187041994083\n",
      "0.0\n",
      "-0.0016068995261637822\n",
      "0.0\n",
      "0.0\n",
      "0.0\n",
      "0.0\n",
      "0.2160949395938805\n",
      "0.0\n",
      "0.17375905184111484\n",
      "0.0\n",
      "-0.04679952923972829\n",
      "0.0\n",
      "-0.030959354068013995\n",
      "0.0\n",
      "0.0\n",
      "0.0\n",
      "0.0\n",
      "0.0\n",
      "0.0\n",
      "0.0\n",
      "-0.05213941150943493\n",
      "0.0\n",
      "-0.155922463582887\n",
      "0.515229296737042\n",
      "0.0\n",
      "0.0\n",
      "0.0\n",
      "0.0\n",
      "-0.04679952923972829\n",
      "0.0\n",
      "-0.003103484900426652\n",
      "0.0\n",
      "0.00039023555605128396\n",
      "0.0\n",
      "0.0\n",
      "0.0\n",
      "0.0\n",
      "0.0033132898682118046\n",
      "0.0\n",
      "0.0\n",
      "0.0\n",
      "0.0\n",
      "0.0\n",
      "0.0\n",
      "0.0\n",
      "0.0\n",
      "0.0\n",
      "0.0\n",
      "0.0\n",
      "0.0024616094644207163\n",
      "0.0\n",
      "0.0\n",
      "0.0\n",
      "0.0\n",
      "0.0\n",
      "0.0005375647974199492\n",
      "0.0\n",
      "0.0\n",
      "0.0\n",
      "0.0\n",
      "0.001834959750629487\n",
      "0.0\n",
      "0.0\n",
      "0.0\n",
      "0.0\n",
      "0.0\n",
      "0.0\n",
      "0.00284452609806469\n",
      "0.0\n",
      "0.0\n",
      "0.0\n",
      "0.0\n",
      "0.0\n",
      "0.003550678756246238\n",
      "0.0\n",
      "-0.05464096978014969\n",
      "0.0\n",
      "0.0\n",
      "0.0\n",
      "0.009871184018130983\n",
      "0.0\n",
      "0.0\n",
      "0.0\n",
      "0.0\n",
      "0.0\n",
      "0.0\n",
      "0.0\n",
      "0.0\n",
      "0.0\n",
      "0.0\n",
      "0.2871522034323996\n",
      "0.0\n",
      "0.0\n",
      "-0.034661623039242376\n",
      "0.0\n",
      "0.0\n",
      "0.0\n",
      "0.0004481508636972505\n",
      "0.0\n",
      "0.0\n",
      "0.0\n",
      "0.0\n",
      "-0.0032252652139234434\n",
      "0.0\n",
      "-0.06243361583122772\n",
      "0.0\n",
      "0.0008069791507089906\n",
      "0.0\n",
      "-0.03622795782627801\n",
      "0.0\n",
      "0.2791558032140911\n",
      "0.0\n",
      "0.0\n",
      "0.06110077722897603\n",
      "0.0\n",
      "0.0\n",
      "0.0\n",
      "0.0\n",
      "-0.00013754249766848706\n",
      "0.0\n",
      "0.0\n",
      "0.0\n",
      "0.0\n",
      "0.0\n",
      "0.0\n",
      "0.0\n",
      "0.007552387674799563\n",
      "0.0\n",
      "0.0\n",
      "0.0\n",
      "0.0\n",
      "0.0\n",
      "0.0\n",
      "0.0\n",
      "0.0\n",
      "0.0\n",
      "-0.0020741132627056435\n",
      "0.0\n",
      "0.0\n",
      "0.0\n",
      "0.0\n",
      "0.0\n",
      "0.0\n",
      "0.0\n",
      "0.0\n",
      "0.0\n",
      "-0.06574302554994453\n",
      "-0.012824467045031668\n",
      "0.0\n",
      "0.0\n",
      "0.0\n",
      "0.0\n",
      "0.0\n",
      "-0.00026260210655017235\n",
      "0.0\n",
      "0.0\n",
      "0.0\n",
      "0.0\n",
      "0.0\n",
      "-0.016864329371327053\n",
      "0.0\n",
      "0.006748658730750384\n",
      "0.0\n",
      "0.0\n",
      "0.0\n",
      "0.0\n",
      "0.0\n",
      "-5.9452199682777596e-05\n",
      "0.0\n",
      "0.0\n",
      "0.002791797610854939\n",
      "0.0\n",
      "0.0\n",
      "0.0\n",
      "0.0\n",
      "0.002895547188616151\n",
      "0.0\n",
      "0.0\n",
      "0.0\n",
      "0.0\n",
      "0.0\n",
      "0.0\n",
      "0.0\n",
      "0.0\n",
      "0.0\n",
      "0.0\n",
      "0.0\n",
      "0.0\n",
      "0.0\n",
      "-0.0003762398786222694\n",
      "0.0\n",
      "0.0\n",
      "0.0002614303920622811\n",
      "0.0\n",
      "0.0\n"
     ]
    }
   ],
   "source": [
    "for i in range(len(array_u)):\n",
    "    print(array_u[i])"
   ]
  },
  {
   "cell_type": "code",
   "execution_count": 32,
   "metadata": {},
   "outputs": [
    {
     "data": {
      "text/plain": [
       "-0.155922463582887"
      ]
     },
     "execution_count": 32,
     "metadata": {},
     "output_type": "execute_result"
    }
   ],
   "source": [
    "min(array_u)"
   ]
  },
  {
   "cell_type": "code",
   "execution_count": 33,
   "metadata": {},
   "outputs": [
    {
     "data": {
      "text/plain": [
       "414"
      ]
     },
     "execution_count": 33,
     "metadata": {},
     "output_type": "execute_result"
    }
   ],
   "source": [
    "len(array_u)"
   ]
  },
  {
   "cell_type": "code",
   "execution_count": null,
   "metadata": {},
   "outputs": [],
   "source": []
  },
  {
   "cell_type": "code",
   "execution_count": 34,
   "metadata": {},
   "outputs": [
    {
     "data": {
      "text/plain": [
       "0.22293058"
      ]
     },
     "execution_count": 34,
     "metadata": {},
     "output_type": "execute_result"
    }
   ],
   "source": [
    "bvecs[1][0]"
   ]
  },
  {
   "cell_type": "code",
   "execution_count": 35,
   "metadata": {},
   "outputs": [
    {
     "data": {
      "text/plain": [
       "0.83703119"
      ]
     },
     "execution_count": 35,
     "metadata": {},
     "output_type": "execute_result"
    }
   ],
   "source": [
    "bvecs[1][2]"
   ]
  },
  {
   "cell_type": "code",
   "execution_count": 36,
   "metadata": {},
   "outputs": [
    {
     "data": {
      "text/plain": [
       "43.0"
      ]
     },
     "execution_count": 36,
     "metadata": {},
     "output_type": "execute_result"
    }
   ],
   "source": [
    "data_float[63,54,30,1]"
   ]
  },
  {
   "cell_type": "code",
   "execution_count": 37,
   "metadata": {},
   "outputs": [
    {
     "data": {
      "text/plain": [
       "46.0"
      ]
     },
     "execution_count": 37,
     "metadata": {},
     "output_type": "execute_result"
    }
   ],
   "source": [
    "data_float[63,54,30,14]"
   ]
  },
  {
   "cell_type": "code",
   "execution_count": 38,
   "metadata": {},
   "outputs": [
    {
     "data": {
      "text/plain": [
       "13.0"
      ]
     },
     "execution_count": 38,
     "metadata": {},
     "output_type": "execute_result"
    }
   ],
   "source": [
    "data_float[63,54,30,17]"
   ]
  },
  {
   "cell_type": "code",
   "execution_count": 39,
   "metadata": {},
   "outputs": [
    {
     "data": {
      "text/plain": [
       "48.0"
      ]
     },
     "execution_count": 39,
     "metadata": {},
     "output_type": "execute_result"
    }
   ],
   "source": [
    "data_float[63,54,30,20]"
   ]
  },
  {
   "cell_type": "code",
   "execution_count": 40,
   "metadata": {},
   "outputs": [
    {
     "data": {
      "text/plain": [
       "25.0"
      ]
     },
     "execution_count": 40,
     "metadata": {},
     "output_type": "execute_result"
    }
   ],
   "source": [
    "data_float[63,54,30,22]"
   ]
  },
  {
   "cell_type": "code",
   "execution_count": 41,
   "metadata": {},
   "outputs": [
    {
     "data": {
      "text/plain": [
       "52.0"
      ]
     },
     "execution_count": 41,
     "metadata": {},
     "output_type": "execute_result"
    }
   ],
   "source": [
    "data_float[63,54,30,29]"
   ]
  },
  {
   "cell_type": "code",
   "execution_count": null,
   "metadata": {},
   "outputs": [],
   "source": []
  },
  {
   "cell_type": "code",
   "execution_count": 42,
   "metadata": {},
   "outputs": [],
   "source": [
    "#error_L2 = errornorm(u_D, w, 'L2')\n",
    "#vertex_values_u_D = u_D.compute_vertex_values(mesh)\n",
    "#vertex_values_u = w.compute_vertex_values(mesh)\n",
    "#error_max = np.max(np.abs(vertex_values_u_D - vertex_values_u))\n",
    "#print(error_max)\n",
    "#print(error_L2)"
   ]
  },
  {
   "cell_type": "code",
   "execution_count": null,
   "metadata": {},
   "outputs": [],
   "source": []
  },
  {
   "cell_type": "code",
   "execution_count": null,
   "metadata": {},
   "outputs": [],
   "source": []
  },
  {
   "cell_type": "code",
   "execution_count": 43,
   "metadata": {},
   "outputs": [
    {
     "data": {
      "text/plain": [
       "array([-0.70739847,  0.15345097,  0.68995672])"
      ]
     },
     "execution_count": 43,
     "metadata": {},
     "output_type": "execute_result"
    }
   ],
   "source": [
    "bvecs[27]"
   ]
  },
  {
   "cell_type": "code",
   "execution_count": 44,
   "metadata": {},
   "outputs": [
    {
     "data": {
      "text/plain": [
       "4294967295"
      ]
     },
     "execution_count": 44,
     "metadata": {},
     "output_type": "execute_result"
    }
   ],
   "source": [
    "x_point = Point(*[bvecs[27]])\n",
    "mesh.bounding_box_tree().compute_first_entity_collision(x_point)"
   ]
  },
  {
   "cell_type": "code",
   "execution_count": 45,
   "metadata": {},
   "outputs": [],
   "source": [
    "#mesh.bounding_box_tree().compute_closest_point(x_point)"
   ]
  },
  {
   "cell_type": "code",
   "execution_count": 46,
   "metadata": {},
   "outputs": [
    {
     "ename": "NameError",
     "evalue": "name 'inpaintedImg_3D' is not defined",
     "output_type": "error",
     "traceback": [
      "\u001b[0;31m---------------------------------------------------------------------------\u001b[0m",
      "\u001b[0;31mNameError\u001b[0m                                 Traceback (most recent call last)",
      "\u001b[0;32m<ipython-input-46-33aacade091b>\u001b[0m in \u001b[0;36m<module>\u001b[0;34m\u001b[0m\n\u001b[0;32m----> 1\u001b[0;31m \u001b[0minpaintedImg_3D\u001b[0m\u001b[0;34m.\u001b[0m\u001b[0mshape\u001b[0m\u001b[0;34m\u001b[0m\u001b[0;34m\u001b[0m\u001b[0m\n\u001b[0m",
      "\u001b[0;31mNameError\u001b[0m: name 'inpaintedImg_3D' is not defined"
     ]
    }
   ],
   "source": [
    "inpaintedImg_3D.shape"
   ]
  },
  {
   "cell_type": "code",
   "execution_count": null,
   "metadata": {},
   "outputs": [],
   "source": [
    "max(inpaintedImg_3D.flatten())"
   ]
  },
  {
   "cell_type": "code",
   "execution_count": null,
   "metadata": {},
   "outputs": [],
   "source": []
  },
  {
   "cell_type": "code",
   "execution_count": null,
   "metadata": {},
   "outputs": [],
   "source": []
  }
 ],
 "metadata": {
  "kernelspec": {
   "display_name": "Python 3",
   "language": "python",
   "name": "python3"
  },
  "language_info": {
   "codemirror_mode": {
    "name": "ipython",
    "version": 3
   },
   "file_extension": ".py",
   "mimetype": "text/x-python",
   "name": "python",
   "nbconvert_exporter": "python",
   "pygments_lexer": "ipython3",
   "version": "3.6.7"
  }
 },
 "nbformat": 4,
 "nbformat_minor": 2
}
