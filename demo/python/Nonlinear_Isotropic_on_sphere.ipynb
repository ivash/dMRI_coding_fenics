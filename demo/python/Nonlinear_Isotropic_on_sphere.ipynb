{
 "cells": [
  {
   "cell_type": "code",
   "execution_count": 1,
   "metadata": {},
   "outputs": [],
   "source": [
    "import dipy"
   ]
  },
  {
   "cell_type": "code",
   "execution_count": 2,
   "metadata": {},
   "outputs": [],
   "source": [
    "from dipy.io.image import load_nifti, save_nifti\n",
    "from dipy.io.gradients import read_bvals_bvecs"
   ]
  },
  {
   "cell_type": "code",
   "execution_count": 3,
   "metadata": {},
   "outputs": [],
   "source": [
    "from fenics import *\n",
    "from mshr import *\n",
    "#from math import pi, sin, cos, sqrt\n",
    "import math\n",
    "import matplotlib.pyplot as plt\n",
    "import numpy as np\n",
    "import nibabel as nib\n",
    "import os"
   ]
  },
  {
   "cell_type": "code",
   "execution_count": 4,
   "metadata": {
    "scrolled": true
   },
   "outputs": [
    {
     "name": "stdout",
     "output_type": "stream",
     "text": [
      "data.shape (104, 104, 72, 32)\n"
     ]
    }
   ],
   "source": [
    "fname = 'dMRI_data/ss-ras_data.nii.gz' \n",
    "bval_fname = 'dMRI_data/ss-ras.bval' \n",
    "bvec_fname = 'dMRI_data/ss-ras.bvec'\n",
    "\n",
    "data, affine = load_nifti(fname)\n",
    "bvals, bvecs = read_bvals_bvecs(bval_fname, bvec_fname)\n",
    "print('data.shape (%d, %d, %d, %d)' % data.shape)\n",
    "\n",
    "data_float = data.astype(np.float32)\n",
    "\n",
    "dataMaxVal = int(max(data.flatten()))\n",
    "dataMinVal = int(min(data.flatten()))\n",
    "\n",
    "#print('b values: ', bvals)\n",
    "#print('b vectors: ', bvecs)"
   ]
  },
  {
   "cell_type": "code",
   "execution_count": null,
   "metadata": {},
   "outputs": [],
   "source": []
  },
  {
   "cell_type": "code",
   "execution_count": null,
   "metadata": {},
   "outputs": [],
   "source": []
  },
  {
   "cell_type": "code",
   "execution_count": 5,
   "metadata": {},
   "outputs": [],
   "source": [
    "def project_point_onto_affine_subspace(p, V):\n",
    "    \"\"\"Projects a point onto an affine subspace\n",
    "\n",
    "    p.shape = (N,)   OR (num_pts, N) for vectorization over many points / affine subspaces\n",
    "    V.shape = (k, N) OR (num_pts, k, N) for vectorization\n",
    "\n",
    "    N = dimension of ambient space\n",
    "    k-1 = dimension of affine subspace\n",
    "\n",
    "    For a single point / affine subspace:\n",
    "        - p is the point in R^N to be projected onto the affine subspace\n",
    "        - The affine subspace is the set of all affine combinations\n",
    "        of rows, V[i,:], of the matrix V\n",
    "\n",
    "    Vectorization:\n",
    "    For many points / affine subspaces, each point is\n",
    "    projected onto its corresponding affine subspace\n",
    "        p[i,:] is the ith point\n",
    "        V[i,:,:] is the matrix defining the ith affine subspace\n",
    "\n",
    "    Example usage:\n",
    "        import numpy as np\n",
    "        spatial_dim = 3\n",
    "        p1 = np.random.randn(spatial_dim)\n",
    "        V1 = np.array([[2., 0., 0.],\n",
    "                      [2., 1., 0.],\n",
    "                      [2., 0., 1.]])\n",
    "        p2 = np.random.randn(spatial_dim)\n",
    "        V2 = np.array([[0., 3., 0.],\n",
    "                       [1., 3., 0.],\n",
    "                       [0., 3., 1.]])\n",
    "        p = np.stack([p1, p2])\n",
    "        V = np.stack([V1, V2])\n",
    "        projected_p, affine_coordinates = project_point_onto_affine_subspace(p, V)\n",
    "        projected_p1 = projected_p[0,:]\n",
    "        projected_p2 = projected_p[1,:]\n",
    "        print('p1=', p1)\n",
    "        print('projected_p1=', projected_p1)\n",
    "        print('p2=', p2)\n",
    "        print('projected_p2=', projected_p2)\n",
    "    \"\"\"\n",
    "    if len(p.shape) == 1:\n",
    "        PP = p.reshape((1, p.shape[0]))\n",
    "        VV = V.reshape((1, V.shape[0], V.shape[1]))\n",
    "    else:\n",
    "        PP = p\n",
    "        VV = V\n",
    "    num_pts, k, N = VV.shape\n",
    "\n",
    "    if k == 1:\n",
    "        affine_coordinates = np.ones((num_pts, 1))\n",
    "    else:\n",
    "        VV0 = VV[:, 0, :].reshape((num_pts, 1, N))\n",
    "        dVV = VV[:, 1: :].reshape((num_pts, k-1, N)) - VV0\n",
    "        dPP = PP.reshape((num_pts, 1, N)) - VV0\n",
    "\n",
    "        if k == 2:\n",
    "            PHI = np.sum(dVV * dVV, axis=-1).reshape((num_pts))\n",
    "            RHS = np.sum(dVV * dPP, axis=-1).reshape((num_pts))\n",
    "            cc_rest = (RHS / PHI).reshape((num_pts, 1))\n",
    "        else:\n",
    "            PHI = np.einsum('xiz,xjz->xij', dVV, dVV) # shape = (num_pts, k-1, k-1)\n",
    "            iPHI = np.linalg.inv(PHI) # shape = (num_pts, k-1, k-1)\n",
    "\n",
    "            RHS = np.sum(dVV * dPP, axis=-1)  # shape = (num_pts, k-1)\n",
    "            cc_rest = np.einsum('pij,pj->pi', iPHI, RHS)  # shape = (num_pts, k-1)\n",
    "\n",
    "        cc_first = (1. - np.sum(cc_rest, axis=1)).reshape((num_pts, 1))\n",
    "        affine_coordinates = np.concatenate([cc_first, cc_rest], axis=1) # shape = (num_pts, k)\n",
    "\n",
    "    PP_projected = np.einsum('pi,pij->pj', affine_coordinates, VV) # shape = (num_pts, N)\n",
    "\n",
    "    if len(p.shape) == 1:\n",
    "        PP_projected = PP_projected.reshape(-1)\n",
    "        affine_coordinates = affine_coordinates.reshape(-1)\n",
    "    return PP_projected, affine_coordinates\n",
    "\n",
    "def powerset(s):\n",
    "    # NOT MY CODE. FROM USER \"hughdbrown\" ON STACKOVERFLOW HERE:\n",
    "    # https://stackoverflow.com/a/1482320/484944\n",
    "    x = len(s)\n",
    "    masks = [1 << i for i in range(x)]\n",
    "    for i in range(1 << x):\n",
    "        yield [ss for mask, ss in zip(masks, s) if i & mask]\n",
    "\n",
    "def closest_point_on_simplex(p, V):\n",
    "    \"\"\"Projects a point onto a simplex (triangle, tetrahedron, etc)\n",
    "\n",
    "    p.shape = (N,)   OR (num_pts, N) for vectorization over many points/simplices\n",
    "    V.shape = (k, N) OR (num_pts, k, N) for vectorization\n",
    "\n",
    "    N = dimension of ambient space\n",
    "    k-1 = dimension of simplex\n",
    "\n",
    "    For a single point/simplex:\n",
    "        - p is the point in R^N to be projected onto the simplex\n",
    "        - The simplex is the set of all convex combinations\n",
    "        of rows, V[i,:], of the matrix V\n",
    "\n",
    "    Vectorization:\n",
    "    For many points/simplices, each point is\n",
    "    projected onto its corresponding simplex\n",
    "        p[i,:] is the ith point\n",
    "        V[i,:,:] is the matrix defining the ith simplex\n",
    "\n",
    "    Example usage:\n",
    "        import numpy as np\n",
    "        import matplotlib.pyplot as plt\n",
    "        p1 = np.array([1.1, 0.4])\n",
    "        V1 = np.array([[0., 0.],\n",
    "                       [0., 1.],\n",
    "                       [1., 0.]])\n",
    "        p2 = np.array([-0.3, 1.1])\n",
    "        V2 = np.array([[-1.0, 0.],\n",
    "                       [0.,   0.],\n",
    "                       [-0.5, 0.5]])\n",
    "        p = np.stack([p1, p2])\n",
    "        V = np.stack([V1, V2])\n",
    "        projected_p = closest_point_on_simplex(p, V)\n",
    "        projected_p1 = projected_p[0,:]\n",
    "        projected_p2 = projected_p[1,:]\n",
    "        plt.figure()\n",
    "        t1 = plt.Polygon(V1)\n",
    "        plt.gca().add_patch(t1)\n",
    "        plt.plot([p1[0], projected_p1[0]],\n",
    "                 [p1[1], projected_p1[1]], 'r')\n",
    "        t2 = plt.Polygon(V2)\n",
    "        plt.gca().add_patch(t2)\n",
    "        plt.plot([p2[0], projected_p2[0]],\n",
    "                 [p2[1], projected_p2[1]], 'r')\n",
    "        plt.gca().set_aspect('equal')\n",
    "        plt.show()\n",
    "    \"\"\"\n",
    "    if len(p.shape) == 1:\n",
    "        PP = p.reshape((1, p.shape[0]))\n",
    "        VV = V.reshape((1, V.shape[0], V.shape[1]))\n",
    "    else:\n",
    "        PP = p\n",
    "        VV = V\n",
    "    num_pts, k, N = VV.shape\n",
    "\n",
    "    subsets = list(powerset(list(range(k)))) # e.g., [[], [0], [1], [2], [0,1], [0,2], [1,2], [0,1,2]]\n",
    "    QQ = list()\n",
    "    CC = list()\n",
    "    for s in subsets:\n",
    "        if s:\n",
    "            simplicial_facet = VV[:,s,:]\n",
    "            Q, C = project_point_onto_affine_subspace(PP, simplicial_facet)\n",
    "            QQ.append(Q)\n",
    "            CC.append(C)\n",
    "\n",
    "    distances = np.stack([np.linalg.norm(Q - PP, axis=-1) for Q in QQ]) # shape=(num_facets, num_pts)\n",
    "\n",
    "    good_inds = np.stack([(np.all(0. <= C, axis=1) & np.all(C <= 1., axis=1)) for C in CC]) # shape=(num_facets, num_pts)\n",
    "    bad_inds = np.logical_not(good_inds)\n",
    "    distances[bad_inds] = np.inf\n",
    "    closest_inds = np.expand_dims(np.argmin(distances[:, :, None], axis=0), axis=0)\n",
    "\n",
    "    QQ_stack = np.stack(QQ) # shape=(num_facets, num_pts, N)\n",
    "    PP_projected = np.take_along_axis(QQ_stack, closest_inds, axis=0)[0,:,:]\n",
    "\n",
    "    if len(p.shape) == 1:\n",
    "        PP_projected = PP_projected.reshape(-1)\n",
    "    return PP_projected\n",
    "\n",
    "def closest_point_in_mesh(p, mesh):\n",
    "    \"\"\"Finds the nearest point in a mesh to a given point\n",
    "    p is the point or points (numpy array)\n",
    "    mesh is the fenics/dolfin mesh\n",
    "\n",
    "    p.shape = (N,) OR (num_pts, N) for vectorization over many points\n",
    "    N = dimension of ambient space\n",
    "\n",
    "    Example usage:\n",
    "        import numpy as np\n",
    "        import dolfin as dl\n",
    "        import matplotlib.pyplot as plt\n",
    "        mesh = dl.UnitSquareMesh(13,9)\n",
    "        num_pts = 20\n",
    "        p = np.random.randn(num_pts, 2) + np.array([0.5, 0.5])\n",
    "        closest_p = closest_point_in_mesh(p, mesh)\n",
    "        plt.figure()\n",
    "        dl.plot(mesh)\n",
    "        for ii in range(num_pts):\n",
    "            plt.plot([p[ii,0], closest_p[ii,0]], [p[ii,1], closest_p[ii,1]], 'b')\n",
    "            plt.plot(p[ii,0], p[ii,1], '*k')\n",
    "            plt.plot(closest_p[ii,0], closest_p[ii,1], '.r')\n",
    "        plt.show()\n",
    "    \"\"\"\n",
    "    if len(p.shape) == 1:\n",
    "        PP = p[None,:]\n",
    "    else:\n",
    "        PP = p\n",
    "    num_pts, N = PP.shape\n",
    "    tdim = mesh.topology().dim()\n",
    "    k = tdim + 1\n",
    "\n",
    "    VV = np.zeros((num_pts, k, N))\n",
    "    bbt = mesh.bounding_box_tree()\n",
    "    for ii in range(num_pts):\n",
    "        pi = PP[ii,:]\n",
    "        closest_entity, closest_distance = bbt.compute_closest_entity(Point(pi))\n",
    "        closest_cell = mesh.cells()[closest_entity]\n",
    "        vertices_of_closest_cell = mesh.coordinates()[closest_cell, :]\n",
    "        VV[ii, :, :] = vertices_of_closest_cell\n",
    "\n",
    "    closest_PP = closest_point_on_simplex(PP, VV)\n",
    "\n",
    "    if len(p.shape) == 1:\n",
    "        closest_PP = closest_PP.reshape(-1)\n",
    "    return closest_PP"
   ]
  },
  {
   "cell_type": "code",
   "execution_count": null,
   "metadata": {},
   "outputs": [],
   "source": []
  },
  {
   "cell_type": "code",
   "execution_count": 6,
   "metadata": {},
   "outputs": [],
   "source": [
    "#center = Point(0.0, 0.0, 0.0)\n",
    "#sphere = Sphere(center,1.0)\n",
    "#mesh = generate_mesh(sphere,20) # 20 specify the resolution of the mesh\n",
    "#plot(mesh)"
   ]
  },
  {
   "cell_type": "code",
   "execution_count": null,
   "metadata": {},
   "outputs": [],
   "source": []
  },
  {
   "cell_type": "code",
   "execution_count": 7,
   "metadata": {},
   "outputs": [
    {
     "data": {
      "image/png": "[encoded data removed]",
      "text/plain": [
       "<Figure size 432x288 with 1 Axes>"
      ]
     },
     "metadata": {
      "needs_background": "light"
     },
     "output_type": "display_data"
    }
   ],
   "source": [
    "# Mesh and function space\n",
    "#sphere = Sphere(Point(0.0, 0.0, 0.0), 1.0)\n",
    "#vmesh = generate_mesh(sphere, 5)\n",
    "#mesh = BoundaryMesh(vmesh, \"exterior\")\n",
    "#plot(mesh)\n",
    "\n",
    "\n",
    "#mesh = Mesh('LH/mesh_whole_sphere.xml')\n",
    "#mesh = Mesh('LH/mesh.xml')\n",
    "mesh = Mesh('LH/mesh_whole_sphere_myself.xml')\n",
    "plot(mesh)"
   ]
  },
  {
   "cell_type": "code",
   "execution_count": 8,
   "metadata": {},
   "outputs": [
    {
     "name": "stdout",
     "output_type": "stream",
     "text": [
      "3\n"
     ]
    }
   ],
   "source": [
    "print(mesh.topology().dim())"
   ]
  },
  {
   "cell_type": "code",
   "execution_count": 9,
   "metadata": {},
   "outputs": [],
   "source": [
    "if has_linear_algebra_backend(\"Epetra\"):\n",
    "    parameters[\"linear_algebra_backend\"] = \"Epetra\""
   ]
  },
  {
   "cell_type": "code",
   "execution_count": 20,
   "metadata": {},
   "outputs": [
    {
     "name": "stdout",
     "output_type": "stream",
     "text": [
      "dof 54, x = [ 0.22293058 -0.49968055 -0.83703119]\n",
      "dof 5, x = [-0.22293058  0.49968055  0.83703119]\n",
      "dof 49, x = [ 0.97062433 -0.19699152  0.13814011]\n",
      "dof 23, x = [-0.97062433  0.19699152 -0.13814011]\n",
      "dof 35, x = [-0.02572841 -0.94997877  0.31125325]\n",
      "dof 19, x = [ 0.02572841  0.94997877 -0.31125325]\n",
      "dof 42, x = [-0.15568012  0.20317107 -0.96668768]\n",
      "dof 6, x = [ 0.15568012 -0.20317107  0.96668768]\n",
      "dof 14, x = [-0.24489762 -0.19681381  0.9493627 ]\n",
      "dof 53, x = [ 0.24489762  0.19681381 -0.9493627 ]\n",
      "dof 38, x = [-0.85508788 -0.50734621 -0.106886  ]\n",
      "dof 28, x = [0.85508788 0.50734621 0.106886  ]\n",
      "[51.0, 90.0, 92.0, 83.0, 54.0, 106.0]\n",
      "51.0\n",
      "25.5\n",
      "Calling FFC just-in-time (JIT) compiler, this may take some time.\n",
      "Calling FFC just-in-time (JIT) compiler, this may take some time.\n"
     ]
    }
   ],
   "source": [
    "#V = FunctionSpace(mesh, \"CG\", 2)\n",
    "V = FunctionSpace(mesh, \"P\", 1)\n",
    "\n",
    "# get coordinates of DOFs\n",
    "dof_coords = V.tabulate_dof_coordinates()\n",
    "# find nearest DOF:\n",
    "dof1 = np.argmin(np.linalg.norm(dof_coords - bvecs[1], axis=1))\n",
    "print('dof {}, x = {}'.format(dof1, dof_coords[dof1]))\n",
    "dof1_sym = np.argmin(np.linalg.norm(dof_coords + bvecs[1], axis=1))\n",
    "print('dof {}, x = {}'.format(dof1_sym, dof_coords[dof1_sym]))\n",
    "\n",
    "dof14 = np.argmin(np.linalg.norm(dof_coords - bvecs[14], axis=1))\n",
    "print('dof {}, x = {}'.format(dof14, dof_coords[dof14]))\n",
    "dof14_sym = np.argmin(np.linalg.norm(dof_coords + bvecs[14], axis=1))\n",
    "print('dof {}, x = {}'.format(dof14_sym, dof_coords[dof14_sym]))\n",
    "\n",
    "dof17 = np.argmin(np.linalg.norm(dof_coords - bvecs[17], axis=1))\n",
    "print('dof {}, x = {}'.format(dof17, dof_coords[dof17]))\n",
    "dof17_sym = np.argmin(np.linalg.norm(dof_coords + bvecs[17], axis=1))\n",
    "print('dof {}, x = {}'.format(dof17_sym, dof_coords[dof17_sym]))\n",
    "\n",
    "dof20 = np.argmin(np.linalg.norm(dof_coords - bvecs[20], axis=1))\n",
    "print('dof {}, x = {}'.format(dof20, dof_coords[dof20]))\n",
    "dof20_sym = np.argmin(np.linalg.norm(dof_coords + bvecs[20], axis=1))\n",
    "print('dof {}, x = {}'.format(dof20_sym, dof_coords[dof20_sym]))\n",
    "\n",
    "dof22 = np.argmin(np.linalg.norm(dof_coords - bvecs[22], axis=1))\n",
    "print('dof {}, x = {}'.format(dof22, dof_coords[dof22]))\n",
    "dof22_sym = np.argmin(np.linalg.norm(dof_coords + bvecs[22], axis=1))\n",
    "print('dof {}, x = {}'.format(dof22_sym, dof_coords[dof22_sym]))\n",
    "\n",
    "dof29 = np.argmin(np.linalg.norm(dof_coords - bvecs[29], axis=1))\n",
    "print('dof {}, x = {}'.format(dof29, dof_coords[dof29]))\n",
    "dof29_sym = np.argmin(np.linalg.norm(dof_coords + bvecs[29], axis=1))\n",
    "print('dof {}, x = {}'.format(dof29_sym, dof_coords[dof29_sym]))\n",
    "\n",
    "# now define a DirichletBC at that point\n",
    "bcs = [DirichletBC(V, Constant(data_float[60,50,56,1]),\n",
    "                 'near(x[0], {x}) && near(x[1], {y}) && near(x[2], {z})'.format(x=dof_coords[dof1][0], y=dof_coords[dof1][1], z=dof_coords[dof1][2]),\n",
    "                 'pointwise'),\n",
    "      DirichletBC(V, Constant(data_float[60,50,56,1]),\n",
    "                 'near(x[0], {x}) && near(x[1], {y}) && near(x[2], {z})'.format(x=dof_coords[dof1_sym][0], y=dof_coords[dof1_sym][1], z=dof_coords[dof1_sym][2]),\n",
    "                 'pointwise'),\n",
    "      \n",
    "      DirichletBC(V, Constant(data_float[60,50,56,14]),\n",
    "                 'near(x[0], {x}) && near(x[1], {y}) && near(x[2], {z})'.format(x=dof_coords[dof14][0], y=dof_coords[dof14][1], z=dof_coords[dof14][2]),\n",
    "                 'pointwise'),\n",
    "      DirichletBC(V, Constant(data_float[60,50,56,14]),\n",
    "                 'near(x[0], {x}) && near(x[1], {y}) && near(x[2], {z})'.format(x=dof_coords[dof14_sym][0], y=dof_coords[dof14_sym][1], z=dof_coords[dof14_sym][2]),\n",
    "                 'pointwise'),\n",
    "      \n",
    "      DirichletBC(V, Constant(data_float[60,50,56,17]),\n",
    "                 'near(x[0], {x}) && near(x[1], {y}) && near(x[2], {z})'.format(x=dof_coords[dof17][0], y=dof_coords[dof17][1], z=dof_coords[dof17][2]),\n",
    "                 'pointwise'),\n",
    "      DirichletBC(V, Constant(data_float[60,50,56,17]),\n",
    "                 'near(x[0], {x}) && near(x[1], {y}) && near(x[2], {z})'.format(x=dof_coords[dof17_sym][0], y=dof_coords[dof17_sym][1], z=dof_coords[dof17_sym][2]),\n",
    "                 'pointwise'),\n",
    "      \n",
    "      DirichletBC(V, Constant(data_float[60,50,56,20]),\n",
    "                 'near(x[0], {x}) && near(x[1], {y}) && near(x[2], {z})'.format(x=dof_coords[dof20][0], y=dof_coords[dof20][1], z=dof_coords[dof20][2]),\n",
    "                 'pointwise'),\n",
    "      DirichletBC(V, Constant(data_float[60,50,56,20]),\n",
    "                 'near(x[0], {x}) && near(x[1], {y}) && near(x[2], {z})'.format(x=dof_coords[dof20_sym][0], y=dof_coords[dof20_sym][1], z=dof_coords[dof20_sym][2]),\n",
    "                 'pointwise'),\n",
    "      \n",
    "      DirichletBC(V, Constant(data_float[60,50,56,22]),\n",
    "                 'near(x[0], {x}) && near(x[1], {y}) && near(x[2], {z})'.format(x=dof_coords[dof22][0], y=dof_coords[dof22][1], z=dof_coords[dof22][2]),\n",
    "                 'pointwise'),\n",
    "      DirichletBC(V, Constant(data_float[60,50,56,22]),\n",
    "                 'near(x[0], {x}) && near(x[1], {y}) && near(x[2], {z})'.format(x=dof_coords[dof22_sym][0], y=dof_coords[dof22_sym][1], z=dof_coords[dof22_sym][2]),\n",
    "                 'pointwise'),\n",
    "      \n",
    "      DirichletBC(V, Constant(data_float[60,50,56,29]),\n",
    "                 'near(x[0], {x}) && near(x[1], {y}) && near(x[2], {z})'.format(x=dof_coords[dof29][0], y=dof_coords[dof29][1], z=dof_coords[dof29][2]),\n",
    "                 'pointwise'),\n",
    "      DirichletBC(V, Constant(data_float[60,50,56,29]),\n",
    "                 'near(x[0], {x}) && near(x[1], {y}) && near(x[2], {z})'.format(x=dof_coords[dof29_sym][0], y=dof_coords[dof29_sym][1], z=dof_coords[dof29_sym][2]),\n",
    "                 'pointwise'),\n",
    "     ]\n",
    "\n",
    "#Test BC\n",
    "#u_D = Expression('x[0]*x[0] + x[1]*x[1] - 2*x[2]*x[2]', degree=2)\n",
    "#bcs = [DirichletBC(V, u_D, boundary1, method=\"pointwise\"), \n",
    "#       DirichletBC(V, u_D, boundary14, method=\"pointwise\"),\n",
    "#       DirichletBC(V, u_D, boundary17, method=\"pointwise\"),\n",
    "#       DirichletBC(V, u_D, boundary20, method=\"pointwise\"),\n",
    "#       DirichletBC(V, u_D, boundary22, method=\"pointwise\"),\n",
    "#       DirichletBC(V, u_D, boundary29, method=\"pointwise\"),]\n",
    "\n",
    "#u = TrialFunction(V) \n",
    "#v = TestFunction(V)\n",
    "##w = Function(V)      \n",
    "\n",
    "#x = SpatialCoordinate(mesh)\n",
    "#phi = Expression(\"atan2(x[1],x[0])\", degree=2)\n",
    "#theta = Expression(\"acos(x[2]/sqrt(x[0]*x[0]+x[1]*x[1]+x[2]*x[2]))\", degree=2)\n",
    "\n",
    "boundVals = [data_float[60,50,56,1], data_float[60,50,56,14], data_float[60,50,56,17], data_float[60,50,56,20], \n",
    "                         data_float[60,50,56,22], data_float[60,50,56,29]] \n",
    "print(boundVals)\n",
    "print(min(boundVals))\n",
    "lam = min(boundVals)/2.0\n",
    "print(lam)\n",
    "#lam = Constant(3.0)\n",
    "\n",
    "#f = Constant(0.0)\n",
    "\n",
    "\n",
    "##Weak formulation\n",
    "#a2 = (Constant(1.0)/sqrt(Constant(1.0) + u.dx(1)*u.dx(1)/lam**2 + u.dx(2)*u.dx(2)/(lam**2*(sin(theta)))))*(u.dx(1)*v.dx(1))\n",
    "#a3 = (Constant(1.0)/sqrt(Constant(1.0) + u.dx(1)*u.dx(1)/lam**2 + u.dx(2)*u.dx(2)/(lam**2*(sin(theta)))))*(Constant(1.0)/sin(theta)**2)*(u.dx(2)*v.dx(2))\n",
    "#a4 = (Constant(1.0)/sqrt(Constant(1.0) + u.dx(1)*u.dx(1)/lam**2 + u.dx(2)*u.dx(2)/(lam**2*(sin(theta)))))*(cos(theta)/sin(theta))*u.dx(1)*v\n",
    "#F = (a2+a3-a4)*dx\n",
    "#w = Function(V)\n",
    "## Make functional into a vector function\n",
    "#F = action(F, w)\n",
    "## Automatic differentiation\n",
    "#J = derivative(F, w)\n",
    "##problem = NonlinearVariationalProblem(F,u,J=derivative(F,w), bcs=bcs)\n",
    "#problem = NonlinearVariationalProblem(F, w, bcs, J)\n",
    "## Create solver:\n",
    "#solver = NonlinearVariationalSolver(problem)\n",
    "#stype = 'newton'\n",
    "#solver.parameters['nonlinear_solver']=stype\n",
    "#sprms = solver.parameters[stype+'_solver']\n",
    "## Set maximum iterations:\n",
    "#sprms['maximum_iterations'] = 100\n",
    "## Force solver to reach maximum iterations for demonstration:\n",
    "#sprms['relative_tolerance'] = 1e-6\n",
    "#sprms['absolute_tolerance'] = 1e-6\n",
    "#sprms[\"relaxation_parameter\"] = 0.2\n",
    "## Form compiler options\n",
    "#parameters[\"form_compiler\"][\"optimize\"]     = True\n",
    "#parameters[\"form_compiler\"][\"cpp_optimize\"] = True\n",
    "#parameters[\"form_compiler\"][\"representation\"] = \"quadrature\"\n",
    "## Print out other available options:\n",
    "##info(solver.parameters,True)\n",
    "## Run solver:\n",
    "#solver.solve()\n",
    "\n",
    "u = Function(V)\n",
    "v = TestFunction(V)\n",
    "\n",
    "#lam = Constant(35.3)\n",
    "def g(u):\n",
    "    return Constant(1.0)/sqrt(Constant(1.0) + (grad(u)[0]*grad(u)[0] + grad(u)[1]*grad(u)[1] + grad(u)[2]*grad(u)[2])/lam**2)\n",
    "\n",
    "#F = inner((Constant(1.0)/sqrt(Constant(1.0) + u.dx(1)*u.dx(1)/lam**2 + u.dx(2)*u.dx(2)/lam**2))*grad(u), grad(v))*dx\n",
    "F = inner(g(u)*grad(u), grad(v))*dx\n",
    "# Compute solution\n",
    "solve(F == 0, u, bcs, solver_parameters={\"newton_solver\":\n",
    "                                        {\"relative_tolerance\": 1e-6}})\n"
   ]
  },
  {
   "cell_type": "code",
   "execution_count": null,
   "metadata": {},
   "outputs": [],
   "source": []
  },
  {
   "cell_type": "code",
   "execution_count": null,
   "metadata": {},
   "outputs": [],
   "source": []
  },
  {
   "cell_type": "code",
   "execution_count": 21,
   "metadata": {},
   "outputs": [],
   "source": [
    "# Save solution to file in VTK format\n",
    "vtkfile = File('NonLinearIsotropic/solution.pvd')\n",
    "vtkfile << u"
   ]
  },
  {
   "cell_type": "code",
   "execution_count": null,
   "metadata": {},
   "outputs": [],
   "source": []
  },
  {
   "cell_type": "code",
   "execution_count": 22,
   "metadata": {},
   "outputs": [],
   "source": [
    "array_u = nodal_values_u = u.vector()\n",
    "vertex_values_u = u.compute_vertex_values()"
   ]
  },
  {
   "cell_type": "code",
   "execution_count": 23,
   "metadata": {},
   "outputs": [
    {
     "name": "stdout",
     "output_type": "stream",
     "text": [
      "<dolfin.cpp.la.PETScVector object at 0x7f7a654eb990>\n"
     ]
    }
   ],
   "source": [
    "print(array_u)"
   ]
  },
  {
   "cell_type": "code",
   "execution_count": 24,
   "metadata": {},
   "outputs": [
    {
     "name": "stdout",
     "output_type": "stream",
     "text": [
      "-3.9369793542963474e+156\n",
      "-1.2500707205901032e+156\n",
      "-6.5660030601004065e+156\n",
      "-3.056937946131048e+156\n",
      "5.029207834056895e+155\n",
      "51.0\n",
      "83.0\n",
      "2.4929900888657996e+156\n",
      "4.970698980470949e+155\n",
      "-4.1607135591515004e+156\n",
      "3.5830468296696625e+156\n",
      "-2.2966482205193795e+156\n",
      "1.9156316708371746e+156\n",
      "-3.050690347459316e+155\n",
      "54.0\n",
      "-9.190659713327446e+162\n",
      "3.757846523948676e+156\n",
      "3.1652333595806783e+156\n",
      "-4.160713559258014e+156\n",
      "92.0\n",
      "7.442858844017144e+156\n",
      "-2.8949109621836713e+156\n",
      "4.970698981974068e+155\n",
      "90.0\n",
      "9.54046358997763e+155\n",
      "2.8685636908707593e+158\n",
      "1.2394549166197605e+156\n",
      "1.6898409180984558e+158\n",
      "106.0\n",
      "1.915631670812468e+156\n",
      "-6.566003062027836e+156\n",
      "-2.894910962505374e+156\n",
      "2.4929900890015774e+156\n",
      "7.44285884539626e+156\n",
      "3.1652333600053577e+156\n",
      "92.0\n",
      "-1.694577270515398e+155\n",
      "3.0311499995651498e+156\n",
      "106.0\n",
      "1.6898409181227077e+158\n",
      "2.8685636909109255e+158\n",
      "9.540463590567974e+155\n",
      "83.0\n",
      "-2.1101742118259146e+156\n",
      "-2.296648221265165e+156\n",
      "3.583046829681374e+156\n",
      "3.0311499994900395e+156\n",
      "-1.6945772746504694e+155\n",
      "-2.1101742119093154e+156\n",
      "90.0\n",
      "-3.056937947041199e+156\n",
      "5.029207833157388e+155\n",
      "-3.050690351838582e+155\n",
      "54.0\n",
      "51.0\n",
      "3.757846524657019e+156\n",
      "-1.2500707212826187e+156\n",
      "-3.936979355510851e+156\n",
      "-9.887238713084082e+162\n",
      "1.2394549166892274e+156\n"
     ]
    }
   ],
   "source": [
    "for i in range(len(array_u)):\n",
    "    print(array_u[i])"
   ]
  },
  {
   "cell_type": "code",
   "execution_count": 27,
   "metadata": {},
   "outputs": [
    {
     "data": {
      "text/plain": [
       "-9.887238713084082e+162"
      ]
     },
     "execution_count": 27,
     "metadata": {},
     "output_type": "execute_result"
    }
   ],
   "source": [
    "min(array_u)"
   ]
  },
  {
   "cell_type": "code",
   "execution_count": 26,
   "metadata": {},
   "outputs": [
    {
     "data": {
      "text/plain": [
       "60"
      ]
     },
     "execution_count": 26,
     "metadata": {},
     "output_type": "execute_result"
    }
   ],
   "source": [
    "len(array_u)"
   ]
  },
  {
   "cell_type": "code",
   "execution_count": null,
   "metadata": {},
   "outputs": [],
   "source": []
  },
  {
   "cell_type": "code",
   "execution_count": null,
   "metadata": {},
   "outputs": [],
   "source": [
    "#bvecs[1][0]"
   ]
  },
  {
   "cell_type": "code",
   "execution_count": null,
   "metadata": {},
   "outputs": [],
   "source": [
    "#bvecs[1][2]"
   ]
  },
  {
   "cell_type": "code",
   "execution_count": null,
   "metadata": {},
   "outputs": [],
   "source": [
    "data_float[60,50,56,1]"
   ]
  },
  {
   "cell_type": "code",
   "execution_count": null,
   "metadata": {},
   "outputs": [],
   "source": [
    "data_float[60,50,56,14]"
   ]
  },
  {
   "cell_type": "code",
   "execution_count": null,
   "metadata": {},
   "outputs": [],
   "source": [
    "data_float[60,50,56,17]"
   ]
  },
  {
   "cell_type": "code",
   "execution_count": null,
   "metadata": {},
   "outputs": [],
   "source": [
    "data_float[60,50,56,20]"
   ]
  },
  {
   "cell_type": "code",
   "execution_count": null,
   "metadata": {},
   "outputs": [],
   "source": [
    "data_float[60,50,56,22]"
   ]
  },
  {
   "cell_type": "code",
   "execution_count": null,
   "metadata": {},
   "outputs": [],
   "source": [
    "data_float[60,50,56,29]"
   ]
  },
  {
   "cell_type": "code",
   "execution_count": null,
   "metadata": {},
   "outputs": [],
   "source": []
  },
  {
   "cell_type": "code",
   "execution_count": null,
   "metadata": {},
   "outputs": [],
   "source": [
    "#error_L2 = errornorm(u_D, w, 'L2')\n",
    "#vertex_values_u_D = u_D.compute_vertex_values(mesh)\n",
    "#vertex_values_u = w.compute_vertex_values(mesh)\n",
    "#error_max = np.max(np.abs(vertex_values_u_D - vertex_values_u))\n",
    "#print(error_max)\n",
    "#print(error_L2)"
   ]
  },
  {
   "cell_type": "code",
   "execution_count": null,
   "metadata": {},
   "outputs": [],
   "source": []
  },
  {
   "cell_type": "code",
   "execution_count": null,
   "metadata": {},
   "outputs": [],
   "source": []
  },
  {
   "cell_type": "code",
   "execution_count": null,
   "metadata": {},
   "outputs": [],
   "source": [
    "#bvecs[27]"
   ]
  },
  {
   "cell_type": "code",
   "execution_count": null,
   "metadata": {},
   "outputs": [],
   "source": [
    "#x_point = Point(*[bvecs[27]])\n",
    "#mesh.bounding_box_tree().compute_first_entity_collision(x_point)"
   ]
  },
  {
   "cell_type": "code",
   "execution_count": null,
   "metadata": {},
   "outputs": [],
   "source": [
    "#mesh.bounding_box_tree().compute_closest_point(x_point)"
   ]
  },
  {
   "cell_type": "code",
   "execution_count": null,
   "metadata": {},
   "outputs": [],
   "source": []
  },
  {
   "cell_type": "code",
   "execution_count": null,
   "metadata": {},
   "outputs": [],
   "source": []
  },
  {
   "cell_type": "code",
   "execution_count": null,
   "metadata": {},
   "outputs": [],
   "source": [
    "closest_p = closest_point_in_mesh(bvecs[27], mesh)\n",
    "print(bvecs[27])\n",
    "print(closest_p)\n",
    "print(u(closest_p))"
   ]
  },
  {
   "cell_type": "code",
   "execution_count": null,
   "metadata": {},
   "outputs": [],
   "source": [
    "closest_p = closest_point_in_mesh(-bvecs[27], mesh)\n",
    "print(-bvecs[27])\n",
    "print(closest_p)\n",
    "print(u(closest_p))"
   ]
  },
  {
   "cell_type": "code",
   "execution_count": null,
   "metadata": {},
   "outputs": [],
   "source": []
  },
  {
   "cell_type": "code",
   "execution_count": null,
   "metadata": {},
   "outputs": [],
   "source": [
    "array_1 = np.array([[1, 2, 7], [3, 4, 8]])"
   ]
  },
  {
   "cell_type": "code",
   "execution_count": null,
   "metadata": {},
   "outputs": [],
   "source": [
    "array_2 = np.array([[1, 2], [3, 9], [4, 16]]) "
   ]
  },
  {
   "cell_type": "code",
   "execution_count": null,
   "metadata": {},
   "outputs": [],
   "source": [
    "np.dot(array_1, array_2)"
   ]
  },
  {
   "cell_type": "code",
   "execution_count": null,
   "metadata": {},
   "outputs": [],
   "source": []
  },
  {
   "cell_type": "code",
   "execution_count": null,
   "metadata": {},
   "outputs": [],
   "source": []
  }
 ],
 "metadata": {
  "kernelspec": {
   "display_name": "Python 3",
   "language": "python",
   "name": "python3"
  },
  "language_info": {
   "codemirror_mode": {
    "name": "ipython",
    "version": 3
   },
   "file_extension": ".py",
   "mimetype": "text/x-python",
   "name": "python",
   "nbconvert_exporter": "python",
   "pygments_lexer": "ipython3",
   "version": "3.6.7"
  }
 },
 "nbformat": 4,
 "nbformat_minor": 2
}
